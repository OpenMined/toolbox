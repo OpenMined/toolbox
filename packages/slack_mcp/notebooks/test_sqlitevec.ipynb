{
 "cells": [
  {
   "cell_type": "code",
   "execution_count": 1,
   "id": "3c209402",
   "metadata": {},
   "outputs": [],
   "source": [
    "from slack_mcp.db import _get_slack_connection"
   ]
  },
  {
   "cell_type": "code",
   "execution_count": 2,
   "id": "ba4d802a",
   "metadata": {},
   "outputs": [],
   "source": [
    "conn = _get_slack_connection()"
   ]
  },
  {
   "cell_type": "code",
   "execution_count": 3,
   "id": "6316c520",
   "metadata": {},
   "outputs": [
    {
     "data": {
      "text/plain": [
       "<sqlite3.Connection at 0x10905bd30>"
      ]
     },
     "execution_count": 3,
     "metadata": {},
     "output_type": "execute_result"
    }
   ],
   "source": [
    "conn"
   ]
  },
  {
   "cell_type": "code",
   "execution_count": 9,
   "id": "5e37ab3d",
   "metadata": {},
   "outputs": [],
   "source": [
    "# cursor.execute(\"DELETE FROM chunk_messages\")\n",
    "# cursor.execute(\"DELETE FROM message_embeddings_vec\")\n",
    "# conn.commit()"
   ]
  },
  {
   "cell_type": "code",
   "execution_count": 5,
   "id": "51178818",
   "metadata": {},
   "outputs": [],
   "source": [
    "cursor = conn.cursor()\n",
    "res = cursor.execute(\"SELECT * FROM message_embeddings_vec\").fetchall()"
   ]
  },
  {
   "cell_type": "code",
   "execution_count": 7,
   "id": "c381ad9a",
   "metadata": {},
   "outputs": [
    {
     "name": "stdout",
     "output_type": "stream",
     "text": [
      "Hey <@U04UFSV9RT8>, nice to meet you! Apologies for the delay, I was already offline when Andrew posted yesterday. Happy to hear you are interested to test the product we are building! I will be doing some casual test sessions over the coming weeks in which I will walk you through installation, usage and ask some questions. Only requirements are\n",
      "\n",
      "1) that you are on a mac machine (we dont support other operating systems in this early version)\n",
      "2) you are on a machine that allows you to install python packages and other software\n",
      "3) you have python and some environment manager like conda or uv installed before the meeting.\n",
      "\n",
      "Looking forward to meet and hear what you think! You can book a slot here\n",
      "<https://calendly.com/koen-k78/new-meeting>\n",
      "\n",
      "\n",
      "*Calendly*\n",
      "*<https://calendly.com/koen-k78/new-meeting|OpenMined product testing session - Koen van der Veen>*\n",
      "Testing session for a product we are building. Please make sure that you are on your personal laptop on which you can install software, more specifically python packages. If you have never played around with mcp, you could give it a shot before the meeting, but this is not a must.\n",
      "[0.0, 0.0, 0.0, 0.0, 0.0, 0.0, 0.0, 0.0, 0.0, 0.0]\n",
      "Hey Koen! Meet Nara. We've just met as they're interested in trying out the MCP prototype!\n",
      "[0.0, 0.0, 0.0, 0.0, 0.0, 0.0, 0.0, 0.0, 0.0, 0.0]\n",
      "Very curious to hear your thoughts Ben!\n",
      "[0.0, 0.0, 0.0, 0.0, 0.0, 0.0, 0.0, 0.0, 0.0, 0.0]\n",
      "Hey Koen — please meet Ben Santos, who is interested in the MCP Prototype! We've worked together for a number of years in/around the UN PET Lab.\n",
      "[0.0, 0.0, 0.0, 0.0, 0.0, 0.0, 0.0, 0.0, 0.0, 0.0]\n",
      "Apologies for th inconvenience\n",
      "[0.0, 0.0, 0.0, 0.0, 0.0, 0.0, 0.0, 0.0, 0.0, 0.0]\n",
      "Hey <@U04BT20EL7N>, I am very sorry but but I misconfigured calendly for the day you booked a slot (the week starts on sunday in their calendar), so I have to cancel that one. Could you book another one?\n",
      "[0.0, 0.0, 0.0, 0.0, 0.0, 0.0, 0.0, 0.0, 0.0, 0.0]\n",
      "thx!\n",
      "[0.0, 0.0, 0.0, 0.0, 0.0, 0.0, 0.0, 0.0, 0.0, 0.0]\n",
      "one of our AI alliance partners surfaced this, fyi- <https://lu.ma/ub0qfdqk>\n",
      "[0.0, 0.0, 0.0, 0.0, 0.0, 0.0, 0.0, 0.0, 0.0, 0.0]\n",
      "hey not sure how relevant this is to your bet but wanted to flag in case it's of interest - <https://slack.com/intl/en-gb/events/unlocking-the-real-world-power-of-ai-at-work?nc=701ed00000YCgceAAD&amp;d=701ed00000YCSueAAH>\n",
      "[0.0, 0.0, 0.0, 0.0, 0.0, 0.0, 0.0, 0.0, 0.0, 0.0]\n",
      ":rocket: Excited to Announce: SEAL-PYTHON-4.1.2 is Now Open Source! :unlock:\n",
      "\n",
      "I’m thrilled to share that my Python bindings for Microsoft SEAL, one of the world’s leading homomorphic encryption libraries, are now available to everyone on GitHub!\n",
      "\n",
      "With SEAL-PYTHON-4.1.2, you can:\n",
      "\n",
      "Perform privacy-preserving computations in Python using CKKS, BFV and BGV schemes\n",
      "Easily serialize, batch encrypted data.\n",
      "\n",
      "Learn from beginner-friendly examples and detailed documentation\n",
      ":link: Check it out:\n",
      "<https://github.com/chandradutt5746/SEAL-PYTHON-4.1.2|https://github.com/chandradutt5746/SEAL-PYTHON-4.1.2>\n",
      "\n",
      "Whether you’re a researcher, student or developer interested in secure computation and privacy, I hope this project helps you get started with homomorphic encryption in Python.\n",
      "\n",
      "Looking for Collaboration with experienced Cryptography Experts. If you are or know someone please connect with me on my LinkedIn. \n",
      "\n",
      "Thank you for your support. \n",
      "\n",
      "  <#CB4EP5D70|>   <#C010E0SS4PR|>\n",
      "[0.0, 0.0, 0.0, 0.0, 0.0, 0.0, 0.0, 0.0, 0.0, 0.0]\n",
      "Hey everyone —\n",
      "I’m someone who’s really passionate about data privacy and how we can build better tech without compromising personal rights.\n",
      "I’m running a short, anonymous survey to learn how people think about privacy, compliance, and the future of secure data handling. If you’ve got a couple minutes, I’d love to hear your thoughts:\n",
      "<https://forms.gle/8eY4FiP8ys7ZPY8L9>\n",
      "Thanks so much — it really means a lot!\n",
      "[0.0, 0.0, 0.0, 0.0, 0.0, 0.0, 0.0, 0.0, 0.0, 0.0]\n",
      "Hi everyone! :wave: I’m Femi, currently exploring opportunities at the intersection of AI, aviation, systems design, and user engagement. I’m excited to join the OpenMind Stack community to learn, share, and collaborate on innovative approaches to open infrastructure and intelligent systems. Looking forward to connecting with you all! <https://www.linkedin.com/in/oluwafemi-fabiyi/>\n",
      "[0.0, 0.0, 0.0, 0.0, 0.0, 0.0, 0.0, 0.0, 0.0, 0.0]\n"
     ]
    }
   ],
   "source": [
    "from slack_mcp.db import deserialize_float32\n",
    "\n",
    "\n",
    "for i, x in enumerate(res):\n",
    "    print(x[\"chunk_text\"])\n",
    "    # print(dict(x))\n",
    "    encoded_emb = x[\"sample_embedding\"]\n",
    "    embedding = deserialize_float32(encoded_emb)[:10]\n",
    "    print(embedding)\n",
    "    if i>10:\n",
    "        break"
   ]
  },
  {
   "cell_type": "code",
   "execution_count": 33,
   "id": "444f13e5",
   "metadata": {},
   "outputs": [
    {
     "data": {
      "text/plain": [
       "0"
      ]
     },
     "execution_count": 33,
     "metadata": {},
     "output_type": "execute_result"
    }
   ],
   "source": [
    "def n_embeddings(conn):\n",
    "    cursor = conn.cursor()\n",
    "    cursor.execute(\"SELECT COUNT(*) FROM message_embeddings_vec\")\n",
    "    return cursor.fetchone()[0]\n",
    "\n",
    "n_embeddings(conn)\n"
   ]
  },
  {
   "cell_type": "code",
   "execution_count": null,
   "id": "ca8e637f",
   "metadata": {},
   "outputs": [],
   "source": []
  }
 ],
 "metadata": {
  "kernelspec": {
   "display_name": "Python 3 (ipykernel)",
   "language": "python",
   "name": "python3"
  },
  "language_info": {
   "codemirror_mode": {
    "name": "ipython",
    "version": 3
   },
   "file_extension": ".py",
   "mimetype": "text/x-python",
   "name": "python",
   "nbconvert_exporter": "python",
   "pygments_lexer": "ipython3",
   "version": "3.12.11"
  }
 },
 "nbformat": 4,
 "nbformat_minor": 5
}

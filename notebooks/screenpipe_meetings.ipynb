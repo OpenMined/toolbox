{
 "cells": [
  {
   "cell_type": "code",
   "execution_count": 1,
   "metadata": {},
   "outputs": [],
   "source": [
    "import sqlite3\n",
    "from pathlib import Path\n",
    " \n",
    "REPO_PATH = Path(\"/Users/koen/workspace/toolbox\")\n",
    "SCREENPIPE_PATH = REPO_PATH / \"data\" / \"screenpipe\" / \"db2.sqlite\" \n"
   ]
  },
  {
   "cell_type": "code",
   "execution_count": 2,
   "metadata": {},
   "outputs": [],
   "source": [
    "HOME = Path.home()"
   ]
  },
  {
   "cell_type": "code",
   "execution_count": 3,
   "metadata": {},
   "outputs": [],
   "source": [
    "MEETINGS_DB_PATH = HOME / \".meeting-notes-mcp\" / \"db.sqlite\"\n",
    "MEETINGS_DB_PATH.parent.mkdir(parents=True, exist_ok=True)"
   ]
  },
  {
   "cell_type": "code",
   "execution_count": 4,
   "metadata": {},
   "outputs": [],
   "source": [
    "# MEETINGS_DB_PATH.unlink()"
   ]
  },
  {
   "cell_type": "code",
   "execution_count": 5,
   "metadata": {},
   "outputs": [],
   "source": [
    "# Connect to the SQLite database\n",
    "conn = sqlite3.connect(MEETINGS_DB_PATH)\n",
    "conn.row_factory = sqlite3.Row"
   ]
  },
  {
   "cell_type": "code",
   "execution_count": 6,
   "metadata": {},
   "outputs": [],
   "source": []
  },
  {
   "cell_type": "code",
   "execution_count": 7,
   "metadata": {},
   "outputs": [],
   "source": [
    "create_tables(conn)"
   ]
  },
  {
   "cell_type": "code",
   "execution_count": 8,
   "metadata": {},
   "outputs": [],
   "source": []
  },
  {
   "cell_type": "code",
   "execution_count": 9,
   "metadata": {},
   "outputs": [],
   "source": []
  },
  {
   "cell_type": "markdown",
   "metadata": {},
   "source": [
    "# Create and query some meetings"
   ]
  },
  {
   "cell_type": "code",
   "execution_count": 10,
   "metadata": {},
   "outputs": [],
   "source": [
    "# Connect to the SQLite database\n",
    "screenpipe_conn = sqlite3.connect(SCREENPIPE_PATH)\n",
    "screenpipe_conn.row_factory = sqlite3.Row"
   ]
  },
  {
   "cell_type": "code",
   "execution_count": 11,
   "metadata": {},
   "outputs": [],
   "source": [
    "for row in screenpipe_conn.execute(\"\"\"select * from audio_transcriptions\"\"\").fetchall():\n",
    "    insert_transcription(conn, **row)"
   ]
  },
  {
   "cell_type": "code",
   "execution_count": 12,
   "metadata": {},
   "outputs": [],
   "source": []
  },
  {
   "cell_type": "code",
   "execution_count": 13,
   "metadata": {},
   "outputs": [],
   "source": []
  },
  {
   "cell_type": "code",
   "execution_count": 14,
   "metadata": {},
   "outputs": [],
   "source": [
    "meetings = extract_meetings(conn)"
   ]
  },
  {
   "cell_type": "code",
   "execution_count": 15,
   "metadata": {},
   "outputs": [
    {
     "name": "stdout",
     "output_type": "stream",
     "text": [
      "meeting_2025-06-03 14:30:48.452985+00:00.txt\n",
      "So now that we defined the unique value proposition, I think we have a couple to dos couple to dos left that we want to define. The first one is to get screen Pipe running on my machine. Second to do is to make a recording of a meeting and share the SQLite database.\n",
      "Then we need to create a ScreenPipe MCP server so we can query the transcription. And we need to try out the GitHub MCP server for creating tickets. And lastly, we need to try to run the end to end flow.\n",
      "\n",
      "meeting_2025-06-05 13:00:36.357322+00:00.txt\n",
      " [BLANK_AUDIO]\n",
      " Oh, good job. Can you see it for sure? Yeah, okay.\n",
      " a boy chat box. Also when I was a Mark was one stater from Marvel travel. I was one. He used to have a fear of swine box with a fish back and...\n",
      " Alright!\n",
      " That's it. Okay.\n",
      " That's me at the top of the Supermope.\n",
      " Okay, I'll take one. Okay, just, okay. I'll shoot up.\n",
      "\n",
      "meeting-2025-06-05 14:08:44.519520+00:00.txt\n",
      " (upbeat music)\n",
      "\n"
     ]
    }
   ],
   "source": [
    "for meeting in meetings:\n",
    "    print(meeting.filename)\n",
    "    print(meeting.show_text())\n",
    "    print()"
   ]
  },
  {
   "cell_type": "code",
   "execution_count": 16,
   "metadata": {},
   "outputs": [],
   "source": [
    "for meeting in meetings:\n",
    "    insert_meeting(conn, meeting.filename, meeting.chunks_ids)"
   ]
  },
  {
   "cell_type": "code",
   "execution_count": 19,
   "metadata": {},
   "outputs": [
    {
     "name": "stdout",
     "output_type": "stream",
     "text": [
      "{'meeting_id': 1, 'filename': 'meeting_2025-06-03 14:30:48.452985+00:00.txt', 'start_date': '2025-06-03T14:30:48.452985+00:00', 'end_date': '2025-06-03T14:31:18.884843+00:00', 'full_text': 'So now that we defined the unique value proposition, I think we have a couple to dos couple to dos left that we want to define. The first one is to get screen Pipe running on my machine. Second to do is to make a recording of a meeting and share the SQLite database. Then we need to create a ScreenPipe MCP server so we can query the transcription. And we need to try out the GitHub MCP server for creating tickets. And lastly, we need to try to run the end to end flow.'}\n",
      "{'meeting_id': 2, 'filename': 'meeting_2025-06-05 13:00:36.357322+00:00.txt', 'start_date': '2025-06-05T13:00:36.357322+00:00', 'end_date': '2025-06-05T14:08:44.519520+00:00', 'full_text': \" [BLANK_AUDIO]  Oh, good job. Can you see it for sure? Yeah, okay.  a boy chat box. Also when I was a Mark was one stater from Marvel travel. I was one. He used to have a fear of swine box with a fish back and...  Alright!  That's it. Okay.  That's me at the top of the Supermope.  Okay, I'll take one. Okay, just, okay. I'll shoot up.  (upbeat music)\"}\n"
     ]
    }
   ],
   "source": [
    "for row in get_all_meeting_notes(conn):\n",
    "    print(dict(row))"
   ]
  },
  {
   "cell_type": "markdown",
   "metadata": {},
   "source": [
    "table meeting_meta\n",
    "\n",
    "meeting_id | filename\n",
    "\n",
    "table meeting_chunks\n",
    "\n",
    "meeting_i | chunkid\n",
    "\n",
    "```\n",
    "\n",
    "\n",
    "```\n"
   ]
  },
  {
   "cell_type": "markdown",
   "metadata": {},
   "source": [
    "Meetings CTE\n",
    "| Meeting id | filename | full text | start date | end date\n",
    "\n",
    "\n",
    "```\n",
    "WITH meetings AS (\n",
    "  SELECT\n",
    "    mc.meeting_id,\n",
    "    mm.filename,\n",
    "    MIN(mc.date) AS start_date,\n",
    "    MAX(mc.date) AS end_date,\n",
    "    GROUP_CONCAT(mc.text, ' ') AS full_text\n",
    "  FROM (\n",
    "    SELECT * FROM meeting_chunks ORDER BY date, chunkid\n",
    "  ) mc\n",
    "  JOIN meeting_meta mm ON mc.meeting_id = mm.meeting_id\n",
    "  GROUP BY mc.meeting_id\n",
    ")\n",
    "SELECT *\n",
    "FROM meetings;\n",
    "```"
   ]
  },
  {
   "cell_type": "code",
   "execution_count": 28,
   "metadata": {},
   "outputs": [
    {
     "name": "stdout",
     "output_type": "stream",
     "text": [
      "meeting 2025-06-03T14:30:48.452985+00:00\n",
      "1\n",
      "2\n",
      "\n",
      "meeting 2025-06-05T13:00:36.357322+00:00\n",
      "3\n",
      "4\n",
      "4\n",
      "5\n",
      "5\n",
      "6\n",
      "7\n",
      "\n",
      "meeting 2025-06-05T14:08:44.519520+00:00\n",
      "8\n",
      "\n"
     ]
    }
   ],
   "source": [
    "for chunks in meetings:\n",
    "    date = chunks[0][\"timestamp\"]\n",
    "    print(f\"meeting {date}\")\n",
    "    for chunk in chunks:\n",
    "        print(chunk[\"audio_chunk_id\"])\n",
    "    \n",
    "    print()\n",
    "    "
   ]
  },
  {
   "cell_type": "code",
   "execution_count": null,
   "metadata": {},
   "outputs": [],
   "source": [
    "\n",
    "\n",
    "\n",
    "\n"
   ]
  },
  {
   "cell_type": "code",
   "execution_count": null,
   "metadata": {},
   "outputs": [],
   "source": []
  }
 ],
 "metadata": {
  "kernelspec": {
   "display_name": "Python 3 (ipykernel)",
   "language": "python",
   "name": "python3"
  },
  "language_info": {
   "codemirror_mode": {
    "name": "ipython",
    "version": 3
   },
   "file_extension": ".py",
   "mimetype": "text/x-python",
   "name": "python",
   "nbconvert_exporter": "python",
   "pygments_lexer": "ipython3",
   "version": "3.12.10"
  }
 },
 "nbformat": 4,
 "nbformat_minor": 2
}

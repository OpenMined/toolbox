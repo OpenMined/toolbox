{
 "cells": [
  {
   "cell_type": "code",
   "execution_count": 1,
   "metadata": {},
   "outputs": [],
   "source": [
    "# !pip install slack_sdk"
   ]
  },
  {
   "cell_type": "code",
   "execution_count": 2,
   "metadata": {},
   "outputs": [],
   "source": [
    "import os\n",
    "from slack_sdk import WebClient\n",
    "from slack_sdk.errors import SlackApiError\n",
    "from datetime import datetime, timedelta\n",
    "import time\n",
    "from slack_mcp.utils import get_favourite_channel_ids, get_matches_for_name, compute_channelid_to_name_cached\n",
    "from slack_mcp.models import NamesMatchResponse\n",
    "\n",
    "token = os.getenv(\"SLACK_TOKEN\")\n",
    "d_cookie = os.getenv(\"SLACK_D_COOKIE\")"
   ]
  },
  {
   "cell_type": "code",
   "execution_count": 3,
   "metadata": {},
   "outputs": [],
   "source": [
    "headers = {\n",
    "    'Cookie': f'd={d_cookie}',\n",
    "    'User-Agent': 'Mozilla/5.0 (compatible; Python)'\n",
    "}   \n",
    "client = WebClient(token=token,headers=headers)"
   ]
  },
  {
   "cell_type": "markdown",
   "metadata": {},
   "source": [
    "# Write messages to db"
   ]
  },
  {
   "cell_type": "code",
   "execution_count": 4,
   "metadata": {},
   "outputs": [],
   "source": [
    "from slack_mcp.overview_utils import get_my_active_channels_from_search, get_channel_messages_with_thread_tree\n",
    "from slack_mcp.utils import get_single_message\n",
    "\n",
    "from slack_mcp.db import SLACK_MCP_DB_PATH"
   ]
  },
  {
   "cell_type": "code",
   "execution_count": 5,
   "metadata": {},
   "outputs": [],
   "source": [
    "from slack_mcp.background_worker import run_slack_mesage_dump_background_worker_single\n",
    "from slack_mcp.db import get_conn\n",
    "from slack_mcp.overview_utils import get_my_active_channels_from_search\n",
    "\n",
    "conn = get_conn()"
   ]
  },
  {
   "cell_type": "code",
   "execution_count": 6,
   "metadata": {},
   "outputs": [],
   "source": [
    "from slack_mcp.background_worker import get_timestamp_batches"
   ]
  },
  {
   "cell_type": "code",
   "execution_count": 7,
   "metadata": {},
   "outputs": [],
   "source": [
    "now = time.time()\n",
    "min_ts = time.time() - 30*24*60*60 # one month ago"
   ]
  },
  {
   "cell_type": "code",
   "execution_count": 8,
   "metadata": {},
   "outputs": [
    {
     "data": {
      "text/plain": [
       "[(1753720202.480567, 1756312202.480567)]"
      ]
     },
     "execution_count": 8,
     "metadata": {},
     "output_type": "execute_result"
    }
   ],
   "source": [
    "[x for x in get_timestamp_batches(min_ts,now, batch_days=30)]"
   ]
  },
  {
   "cell_type": "code",
   "execution_count": 13,
   "metadata": {},
   "outputs": [],
   "source": [
    "from slack_mcp.utils import compute_channelid_to_name_cached\n",
    "\n",
    "channel_to_name, user_id_to_real_name = compute_channelid_to_name_cached(client)\n"
   ]
  },
  {
   "cell_type": "code",
   "execution_count": 16,
   "metadata": {},
   "outputs": [],
   "source": [
    "# channel_to_name"
   ]
  },
  {
   "cell_type": "code",
   "execution_count": 14,
   "metadata": {},
   "outputs": [
    {
     "data": {
      "text/plain": [
       "'mpdm-trask--divital2004--koenlennartvanderveen-1'"
      ]
     },
     "execution_count": 14,
     "metadata": {},
     "output_type": "execute_result"
    }
   ],
   "source": [
    "channel_to_name[\"C096WNAQDJR\"]"
   ]
  },
  {
   "cell_type": "code",
   "execution_count": null,
   "metadata": {},
   "outputs": [],
   "source": [
    "oldest_ts = \"1753719609.027383\"\n",
    "oldest_ts = time.time() - 30*24*60*60\n",
    "\n",
    "latest_ts = \"1756311609.027383\""
   ]
  },
  {
   "cell_type": "code",
   "execution_count": 37,
   "metadata": {},
   "outputs": [
    {
     "data": {
      "text/plain": [
       "1753720062.875916"
      ]
     },
     "execution_count": 37,
     "metadata": {},
     "output_type": "execute_result"
    }
   ],
   "source": [
    "time.time()"
   ]
  },
  {
   "cell_type": "code",
   "execution_count": 38,
   "metadata": {},
   "outputs": [
    {
     "data": {
      "text/plain": [
       "datetime.datetime(2025, 6, 28, 18, 26, 17, 264290)"
      ]
     },
     "execution_count": 38,
     "metadata": {},
     "output_type": "execute_result"
    }
   ],
   "source": [
    "datetime.fromtimestamp(float(oldest_ts))"
   ]
  },
  {
   "cell_type": "code",
   "execution_count": 35,
   "metadata": {},
   "outputs": [
    {
     "name": "stdout",
     "output_type": "stream",
     "text": [
      "[{'user': 'U6AN4BFML', 'type': 'message', 'ts': '1751232440.383249', 'client_msg_id': '021014bb-62f4-4f3d-bb40-f19ac17f5778', 'text': \"<!channel> OpenMined is 8 years old today. And today we received our 18,000th member. Thank you to everyone who has contributed over the years. The public network for non-public information will change the world. It hasn't yet. Never give up.\", 'team': 'T6963A864', 'thread_ts': '1751232440.383249', 'reply_count': 1, 'reply_users_count': 1, 'latest_reply': '1751267709.949649', 'reply_users': ['U6AN4BFML'], 'is_locked': False, 'subscribed': False, 'blocks': [{'type': 'rich_text', 'block_id': 'uZRrs', 'elements': [{'type': 'rich_text_section', 'elements': [{'type': 'broadcast', 'range': 'channel'}, {'type': 'text', 'text': \" OpenMined is 8 years old today. And today we received our 18,000th member. Thank you to everyone who has contributed over the years. The public network for non-public information will change the world. It hasn't yet. Never give up.\"}]}]}], 'reactions': [{'name': 'openmined3', 'users': ['U6AN4BFML', 'UM9GRGD47', 'U08T61H89HA', 'U08PMN04S8M', 'U024PULUVK5', 'U05GCSL291T', 'U01V4AU3U11', 'U07JZQYGTNC', 'UFQ4YUPMJ', 'UHUHY06CF', 'U07TX4EGR6C', 'U06CVLAAN58', 'UM0LQ1EF7', 'U015TFH3KD0', 'URJHG5HUG', 'U01FBU5SRBJ', 'U07KYUKB4FR', 'UQCHFUCMP', 'UQCEALEPP', 'U06LH172V2Q', 'U04AU7D80AH', 'U010FQ0DDQE', 'U8HQRTR1S', 'U6AUHSDA5', 'U01DH5JV2SZ', 'U022DKZ6PM1', 'U01BY430ULA', 'U08J9UMBGM8', 'U8KUAD396', 'UKL8R5CLU', 'UM95G5M2B', 'UKXJ66EGL', 'URHAYCH41', 'U06TJF7H5S8', 'U02E2JT6X3M', 'U01S31ENR0W', 'U01SZ7NPDM4', 'U02AUM15MB8', 'U07RR5NKPMX', 'U08PKG33997', 'ULXHX4K0A', 'U077V58KXL7', 'U03UFGXR1ML', 'U010Y0BR5V2', 'U06JU7AQVL7', 'U01HUKSS53M', 'UG81TV4GG', 'U06V0EL8NHZ', 'U01J0RF476G', 'U6MV444CC'], 'count': 58}, {'name': 'heart', 'users': ['UM9GRGD47', 'U0901J8AAJC', 'U08T61H89HA', 'U6AN4BFML', 'U08K6NXCD41', 'U07JZQYGTNC', 'UHUHY06CF', 'U07TX4EGR6C', 'U015TFH3KD0', 'U02HVSHMHAQ', 'URJHG5HUG', 'U01FBU5SRBJ', 'U07KYUKB4FR', 'UQCEALEPP', 'U06LH172V2Q', 'U04AU7D80AH', 'U010FQ0DDQE', 'U8HQRTR1S', 'U6AUHSDA5', 'U01DH5JV2SZ', 'U022DKZ6PM1', 'U01BY430ULA', 'U08J9UMBGM8', 'U01BU9J78E5', 'U8KUAD396', 'U08U11XD7T7', 'U7GH375CG', 'UKXJ66EGL', 'U0334RMEBFY', 'URHAYCH41', 'U06TJF7H5S8', 'U01S31ENR0W', 'U02AUM15MB8', 'U07SD30KANN', 'ULXHX4K0A', 'U06CBM1C1E3', 'U08GP30TTEH', 'U01ESGUNRB5', 'UG81TV4GG', 'U06V0EL8NHZ', 'U01J0RF476G', 'U6MV444CC', 'U027KGDR21F', 'U0468HT1XKQ', 'UJVCHQSD8', 'U01LNCACY03', 'U096HMJ0CLE', 'U08K67VCHPH', 'U08JWTC4G1X', 'U01H5HQ515X'], 'count': 50}, {'name': 'raised_hands', 'users': ['UM9GRGD47', 'U08T61H89HA', 'U07KDK0TN21', 'U08K6NXCD41', 'U03HS6G0U3D', 'U05GCSL291T', 'UHUHY06CF', 'URJHG5HUG', 'U01FBU5SRBJ', 'U06LH172V2Q', 'U8HQRTR1S', 'U6AUHSDA5', 'U022DKZ6PM1', 'U09390LUX5E', 'URHAYCH41', 'U06TJF7H5S8', 'U01S31ENR0W', 'U01SZ7NPDM4', 'U094CBAEZU0', 'U07SD30KANN', 'URTG5LR7S', 'U01J0RF476G', 'U6MV444CC', 'U0468HT1XKQ', 'URUH953QU', 'U01H5HQ515X'], 'count': 26}, {'name': 'muscle', 'users': ['UM9GRGD47', 'U08T61H89HA', 'UHUHY06CF', 'URJHG5HUG', 'U01FBU5SRBJ', 'U06LH172V2Q', 'U8HQRTR1S', 'U6AUHSDA5', 'U022DKZ6PM1', 'URHAYCH41', 'U06TJF7H5S8', 'U01S31ENR0W', 'U094CBAEZU0', 'U07SD30KANN', 'U8NP8QY3D', 'URUH953QU', 'U03MS88EVU1', 'U01H5HQ515X'], 'count': 18}, {'name': 'opengrid', 'users': ['UM9GRGD47', 'U08T61H89HA', 'U6AN4BFML', 'U05GCSL291T', 'U07JZQYGTNC', 'UHUHY06CF', 'U01FBU5SRBJ', 'U07KYUKB4FR', 'UQCEALEPP', 'U06LH172V2Q', 'U8HQRTR1S', 'U022DKZ6PM1', 'U8KUAD396', 'UKXJ66EGL', 'URHAYCH41', 'U02E2JT6X3M', 'U01S31ENR0W', 'ULXHX4K0A', 'U01LNCACY03', 'U01H5HQ515X'], 'count': 20}, {'name': 'grin', 'users': ['U08T61H89HA', 'U6AN4BFML', 'U07JZQYGTNC', 'UHUHY06CF', 'U07KYUKB4FR', 'UQCEALEPP', 'U06LH172V2Q', 'U022DKZ6PM1', 'UKXJ66EGL', 'URHAYCH41', 'U01S31ENR0W', 'ULXHX4K0A', 'U01LNCACY03', 'U01H5HQ515X'], 'count': 14}, {'name': 'muscle::skin-tone-2', 'users': ['U6AN4BFML', 'U015TFH3KD0', 'ULXHX4K0A'], 'count': 3}, {'name': 'raised_hands::skin-tone-2', 'users': ['U6AN4BFML', 'U015TFH3KD0', 'ULXHX4K0A'], 'count': 3}, {'name': 'raised_hands::skin-tone-3', 'users': ['U07JZQYGTNC'], 'count': 1}, {'name': 'muscle::skin-tone-3', 'users': ['U07JZQYGTNC'], 'count': 1}, {'name': 'tada', 'users': ['U07JZQYGTNC', 'UHUHY06CF', 'U07KYUKB4FR', 'UQCEALEPP', 'U06LH172V2Q', 'U6AN4BFML', 'U6AUHSDA5', 'U022DKZ6PM1', 'U01BU9J78E5', 'UKXJ66EGL', 'URHAYCH41', 'U01S31ENR0W', 'U07SD30KANN', 'ULXHX4K0A', 'U01LNCACY03', 'U01H5HQ515X'], 'count': 16}, {'name': 'rocket', 'users': ['U03C73BNYDU', 'U07KYUKB4FR', 'UQCEALEPP', 'U06LH172V2Q', 'U6AN4BFML', 'U6AUHSDA5', 'U022DKZ6PM1', 'UKXJ66EGL', 'URHAYCH41', 'U02E2JT6X3M', 'U01S31ENR0W', 'U07SD30KANN', 'ULXHX4K0A', 'U01LNCACY03', 'U01H5HQ515X'], 'count': 15}, {'name': 'raised_hands::skin-tone-5', 'users': ['U07KYUKB4FR', 'U01LNCACY03'], 'count': 2}, {'name': 'muscle::skin-tone-5', 'users': ['U07KYUKB4FR', 'U01LNCACY03'], 'count': 2}, {'name': 'raised_hands::skin-tone-4', 'users': ['UQCEALEPP', 'U8KUAD396', 'U077V58KXL7', 'U02MZRKHGAF'], 'count': 4}, {'name': 'muscle::skin-tone-4', 'users': ['UQCEALEPP', 'U8KUAD396', 'U077V58KXL7'], 'count': 3}, {'name': 'raised_hands::skin-tone-6', 'users': ['UKXJ66EGL'], 'count': 1}, {'name': 'muscle::skin-tone-6', 'users': ['UKXJ66EGL'], 'count': 1}, {'name': 'eight', 'users': ['U058DLNSET0', 'ULXHX4K0A', 'U01LNCACY03', 'U01H5HQ515X'], 'count': 4}], 'replies': [{'user': 'U6AN4BFML', 'type': 'message', 'ts': '1751267709.949649', 'client_msg_id': '02d470d4-d832-41af-b97b-4d2f308457c0', 'text': \"And welcome to # 18k — <@U093E81TRML>. We're glad you're here.\", 'team': 'T6963A864', 'thread_ts': '1751232440.383249', 'parent_user_id': 'U6AN4BFML', 'blocks': [{'type': 'rich_text', 'block_id': 'gdUJi', 'elements': [{'type': 'rich_text_section', 'elements': [{'type': 'text', 'text': 'And welcome to # 18k — '}, {'type': 'user', 'user_id': 'U093E81TRML'}, {'type': 'text', 'text': \". We're glad you're here.\"}]}]}]}]}]\n"
     ]
    }
   ],
   "source": [
    "from slack_mcp.overview_utils import get_channel_messages_with_thread_tree\n",
    "\n",
    "message_tree = get_channel_messages_with_thread_tree(client,\n",
    "                                                     \"C69RB18LA\", max_pages=100,\n",
    "                                                     oldest=oldest_ts,\n",
    "                                                     latest=latest_ts)\n",
    "\n",
    "print(message_tree)"
   ]
  },
  {
   "cell_type": "code",
   "execution_count": 9,
   "metadata": {},
   "outputs": [
    {
     "name": "stdout",
     "output_type": "stream",
     "text": [
      "getting active channels\n",
      "Processing batch from 2025-07-28 to 2025-07-28 for 79 channels\n"
     ]
    },
    {
     "name": "stderr",
     "output_type": "stream",
     "text": [
      "  0%|                                                                               | 0/79 [00:00<?, ?it/s]"
     ]
    },
    {
     "name": "stdout",
     "output_type": "stream",
     "text": [
      "> \u001b[32m/Users/koen/workspace/toolbox/packages/slack_mcp/slack_mcp/background_worker.py\u001b[39m(\u001b[92m35\u001b[39m)\u001b[36mget_messages_from_channels\u001b[39m\u001b[34m()\u001b[39m\n",
      "\u001b[32m     34\u001b[39m         ipdb.set_trace()\n",
      "\u001b[32m---> 35\u001b[39m         message_tree = get_channel_messages_with_thread_tree(\n",
      "\u001b[32m     36\u001b[39m             client, channel, max_pages=\u001b[32m100\u001b[39m, oldest=from_ts, latest=to_ts\n",
      "\n"
     ]
    },
    {
     "name": "stderr",
     "output_type": "stream",
     "text": [
      "  0%|                                                                               | 0/79 [00:08<?, ?it/s]\n"
     ]
    }
   ],
   "source": [
    "run_slack_mesage_dump_background_worker_single(conn, client, min_ts)"
   ]
  },
  {
   "cell_type": "markdown",
   "metadata": {},
   "source": [
    "# Get channels"
   ]
  },
  {
   "cell_type": "code",
   "execution_count": null,
   "metadata": {},
   "outputs": [],
   "source": [
    "\n",
    "\n",
    "channel_ids = get_my_active_channels_from_search(\n",
    "    client,\n",
    "    last_n_days=365,\n",
    "    max_pages=100,\n",
    ")\n",
    "\n",
    "print(channel_ids)"
   ]
  },
  {
   "cell_type": "code",
   "execution_count": null,
   "metadata": {},
   "outputs": [],
   "source": [
    "channel_id = channel_ids[0]"
   ]
  },
  {
   "cell_type": "code",
   "execution_count": null,
   "metadata": {},
   "outputs": [],
   "source": [
    "channel_id = \"C093365V5UH\" # inbound\n",
    "ts = '1752510526.154739'\n",
    "get_single_message(client, channel_id, ts)"
   ]
  },
  {
   "cell_type": "code",
   "execution_count": null,
   "metadata": {},
   "outputs": [],
   "source": [
    "# ts = '1752510418.959799'"
   ]
  },
  {
   "cell_type": "code",
   "execution_count": null,
   "metadata": {},
   "outputs": [],
   "source": [
    "from datetime import datetime, timedelta\n",
    "import time\n",
    "\n",
    "one_month_ago = datetime.now() - timedelta(days=30)\n",
    "oldest_ts = time.mktime(one_month_ago.timetuple())\n"
   ]
  },
  {
   "cell_type": "markdown",
   "metadata": {},
   "source": [
    "# Get all messages batched"
   ]
  },
  {
   "cell_type": "code",
   "execution_count": null,
   "metadata": {},
   "outputs": [],
   "source": [
    "# from tqdm import tqdm\n",
    "\n",
    "# all_messages_as_tree = []\n",
    "# for channel in tqdm(channel_ids):\n",
    "#     message_tree = get_channel_messages_with_thread_tree(client, channel, max_pages=100, oldest=oldest_ts)\n",
    "#     all_messages_as_tree.extend(message_tree)\n",
    "\n",
    "# # all_messages_as_tree"
   ]
  },
  {
   "cell_type": "code",
   "execution_count": null,
   "metadata": {},
   "outputs": [],
   "source": []
  },
  {
   "cell_type": "code",
   "execution_count": null,
   "metadata": {},
   "outputs": [],
   "source": []
  },
  {
   "cell_type": "code",
   "execution_count": null,
   "metadata": {},
   "outputs": [],
   "source": [
    "# SLACK_MCP_DB_PATH.unlink()"
   ]
  },
  {
   "cell_type": "code",
   "execution_count": null,
   "metadata": {},
   "outputs": [],
   "source": []
  },
  {
   "cell_type": "code",
   "execution_count": null,
   "metadata": {},
   "outputs": [],
   "source": []
  },
  {
   "cell_type": "code",
   "execution_count": null,
   "metadata": {},
   "outputs": [],
   "source": [
    "create_tables(conn)"
   ]
  },
  {
   "cell_type": "code",
   "execution_count": null,
   "metadata": {},
   "outputs": [],
   "source": []
  },
  {
   "cell_type": "code",
   "execution_count": null,
   "metadata": {},
   "outputs": [],
   "source": [
    "\n",
    "\n",
    "\n",
    "for msg in get_messages_without_embeddings(conn):\n",
    "    print(msg)"
   ]
  },
  {
   "cell_type": "code",
   "execution_count": null,
   "metadata": {},
   "outputs": [],
   "source": [
    "from pydantic import BaseModel\n",
    "import json\n",
    "\n",
    "\n"
   ]
  },
  {
   "cell_type": "code",
   "execution_count": null,
   "metadata": {},
   "outputs": [],
   "source": []
  },
  {
   "cell_type": "code",
   "execution_count": null,
   "metadata": {},
   "outputs": [],
   "source": [
    "create_tables(conn)"
   ]
  },
  {
   "cell_type": "code",
   "execution_count": null,
   "metadata": {},
   "outputs": [],
   "source": []
  },
  {
   "cell_type": "code",
   "execution_count": null,
   "metadata": {},
   "outputs": [],
   "source": [
    "# for msg in all_messaages_flat:\n",
    "#     if \"user\" not in msg:\n",
    "#         continue\n",
    "#     msg = get_message(conn, msg[\"channel_id\"], msg[\"ts\"])\n",
    "#     # print(msg)"
   ]
  },
  {
   "cell_type": "code",
   "execution_count": null,
   "metadata": {},
   "outputs": [],
   "source": [
    "all_messaages_flat[12]"
   ]
  },
  {
   "cell_type": "code",
   "execution_count": null,
   "metadata": {},
   "outputs": [],
   "source": [
    "len(all_messages_as_tree)"
   ]
  },
  {
   "cell_type": "code",
   "execution_count": null,
   "metadata": {},
   "outputs": [],
   "source": []
  },
  {
   "cell_type": "code",
   "execution_count": null,
   "metadata": {},
   "outputs": [],
   "source": [
    "n_total = 0\n",
    "for message in all_messages_as_tree:\n",
    "    n_total += 1\n",
    "    if message[\"replies\"] is not None:\n",
    "        n_total += len(message[\"replies\"])\n",
    "n_total"
   ]
  },
  {
   "cell_type": "code",
   "execution_count": null,
   "metadata": {},
   "outputs": [],
   "source": [
    "len(all_messages_as_tree)"
   ]
  },
  {
   "cell_type": "code",
   "execution_count": null,
   "metadata": {},
   "outputs": [],
   "source": [
    "favourite_channel_ids = get_favourite_channel_ids(client)\n",
    "channel_to_name, userid2name = compute_channelid_to_name_cached(client)"
   ]
  },
  {
   "cell_type": "code",
   "execution_count": null,
   "metadata": {},
   "outputs": [],
   "source": [
    "channel = channels[1]"
   ]
  },
  {
   "cell_type": "code",
   "execution_count": null,
   "metadata": {},
   "outputs": [],
   "source": [
    "def get_channel_id_with_name(client, name):\n",
    "    channel_to_name, userid2name = compute_channelid_to_name_cached(client)\n",
    "    for channel_id, channel_name in channel_to_name.items():\n",
    "        if channel_name == name:\n",
    "            return channel_id\n",
    "    return None\n",
    "\n",
    "channel_id = get_channel_id_with_name(client, \"Andrew Trask\")\n",
    "channel_id"
   ]
  },
  {
   "cell_type": "code",
   "execution_count": null,
   "metadata": {},
   "outputs": [],
   "source": [
    "# channel_to_name[channel]"
   ]
  },
  {
   "cell_type": "code",
   "execution_count": null,
   "metadata": {},
   "outputs": [],
   "source": [
    "message_tree = get_channel_messages_with_thread_tree(client, channel, max_pages=100)"
   ]
  },
  {
   "cell_type": "code",
   "execution_count": null,
   "metadata": {},
   "outputs": [],
   "source": []
  },
  {
   "cell_type": "code",
   "execution_count": null,
   "metadata": {},
   "outputs": [],
   "source": [
    "[channel_to_name[channel_id] for channel_id in channels]"
   ]
  },
  {
   "cell_type": "code",
   "execution_count": null,
   "metadata": {},
   "outputs": [],
   "source": []
  },
  {
   "cell_type": "code",
   "execution_count": null,
   "metadata": {},
   "outputs": [],
   "source": []
  },
  {
   "cell_type": "code",
   "execution_count": null,
   "metadata": {},
   "outputs": [],
   "source": []
  },
  {
   "cell_type": "code",
   "execution_count": null,
   "metadata": {},
   "outputs": [],
   "source": []
  },
  {
   "cell_type": "code",
   "execution_count": null,
   "metadata": {},
   "outputs": [],
   "source": [
    "\n",
    "query = \"eelco\"\n",
    "favourite_channel_ids = get_favourite_channel_ids(client)\n",
    "channel_to_name, userid2name = compute_channelid_to_name_cached(client)\n",
    "favourite_names = [channel_to_name[x] for x in favourite_channel_ids]\n",
    "name2channelid = {v: k for k, v in channel_to_name.items()}\n",
    "all_names = list(name2channelid.keys())\n",
    "result: NamesMatchResponse = get_matches_for_name(\n",
    "    query, favourite_names, all_names, name2channelid\n",
    ")"
   ]
  },
  {
   "cell_type": "code",
   "execution_count": null,
   "metadata": {},
   "outputs": [],
   "source": [
    "first_match = result.matches_in_favourites[0]\n",
    "first_match"
   ]
  },
  {
   "cell_type": "code",
   "execution_count": null,
   "metadata": {},
   "outputs": [],
   "source": [
    "channel_id = first_match.channel_id"
   ]
  },
  {
   "cell_type": "code",
   "execution_count": null,
   "metadata": {},
   "outputs": [],
   "source": [
    "messages = client.conversations_history(channel=channel_id, limit=100)[\"messages\"]"
   ]
  },
  {
   "cell_type": "code",
   "execution_count": null,
   "metadata": {},
   "outputs": [],
   "source": [
    "favourite_channel_ids = get_favourite_channel_ids(client)\n",
    "favourite_names = [channel_to_name[x] for x in favourite_channel_ids]"
   ]
  },
  {
   "cell_type": "code",
   "execution_count": null,
   "metadata": {},
   "outputs": [],
   "source": [
    "# response = client.chat_postMessage(\n",
    "#     channel=\"D7GH378QG\",\n",
    "#     text=\"test message from python slack bot\"\n",
    "# )\n",
    "# print(response)"
   ]
  },
  {
   "cell_type": "markdown",
   "metadata": {},
   "source": [
    "# Get Latest messages"
   ]
  },
  {
   "cell_type": "code",
   "execution_count": null,
   "metadata": {},
   "outputs": [],
   "source": [
    "from slack_mcp.overview_utils import get_last_week_messages_with_threads_with_names\n",
    "\n",
    "messages = get_last_week_messages_with_threads_with_names(client,\n",
    "                                                          favourite_channel_ids,\n",
    "                                                          channel_to_name,\n",
    "                                                          userid2name)"
   ]
  },
  {
   "cell_type": "code",
   "execution_count": null,
   "metadata": {},
   "outputs": [],
   "source": [
    "i=0\n",
    "for k, v in messages.items():\n",
    "    i+=1\n",
    "    if i==3:\n",
    "        print(channel_to_name[k])\n",
    "        for msg in v:\n",
    "            print(userid2name[msg[\"user\"]], msg[\"text\"])"
   ]
  },
  {
   "cell_type": "code",
   "execution_count": null,
   "metadata": {},
   "outputs": [],
   "source": [
    "len(list(messages.values())[0])"
   ]
  },
  {
   "cell_type": "code",
   "execution_count": null,
   "metadata": {},
   "outputs": [],
   "source": [
    "import time\n",
    "time.time()"
   ]
  },
  {
   "cell_type": "code",
   "execution_count": null,
   "metadata": {},
   "outputs": [],
   "source": []
  },
  {
   "cell_type": "code",
   "execution_count": null,
   "metadata": {},
   "outputs": [],
   "source": []
  },
  {
   "cell_type": "code",
   "execution_count": null,
   "metadata": {},
   "outputs": [],
   "source": []
  },
  {
   "cell_type": "code",
   "execution_count": null,
   "metadata": {},
   "outputs": [],
   "source": [
    "n_total = 0\n",
    "for c, messages in c2m.items():\n",
    "    n_total += len(messages)\n",
    "print(len(c2m),n_total)"
   ]
  },
  {
   "cell_type": "code",
   "execution_count": null,
   "metadata": {},
   "outputs": [],
   "source": []
  },
  {
   "cell_type": "code",
   "execution_count": null,
   "metadata": {},
   "outputs": [],
   "source": [
    "favourite_channel_ids"
   ]
  },
  {
   "cell_type": "code",
   "execution_count": null,
   "metadata": {},
   "outputs": [],
   "source": [
    "float(client.conversations_history(channel=\"C095U8548RW\", limit=10)[\"messages\"][1][\"ts\"]) > last_week_timestamp"
   ]
  },
  {
   "cell_type": "code",
   "execution_count": null,
   "metadata": {},
   "outputs": [],
   "source": [
    "def list_messages(channel_id):\n",
    "    res = client.conversations_history(channel=channel_id, limit=5)\n",
    "    print(channel_id_to_name[channel_id])\n",
    "    for msg in res[\"messages\"]:\n",
    "        user_id = msg.get('user', 'unknown user')\n",
    "        user_name = user_id_to_real_name.get(user_id, \"Unknown User\")\n",
    "        print(f\"@{user_name}: {msg['text']}\")\n",
    "\n",
    "list_messages(starred_channels[15])"
   ]
  },
  {
   "cell_type": "code",
   "execution_count": null,
   "metadata": {},
   "outputs": [],
   "source": [
    "len(starred_channels)"
   ]
  },
  {
   "cell_type": "code",
   "execution_count": null,
   "metadata": {},
   "outputs": [],
   "source": [
    "from slack_mcp.utils import get_all_channels\n",
    "\n",
    "cs = get_all_channels(client)\n",
    "\n",
    "print(len([c for c in cs if c.get(\"is_member\", False)]))"
   ]
  },
  {
   "cell_type": "code",
   "execution_count": null,
   "metadata": {},
   "outputs": [],
   "source": []
  },
  {
   "cell_type": "code",
   "execution_count": null,
   "metadata": {},
   "outputs": [],
   "source": [
    "channel_ids = get_my_active_channels_from_search(client, last_n_days=7, max_pages=50)"
   ]
  },
  {
   "cell_type": "code",
   "execution_count": null,
   "metadata": {},
   "outputs": [],
   "source": [
    "for c in channel_ids:\n",
    "    print(channel_to_name[c])"
   ]
  },
  {
   "cell_type": "code",
   "execution_count": null,
   "metadata": {},
   "outputs": [],
   "source": [
    "client.conversations_info(channel=\"C69RB18LA\")"
   ]
  },
  {
   "cell_type": "code",
   "execution_count": null,
   "metadata": {},
   "outputs": [],
   "source": [
    "cs[0]"
   ]
  },
  {
   "cell_type": "code",
   "execution_count": null,
   "metadata": {},
   "outputs": [],
   "source": [
    "starred_channels = get_starred_channel_ids(client)"
   ]
  },
  {
   "cell_type": "code",
   "execution_count": null,
   "metadata": {},
   "outputs": [],
   "source": [
    "assert len(starred_channels) == len(set(starred_channels).intersection(channel_id_to_name.keys()))"
   ]
  },
  {
   "cell_type": "code",
   "execution_count": null,
   "metadata": {},
   "outputs": [],
   "source": []
  },
  {
   "cell_type": "code",
   "execution_count": null,
   "metadata": {},
   "outputs": [],
   "source": [
    "from collections import defaultdict"
   ]
  },
  {
   "cell_type": "code",
   "execution_count": null,
   "metadata": {},
   "outputs": [],
   "source": [
    "unread_messages = defaultdict(list)\n",
    "for channel in starred_channels:\n",
    "    \n",
    "    res = client.conversations_history(channel=channel, limit=100)\n",
    "    for msg in res[\"messages\"]:\n",
    "        if float(msg[\"ts\"]) > last_week_timestamp:\n",
    "            if msg.get(\"subtype\") == \"channel_join\":\n",
    "                continue\n",
    "            \n",
    "            user_id = msg.get(\"user\", None)\n",
    "            sender_name = user_id_to_real_name.get(user_id, \"Unknown User\")\n",
    "            channel_name = channel_id_to_name.get(channel, None)\n",
    "            if channel_name is None:\n",
    "                channel_name = \"unknown channel\"\n",
    "            \n",
    "            \n",
    "            unread_messages[channel_name].append({\"user\": sender_name, \"text\": msg[\"text\"]})\n",
    "\n",
    "    # print(unread_messages)\n",
    "    "
   ]
  },
  {
   "cell_type": "code",
   "execution_count": null,
   "metadata": {},
   "outputs": [],
   "source": [
    "for channel_name, msgs in unread_messages.items():\n",
    "    print(f\"in #{channel_name}\")\n",
    "    for msg in reversed(msgs):    \n",
    "        print(f\"@{msg['user']}: {msg['text']}\")\n",
    "    print(\"=\"*100)"
   ]
  },
  {
   "cell_type": "code",
   "execution_count": null,
   "metadata": {},
   "outputs": [],
   "source": []
  },
  {
   "cell_type": "code",
   "execution_count": null,
   "metadata": {},
   "outputs": [],
   "source": [
    "res[\"messages\"]"
   ]
  },
  {
   "cell_type": "code",
   "execution_count": null,
   "metadata": {},
   "outputs": [],
   "source": []
  },
  {
   "cell_type": "markdown",
   "metadata": {},
   "source": [
    "## Appendix"
   ]
  },
  {
   "cell_type": "code",
   "execution_count": null,
   "metadata": {},
   "outputs": [],
   "source": []
  },
  {
   "cell_type": "code",
   "execution_count": null,
   "metadata": {},
   "outputs": [],
   "source": []
  },
  {
   "cell_type": "code",
   "execution_count": null,
   "metadata": {},
   "outputs": [],
   "source": [
    "# channel_id_to_user_real_name"
   ]
  },
  {
   "cell_type": "code",
   "execution_count": null,
   "metadata": {},
   "outputs": [],
   "source": [
    "# Format the date 7 days ago in YYYY-MM-DD\n",
    "seven_days_ago_date = (datetime.now() - timedelta(days=7)).strftime(\"%Y-%m-%d\")\n",
    "\n",
    "# Search query: messages mentioning your user ID, after the date\n",
    "query = f\"@{my_user_ida}\"\n",
    "\n",
    "\n",
    "# Call search.messages API\n",
    "result = client.search_messages(query=query, sort=\"timestamp\", sort_dir=\"desc\", count=100)\n",
    "\n",
    "\n"
   ]
  },
  {
   "cell_type": "code",
   "execution_count": null,
   "metadata": {},
   "outputs": [],
   "source": [
    "for x in result[\"messages\"][\"matches\"]:\n",
    "    print(x)"
   ]
  },
  {
   "cell_type": "code",
   "execution_count": null,
   "metadata": {},
   "outputs": [],
   "source": [
    "messages = result[\"messages\"][\"matches\"]\n",
    "for msg in messages:\n",
    "    user = msg.get(\"user\")\n",
    "    text = msg.get(\"text\")\n",
    "    ts = msg.get(\"ts\")\n",
    "    channel = msg.get(\"channel\", {}).get(\"name\")\n",
    "    print(f\"[{ts}] in #{channel} by {user}: {text}\")"
   ]
  },
  {
   "cell_type": "code",
   "execution_count": null,
   "metadata": {},
   "outputs": [],
   "source": [
    "# from pprint import pprint\n",
    "\n",
    "# # response = client.conversations_list(types=\"im\")\n",
    "\n",
    "# channels = [channel for channel in response[\"channels\"] if channel[\"is_im\"]]\n",
    "\n",
    "# for channel in channels[:2]:\n",
    "#     conversation_history = client.conversations_history(\n",
    "#         channel=channel[\"id\"],\n",
    "#         limit=3,\n",
    "#     )\n",
    "#     print(\"USER\", id2user[channel[\"id\"]])\n",
    "#     pprint(conversation_history[\"messages\"])"
   ]
  },
  {
   "cell_type": "code",
   "execution_count": null,
   "metadata": {},
   "outputs": [],
   "source": [
    "def get_all_messages(client, since_timestamp):\n",
    "    response = client.conversations_history(\n",
    "        channel=\"C06650000000000000000000\",\n",
    "        oldest=since_timestamp,\n",
    "        limit=100,\n",
    "    )\n",
    "    return response[\"messages\"]\n",
    "\n",
    "\n",
    "import time\n",
    "last_week_timestamp = int(time.time()) - 60 * 60 * 24 * 7\n",
    "client = WebClient(token=token, headers=headers)\n",
    "get_all_messages(client, last_week_timestamp)"
   ]
  },
  {
   "cell_type": "code",
   "execution_count": null,
   "metadata": {},
   "outputs": [],
   "source": [
    "from pprint import pprint\n",
    "\n",
    "res = []\n",
    "for message in response[\"messages\"]:\n",
    "    res.append({\n",
    "        \"text\": message[\"text\"],\n",
    "        \"user\": \"Madhava (we're hiring)\",\n",
    "        \"ts\": message[\"ts\"],\n",
    "    })\n",
    "\n",
    "pprint(res)"
   ]
  },
  {
   "cell_type": "code",
   "execution_count": null,
   "metadata": {},
   "outputs": [],
   "source": [
    "response[\"channels\"][:3]"
   ]
  },
  {
   "cell_type": "code",
   "execution_count": null,
   "metadata": {},
   "outputs": [],
   "source": []
  }
 ],
 "metadata": {
  "kernelspec": {
   "display_name": "Python 3 (ipykernel)",
   "language": "python",
   "name": "python3"
  },
  "language_info": {
   "codemirror_mode": {
    "name": "ipython",
    "version": 3
   },
   "file_extension": ".py",
   "mimetype": "text/x-python",
   "name": "python",
   "nbconvert_exporter": "python",
   "pygments_lexer": "ipython3",
   "version": "3.12.11"
  }
 },
 "nbformat": 4,
 "nbformat_minor": 2
}

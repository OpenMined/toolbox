{
 "cells": [
  {
   "cell_type": "code",
   "execution_count": 1,
   "id": "3c209402",
   "metadata": {},
   "outputs": [],
   "source": [
    "from slack_mcp.db import _get_slack_connection"
   ]
  },
  {
   "cell_type": "code",
   "execution_count": 2,
   "id": "ba4d802a",
   "metadata": {},
   "outputs": [],
   "source": [
    "conn = _get_slack_connection()"
   ]
  },
  {
   "cell_type": "code",
   "execution_count": 3,
   "id": "6316c520",
   "metadata": {},
   "outputs": [
    {
     "data": {
      "text/plain": [
       "<sqlite3.Connection at 0x10905bd30>"
      ]
     },
     "execution_count": 3,
     "metadata": {},
     "output_type": "execute_result"
    }
   ],
   "source": [
    "conn"
   ]
  },
  {
   "cell_type": "code",
   "execution_count": 11,
   "id": "5e37ab3d",
   "metadata": {},
   "outputs": [],
   "source": [
    "# cursor.execute(\"DELETE FROM chunk_messages\")\n",
    "# cursor.execute(\"DELETE FROM message_embeddings_vec\")\n",
    "# conn.commit()"
   ]
  },
  {
   "cell_type": "code",
   "execution_count": 12,
   "id": "51178818",
   "metadata": {},
   "outputs": [],
   "source": [
    "cursor = conn.cursor()\n",
    "res = cursor.execute(\"SELECT * FROM message_embeddings_vec\").fetchall()"
   ]
  },
  {
   "cell_type": "code",
   "execution_count": 13,
   "id": "c381ad9a",
   "metadata": {},
   "outputs": [
    {
     "name": "stdout",
     "output_type": "stream",
     "text": [
      "Hey <@U04UFSV9RT8>, nice to meet you! Apologies for the delay, I was already offline when Andrew posted yesterday. Happy to hear you are interested to test the product we are building! I will be doing some casual test sessions over the coming weeks in which I will walk you through installation, usage and ask some questions. Only requirements are\n",
      "\n",
      "1) that you are on a mac machine (we dont support other operating systems in this early version)\n",
      "2) you are on a machine that allows you to install python packages and other software\n",
      "3) you have python and some environment manager like conda or uv installed before the meeting.\n",
      "\n",
      "Looking forward to meet and hear what you think! You can book a slot here\n",
      "<https://calendly.com/koen-k78/new-meeting>\n",
      "\n",
      "\n",
      "*Calendly*\n",
      "*<https://calendly.com/koen-k78/new-meeting|OpenMined product testing session - Koen van der Veen>*\n",
      "Testing session for a product we are building. Please make sure that you are on your personal laptop on which you can install software, more specifically python packages. If you have never played around with mcp, you could give it a shot before the meeting, but this is not a must.\n",
      "[-0.1703381985425949, 0.9063040614128113, -2.825320243835449, -0.9591617584228516, 0.17834989726543427, -0.23232512176036835, 0.35932502150535583, -0.41113364696502686, 0.42318132519721985, -0.8302618861198425]\n",
      "Hey Koen! Meet Nara. We've just met as they're interested in trying out the MCP prototype!\n",
      "[-0.35723286867141724, 1.4319463968276978, -3.19661283493042, -0.33486780524253845, 0.21322990953922272, -0.7843325138092041, -1.2486770153045654, -0.6853587031364441, -0.4017963707447052, 0.023344429209828377]\n",
      "Very curious to hear your thoughts Ben!\n",
      "[0.38962024450302124, -0.16542020440101624, -3.1632895469665527, -0.31081297993659973, 0.8991805911064148, 0.7778027653694153, -0.15781985223293304, -0.44227027893066406, 0.3644111752510071, -0.3559371829032898]\n",
      "Hey Koen — please meet Ben Santos, who is interested in the MCP Prototype! We've worked together for a number of years in/around the UN PET Lab.\n",
      "[-0.7076879143714905, 1.0709075927734375, -3.295961380004883, -0.0007930633146315813, 0.9776623249053955, -0.4006420373916626, -1.2851972579956055, -0.24532966315746307, -0.44775933027267456, -0.8197936415672302]\n",
      "Apologies for th inconvenience\n",
      "[1.50785493850708, 1.4326809644699097, -3.619992971420288, -1.085221767425537, 1.0306710004806519, 1.1363656520843506, 1.2868115901947021, 1.7631806135177612, 1.0620414018630981, 0.12853050231933594]\n",
      "Hey <@U04BT20EL7N>, I am very sorry but but I misconfigured calendly for the day you booked a slot (the week starts on sunday in their calendar), so I have to cancel that one. Could you book another one?\n",
      "[-0.6562904715538025, -0.3351641595363617, -3.0583295822143555, -0.6913660168647766, -0.3698211908340454, 0.1818569004535675, 0.5820702314376831, -0.8218114376068115, 0.36479631066322327, -0.7535171508789062]\n",
      "thx!\n",
      "[-0.34961435198783875, 0.5994524955749512, -4.140167236328125, -0.45929116010665894, -0.14169812202453613, -0.1520230621099472, -1.1645760536193848, 1.166333794593811, 0.11328338086605072, -0.3194592595100403]\n",
      "one of our AI alliance partners surfaced this, fyi- <https://lu.ma/ub0qfdqk>\n",
      "[0.38152921199798584, 1.9927722215652466, -3.348789930343628, -0.5635525584220886, 1.9431804418563843, -0.3030428886413574, -0.5552465915679932, -0.3396165370941162, 1.1002707481384277, 0.08083738386631012]\n",
      "hey not sure how relevant this is to your bet but wanted to flag in case it's of interest - <https://slack.com/intl/en-gb/events/unlocking-the-real-world-power-of-ai-at-work?nc=701ed00000YCgceAAD&amp;d=701ed00000YCSueAAH>\n",
      "[0.19042859971523285, 2.2135396003723145, -3.0911850929260254, -0.003155873389914632, 1.400944471359253, 0.4018694758415222, 0.8462491035461426, -0.15159828960895538, 0.22795484960079193, -0.6147327423095703]\n",
      ":rocket: Excited to Announce: SEAL-PYTHON-4.1.2 is Now Open Source! :unlock:\n",
      "\n",
      "I’m thrilled to share that my Python bindings for Microsoft SEAL, one of the world’s leading homomorphic encryption libraries, are now available to everyone on GitHub!\n",
      "\n",
      "With SEAL-PYTHON-4.1.2, you can:\n",
      "\n",
      "Perform privacy-preserving computations in Python using CKKS, BFV and BGV schemes\n",
      "Easily serialize, batch encrypted data.\n",
      "\n",
      "Learn from beginner-friendly examples and detailed documentation\n",
      ":link: Check it out:\n",
      "<https://github.com/chandradutt5746/SEAL-PYTHON-4.1.2|https://github.com/chandradutt5746/SEAL-PYTHON-4.1.2>\n",
      "\n",
      "Whether you’re a researcher, student or developer interested in secure computation and privacy, I hope this project helps you get started with homomorphic encryption in Python.\n",
      "\n",
      "Looking for Collaboration with experienced Cryptography Experts. If you are or know someone please connect with me on my LinkedIn. \n",
      "\n",
      "Thank you for your support. \n",
      "\n",
      "  <#CB4EP5D70|>   <#C010E0SS4PR|>\n",
      "[-0.7228659987449646, 1.651646375656128, -3.0550012588500977, -1.0544029474258423, 0.9989851117134094, -0.6374695897102356, -1.3324017524719238, 0.3422432243824005, -0.18344645202159882, -0.9180737137794495]\n",
      "Hey everyone —\n",
      "I’m someone who’s really passionate about data privacy and how we can build better tech without compromising personal rights.\n",
      "I’m running a short, anonymous survey to learn how people think about privacy, compliance, and the future of secure data handling. If you’ve got a couple minutes, I’d love to hear your thoughts:\n",
      "<https://forms.gle/8eY4FiP8ys7ZPY8L9>\n",
      "Thanks so much — it really means a lot!\n",
      "[0.1390695869922638, 1.6065847873687744, -2.454172372817993, -0.26387229561805725, 1.161411166191101, 0.41483190655708313, 0.1517052799463272, -0.16616149246692657, 0.9742587804794312, 0.017548279836773872]\n",
      "Hi everyone! :wave: I’m Femi, currently exploring opportunities at the intersection of AI, aviation, systems design, and user engagement. I’m excited to join the OpenMind Stack community to learn, share, and collaborate on innovative approaches to open infrastructure and intelligent systems. Looking forward to connecting with you all! <https://www.linkedin.com/in/oluwafemi-fabiyi/>\n",
      "[-1.01519775390625, 1.7029469013214111, -3.177264451980591, -0.31489095091819763, 1.0048110485076904, 0.7157164812088013, -0.0383211150765419, -0.6495681405067444, 0.05736728757619858, -0.8185944557189941]\n"
     ]
    }
   ],
   "source": [
    "from slack_mcp.db import deserialize_float32\n",
    "\n",
    "\n",
    "for i, x in enumerate(res):\n",
    "    print(x[\"chunk_text\"])\n",
    "    # print(dict(x))\n",
    "    encoded_emb = x[\"sample_embedding\"]\n",
    "    embedding = deserialize_float32(encoded_emb)[:10]\n",
    "    print(embedding)\n",
    "    if i>10:\n",
    "        break"
   ]
  },
  {
   "cell_type": "code",
   "execution_count": 33,
   "id": "444f13e5",
   "metadata": {},
   "outputs": [
    {
     "data": {
      "text/plain": [
       "0"
      ]
     },
     "execution_count": 33,
     "metadata": {},
     "output_type": "execute_result"
    }
   ],
   "source": [
    "def n_embeddings(conn):\n",
    "    cursor = conn.cursor()\n",
    "    cursor.execute(\"SELECT COUNT(*) FROM message_embeddings_vec\")\n",
    "    return cursor.fetchone()[0]\n",
    "\n",
    "n_embeddings(conn)\n"
   ]
  },
  {
   "cell_type": "code",
   "execution_count": null,
   "id": "ca8e637f",
   "metadata": {},
   "outputs": [],
   "source": []
  }
 ],
 "metadata": {
  "kernelspec": {
   "display_name": "Python 3 (ipykernel)",
   "language": "python",
   "name": "python3"
  },
  "language_info": {
   "codemirror_mode": {
    "name": "ipython",
    "version": 3
   },
   "file_extension": ".py",
   "mimetype": "text/x-python",
   "name": "python",
   "nbconvert_exporter": "python",
   "pygments_lexer": "ipython3",
   "version": "3.12.11"
  }
 },
 "nbformat": 4,
 "nbformat_minor": 5
}

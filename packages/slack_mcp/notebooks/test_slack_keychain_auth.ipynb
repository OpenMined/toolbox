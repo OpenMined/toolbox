{
 "cells": [
  {
   "cell_type": "code",
   "execution_count": null,
   "id": "59d05ba7",
   "metadata": {},
   "outputs": [],
   "source": [
    "from toolbox.store.callbacks.auth.auth_slack_keyring import get_tokens_and_cookie, get_cookie, get_tokens, get_config\n"
   ]
  },
  {
   "cell_type": "code",
   "execution_count": null,
   "id": "9c4d7323",
   "metadata": {},
   "outputs": [],
   "source": [
    "import json"
   ]
  },
  {
   "cell_type": "code",
   "execution_count": null,
   "id": "9d46a743",
   "metadata": {},
   "outputs": [],
   "source": [
    "\n",
    "def remove_control_chars(s):\n",
    "    \"\"\"Remove ASCII control characters (0–31) except \\n, \\r, \\t.\"\"\"\n",
    "    s = s.replace('\\x00', '')\n",
    "\n",
    "    return re.sub(r\"[\\x00-\\x08\\x0B\\x0C\\x0E-\\x1F]\", \"\", s)"
   ]
  },
  {
   "cell_type": "code",
   "execution_count": null,
   "id": "931c37b3",
   "metadata": {},
   "outputs": [],
   "source": [
    "def fix_quotes_heuristic(s):\n",
    "    \"\"\"Fix malformed quotes like '000\"\".\"\"0' → '000.0'.\"\"\"\n",
    "    # Replace duplicated quotes between numbers/words\n",
    "    s = re.sub(r'\"([^\"]*?)\"\\s*\"\\s*\\.\\s*\"\\s*\"([^\"]*?)\"', r'\"\\1.\\2\"', s)\n",
    "    return s"
   ]
  },
  {
   "cell_type": "code",
   "execution_count": null,
   "id": "4bcea1a4",
   "metadata": {},
   "outputs": [],
   "source": [
    "import leveldb\n",
    "from toolbox.store.callbacks.auth.auth_slack_keyring import get_config, SLACK_LEVELDB_PATH, try_to_copy_and_read_leveldb, remove_control_chars\n",
    "import json\n",
    "\n",
    "db = try_to_copy_and_read_leveldb(SLACK_LEVELDB_PATH)\n",
    "cfg = next(v for k, v in db.RangeIter() if bytearray(b\"localConfig_v2\") in k)\n",
    "decoded_cfg = cfg[1:].decode(\"utf-8\", errors=\"ignore\")\n",
    "cleaned_cfg = remove_control_chars(decoded_cfg)\n",
    "cleaned_cfg = fix_quotes_heuristic(cleaned_cfg)\n",
    "try:\n",
    "    cfg = json.loads(cleaned_cfg)\n",
    "except Exception as e:\n",
    "    cleaned_cfg = cleaned_cfg + \"}\"\n",
    "    cfg = json.loads(cleaned_cfg)\n",
    "    "
   ]
  },
  {
   "cell_type": "code",
   "execution_count": null,
   "id": "ceeaa529",
   "metadata": {},
   "outputs": [],
   "source": [
    "fix_quotes_heuristic('\"startTs\": \"000\"\".\"\"0\"')"
   ]
  },
  {
   "cell_type": "code",
   "execution_count": null,
   "id": "57883c2a",
   "metadata": {},
   "outputs": [],
   "source": [
    "cleaned_cfg"
   ]
  },
  {
   "cell_type": "code",
   "execution_count": null,
   "id": "740de5cd",
   "metadata": {},
   "outputs": [],
   "source": [
    "import json\n",
    "import re\n",
    "\n",
    "def remove_control_chars(s):\n",
    "    \"\"\"Remove ASCII control characters (0–31) except \\n, \\r, \\t.\"\"\"\n",
    "    s = s.replace('\\x00', '')\n",
    "\n",
    "    return re.sub(r\"[\\x00-\\x08\\x0B\\x0C\\x0E-\\x1F]\", \"\", s)\n",
    "\n",
    "def fix_quotes_heuristic(s):\n",
    "    \"\"\"Fix malformed quotes like '000\"\".\"\"0' → '000.0'.\"\"\"\n",
    "    # Replace duplicated quotes between numbers/words\n",
    "    s = re.sub(r'(\\d)\"\"(\\.?)\"\"(\\d)', r'\\1\\2\\3', s)\n",
    "    s = re.sub(r'\"\"', '\"', s)\n",
    "    return s\n",
    "\n",
    "def try_json_repair(s):\n",
    "    \"\"\"Try to repair malformed JSON by applying heuristics.\"\"\"\n",
    "    try:\n",
    "        s = fix_quotes_heuristic(s)\n",
    "        return json.loads(s)\n",
    "    except json.JSONDecodeError:\n",
    "        \n",
    "\n",
    "        # Common fix: if string ends without a closing brace\n",
    "        s += \"}\"\n",
    "\n",
    "        try:\n",
    "            return json.loads(s)\n",
    "        except json.JSONDecodeError as e:\n",
    "            raise RuntimeError(\"Failed to parse Slack config JSON.\") from e\n",
    "\n",
    "\n",
    "    try:\n",
    "        raw = cfg.decode('utf-8', errors='replace')  # use 'replace' to avoid decode crashes\n",
    "    except UnicodeDecodeError as e:\n",
    "        raise RuntimeError(\"Failed to decode Slack config bytes as UTF-8.\") from e\n",
    "\n",
    "    cleaned = remove_control_chars(raw)\n",
    "\n",
    "    return try_json_repair(cleaned)"
   ]
  },
  {
   "cell_type": "code",
   "execution_count": null,
   "id": "95d880ae",
   "metadata": {},
   "outputs": [],
   "source": [
    "get_config(db)"
   ]
  },
  {
   "cell_type": "code",
   "execution_count": null,
   "id": "3942bdec",
   "metadata": {},
   "outputs": [],
   "source": []
  },
  {
   "cell_type": "code",
   "execution_count": null,
   "id": "0c7d8c54",
   "metadata": {},
   "outputs": [],
   "source": [
    "import json\n",
    "import re\n",
    "\n",
    "def remove_control_chars(s):\n",
    "    # Remove all non-printable control characters (ASCII 0–31), except \\n, \\r, \\t\n",
    "    return re.sub(r\"[\\x00-\\x08\\x0B\\x0C\\x0E-\\x1F]\", \"\", s)\n",
    "\n",
    "def safe_json_load(s):\n",
    "    \"\"\"\n",
    "    Attempts to safely load malformed JSON by fixing common issues.\n",
    "    \"\"\"\n",
    "    try:\n",
    "        return json.loads(s)\n",
    "    except json.JSONDecodeError as e:\n",
    "        # Try to handle common issue: extra unescaped quotes\n",
    "        fixed = s.replace('\"\"', '\"').replace('\"\"\"', '\"')\n",
    "        try:\n",
    "            return json.loads(fixed)\n",
    "        except Exception:\n",
    "            # Try trimming or adding closing brace if missing\n",
    "            if not fixed.strip().endswith(\"}\"):\n",
    "                fixed += \"}\"\n",
    "            try:\n",
    "                return json.loads(fixed)\n",
    "            except Exception:\n",
    "                raise RuntimeError(\"JSON still malformed after fixes.\") from e\n",
    "\n",
    "\n",
    "        # Find the key with 'localConfig_v2' in it\n",
    "cfg = next(v for k, v in db.RangeIter() if b\"localConfig_v2\" in k)\n",
    "try:\n",
    "    # Slack sometimes prefixes with a status byte, skip it if needed\n",
    "    if cfg.startswith(b\"{\"):\n",
    "        raw_json = cfg.decode(\"utf-8\")\n",
    "    else:\n",
    "        raw_json = cfg[1:].decode(\"utf-8\")\n",
    "\n",
    "    cleaned_json = remove_control_chars(raw_json)\n",
    "\n",
    "    # Attempt safe load\n",
    "    res = safe_json_load(cleaned_json)\n",
    "\n",
    "except Exception as e:\n",
    "    raise RuntimeError(\"Slack config is malformed or unreadable.\") from e\n"
   ]
  },
  {
   "cell_type": "code",
   "execution_count": null,
   "id": "ce36dc39",
   "metadata": {},
   "outputs": [],
   "source": [
    "cfg"
   ]
  },
  {
   "cell_type": "code",
   "execution_count": null,
   "id": "6875c19e",
   "metadata": {},
   "outputs": [],
   "source": [
    "xoxd_cookie = get_cookie()"
   ]
  },
  {
   "cell_type": "code",
   "execution_count": null,
   "id": "bf5876b9",
   "metadata": {},
   "outputs": [],
   "source": [
    "# xoxd_cookie = get_slack_xoxd_cookie()\n",
    "from slack_sdk import WebClient\n",
    "import os\n",
    "\n",
    "slack_token = os.getenv(\"SLACK_TOKEN\")  # Your API token (xoxc-...)\n",
    "\n",
    "import requests\n",
    "\n",
    "cookies = {\"d\": xoxd_cookie}\n",
    "headers = {\"User-Agent\": \"Mozilla/5.0\"}\n",
    "slack_token = os.getenv(\"SLACK_TOKEN\")\n",
    "\n",
    "response = requests.post(\n",
    "    \"https://slack.com/api/auth.test\",\n",
    "    headers=headers,\n",
    "    cookies=cookies,\n",
    "    data={\"token\": slack_token},\n",
    ")\n",
    "response_json = response.json()\n",
    "assert response_json[\"ok\"] == True\n",
    "\n",
    "# headers = {\"Cookie\": f\"d={xoxd_cookie}\", \"User-Agent\": \"Mozilla/5.0\"}\n",
    "# client = WebClient(token=slack_token, headers=headers)\n",
    "\n",
    "# response = client.auth_test()\n",
    "# assert response.data[\"ok\"] == True"
   ]
  },
  {
   "cell_type": "code",
   "execution_count": null,
   "id": "23c1e012",
   "metadata": {},
   "outputs": [],
   "source": [
    "tokens_and_cookie = get_tokens_and_cookie()"
   ]
  },
  {
   "cell_type": "code",
   "execution_count": null,
   "id": "16a48d2d",
   "metadata": {},
   "outputs": [],
   "source": [
    "token = tokens_and_cookie['tokens'][\"https://openmined.slack.com/\"][\"token\"]"
   ]
  },
  {
   "cell_type": "markdown",
   "id": "93c17625",
   "metadata": {},
   "source": [
    "old: 'xoxc-213207348208etcetcetc'\n"
   ]
  },
  {
   "cell_type": "code",
   "execution_count": null,
   "id": "9de24927",
   "metadata": {},
   "outputs": [],
   "source": [
    "import sqlite3\n",
    "\n",
    "db_path = \"/Users/koen/Library/Containers/com.tinyspeck.slackmacgap/Data/Library/Application Support/Slack/Cookies\"\n",
    "conn = sqlite3.connect(db_path)\n",
    "cursor = conn.cursor()\n",
    "\n",
    "# Check if there's a meta table with version info\n",
    "cursor.execute(\"SELECT name FROM sqlite_master WHERE type='table';\")\n",
    "tables = cursor.fetchall()\n",
    "print(\"Tables:\", tables)\n",
    "\n",
    "# Try to get version info\n",
    "try:\n",
    "    cursor.execute(\"SELECT * FROM meta;\")\n",
    "    print(\"Meta table:\", cursor.fetchall())\n",
    "except:\n",
    "    pass\n",
    "\n",
    "conn.close()"
   ]
  },
  {
   "cell_type": "code",
   "execution_count": null,
   "id": "fccb09bf",
   "metadata": {},
   "outputs": [],
   "source": [
    "cookie"
   ]
  },
  {
   "cell_type": "code",
   "execution_count": null,
   "id": "595125fb",
   "metadata": {},
   "outputs": [],
   "source": [
    "from slack_sdk import WebClient\n",
    "headers = {\"Cookie\": f\"d={cookie}\", \"User-Agent\": \"Mozilla/5.0 (compatible; Python)\"}\n",
    "client = WebClient(token=token, headers=headers)"
   ]
  },
  {
   "cell_type": "code",
   "execution_count": null,
   "id": "6ee0eb6f",
   "metadata": {},
   "outputs": [],
   "source": [
    "res = client.auth_test()"
   ]
  },
  {
   "cell_type": "code",
   "execution_count": null,
   "id": "f46ebe2e",
   "metadata": {},
   "outputs": [],
   "source": [
    "\n",
    "res.data"
   ]
  },
  {
   "cell_type": "code",
   "execution_count": null,
   "id": "8b4171ea",
   "metadata": {},
   "outputs": [],
   "source": []
  }
 ],
 "metadata": {
  "kernelspec": {
   "display_name": "Python 3 (ipykernel)",
   "language": "python",
   "name": "python3"
  },
  "language_info": {
   "codemirror_mode": {
    "name": "ipython",
    "version": 3
   },
   "file_extension": ".py",
   "mimetype": "text/x-python",
   "name": "python",
   "nbconvert_exporter": "python",
   "pygments_lexer": "ipython3",
   "version": "3.12.11"
  }
 },
 "nbformat": 4,
 "nbformat_minor": 5
}

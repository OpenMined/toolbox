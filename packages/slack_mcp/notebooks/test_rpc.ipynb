{
 "cells": [
  {
   "cell_type": "code",
   "execution_count": 34,
   "id": "68b9a2a1",
   "metadata": {},
   "outputs": [],
   "source": [
    "from slack_mcp.syftbox_client import create_authenticated_client"
   ]
  },
  {
   "cell_type": "code",
   "execution_count": 39,
   "id": "11ace2ea",
   "metadata": {},
   "outputs": [],
   "source": [
    "client = create_authenticated_client(\n",
    "    app_name=\"slack-mcp\",\n",
    "    user_email=\"koen@openmined.org\",\n",
    "    access_token=\"dd1f7\",\n",
    ")"
   ]
  },
  {
   "cell_type": "code",
   "execution_count": 54,
   "id": "2d89112e",
   "metadata": {},
   "outputs": [],
   "source": [
    "import sqlite_vec"
   ]
  },
  {
   "cell_type": "code",
   "execution_count": null,
   "id": "b723a057",
   "metadata": {},
   "outputs": [],
   "source": []
  },
  {
   "cell_type": "code",
   "execution_count": 40,
   "id": "b1a4e94c",
   "metadata": {},
   "outputs": [],
   "source": [
    "result = client.post(\"get_new_chunks/\", timeout=10)\n"
   ]
  },
  {
   "cell_type": "code",
   "execution_count": 42,
   "id": "b09c1f8d",
   "metadata": {},
   "outputs": [
    {
     "data": {
      "text/plain": [
       "<Response [200 OK]>"
      ]
     },
     "execution_count": 42,
     "metadata": {},
     "output_type": "execute_result"
    }
   ],
   "source": [
    "result"
   ]
  },
  {
   "cell_type": "code",
   "execution_count": 49,
   "id": "ed5d46b3",
   "metadata": {},
   "outputs": [],
   "source": [
    "import uuid\n",
    "from slack_mcp.models import Chunk\n",
    "\n",
    "res = client.post(\n",
    "    \"upload_embeddings/\",\n",
    "    json=[\n",
    "        Chunk(\n",
    "            chunk_id=uuid.uuid4(), channel_ids=[], tss=[], chunk_text=\"test\", embedding=[0.1] *768,\n",
    "        ).model_dump(mode=\"json\")\n",
    "    ],\n",
    ")"
   ]
  },
  {
   "cell_type": "code",
   "execution_count": 50,
   "id": "f68fd915",
   "metadata": {},
   "outputs": [
    {
     "data": {
      "text/plain": [
       "<Response [200 OK]>"
      ]
     },
     "execution_count": 50,
     "metadata": {},
     "output_type": "execute_result"
    }
   ],
   "source": [
    "res"
   ]
  },
  {
   "cell_type": "code",
   "execution_count": 17,
   "id": "d7d36f97",
   "metadata": {},
   "outputs": [],
   "source": [
    "# result.json()"
   ]
  },
  {
   "cell_type": "code",
   "execution_count": 5,
   "id": "a1fcd83f",
   "metadata": {},
   "outputs": [],
   "source": [
    "from httpx import Response"
   ]
  },
  {
   "cell_type": "code",
   "execution_count": 10,
   "id": "14990629",
   "metadata": {},
   "outputs": [
    {
     "ename": "NameError",
     "evalue": "name 'Response' is not defined",
     "output_type": "error",
     "traceback": [
      "\u001b[31m---------------------------------------------------------------------------\u001b[39m",
      "\u001b[31mNameError\u001b[39m                                 Traceback (most recent call last)",
      "\u001b[36mCell\u001b[39m\u001b[36m \u001b[39m\u001b[32mIn[10]\u001b[39m\u001b[32m, line 3\u001b[39m\n\u001b[32m      1\u001b[39m \u001b[38;5;28;01mimport\u001b[39;00m\u001b[38;5;250m \u001b[39m\u001b[34;01mjson\u001b[39;00m\n\u001b[32m----> \u001b[39m\u001b[32m3\u001b[39m http_response = \u001b[43mResponse\u001b[49m(\n\u001b[32m      4\u001b[39m     status_code=\u001b[32m200\u001b[39m,\n\u001b[32m      5\u001b[39m     headers={},\n\u001b[32m      6\u001b[39m     content=json.dumps({\u001b[33m\"\u001b[39m\u001b[33mmessage\u001b[39m\u001b[33m\"\u001b[39m: \u001b[33m\"\u001b[39m\u001b[33mHello, world!\u001b[39m\u001b[33m\"\u001b[39m}).encode(\u001b[33m\"\u001b[39m\u001b[33mutf-8\u001b[39m\u001b[33m\"\u001b[39m),\n\u001b[32m      7\u001b[39m )\n",
      "\u001b[31mNameError\u001b[39m: name 'Response' is not defined"
     ]
    }
   ],
   "source": [
    "import json\n",
    "\n",
    "http_response = Response(\n",
    "    status_code=200,\n",
    "    headers={},\n",
    "    content=json.dumps({\"message\": \"Hello, world!\"}).encode(\"utf-8\"),\n",
    ")"
   ]
  },
  {
   "cell_type": "code",
   "execution_count": 9,
   "id": "71f9a618",
   "metadata": {},
   "outputs": [
    {
     "ename": "NameError",
     "evalue": "name 'http_response' is not defined",
     "output_type": "error",
     "traceback": [
      "\u001b[31m---------------------------------------------------------------------------\u001b[39m",
      "\u001b[31mNameError\u001b[39m                                 Traceback (most recent call last)",
      "\u001b[36mCell\u001b[39m\u001b[36m \u001b[39m\u001b[32mIn[9]\u001b[39m\u001b[32m, line 1\u001b[39m\n\u001b[32m----> \u001b[39m\u001b[32m1\u001b[39m \u001b[43mhttp_response\u001b[49m.json()\n",
      "\u001b[31mNameError\u001b[39m: name 'http_response' is not defined"
     ]
    }
   ],
   "source": [
    "http_response.json()"
   ]
  },
  {
   "cell_type": "code",
   "execution_count": 8,
   "id": "1660ac9d",
   "metadata": {},
   "outputs": [],
   "source": [
    "x='{\"chunks\":[{\"chunk_id\":\"8418fe3b-e0a0-45d4-ae75-eebf1ab61109\",\"channel_ids\":[\"C087B635412\"],\"tss\":[\"1753259687.296899\"],\"chunk_text\":\"Hey <@U04UFSV9RT8>, nice to meet you! Apologies for the delay, I was already offline when Andrew posted yesterday. Happy to hear you are interested to test the product we are building! I will be doing some casual test sessions over the coming weeks in which I will walk you through installation, usage and ask some questions. Only requirements are\\\\n\\\\n1) that you are on a mac machine (we dont support other operating systems in this early version)\\\\n2) you are on a machine that allows you to install python packages and other software\\\\n3) you have python and some environment manager like conda or uv installed before the meeting.\\\\n\\\\nLooking forward to meet and hear what you think! You can book a slot here\\\\n<https://calendly.com/koen-k78/new-meeting>\\\\n\\\\n\\\\n*Calendly*\\\\n*<https://calendly.com/koen-k78/new-meeting|OpenMined product testing session - Koen van der Veen>*\\\\nTesting session for a product we are building. Please make sure that you are on your personal laptop on which you can install software, more specifically python packages. If you have never played around with mcp, you could give it a shot before the meeting, but this is not a must.\",\"embedding\":null},{\"chunk_id\":\"e54ea3a1-307f-4503-b271-771bf3b24bcb\",\"channel_ids\":[\"C087B635412\"],\"tss\":[\"1753201079.417349\"],\"chunk_text\":\"Hey Koen! Meet Nara. We\\'ve just met as they\\'re interested in trying out the MCP prototype!\",\"embedding\":null},{\"chunk_id\":\"950f93aa-c520-44d2-9bdd-e0a9cee354b4\",\"channel_ids\":[\"C087B635412\"],\"tss\":[\"1753718179.419289\"],\"chunk_text\":\"Very curious to hear your thoughts Ben!\",\"embedding\":null},{\"chunk_id\":\"ef3bff4a-ed23-49ae-8a51-f5c0d5b02747\",\"channel_ids\":[\"C087B635412\"],\"tss\":[\"1753718170.915289\"],\"chunk_text\":\"Hey Koen — please meet Ben Santos, who is interested in the MCP Prototype! We\\'ve worked together for a number of years in/around the UN PET Lab.\",\"embedding\":null},{\"chunk_id\":\"a165dce8-11e9-40a9-b9d7-632c3a5692c4\",\"channel_ids\":[\"C087B635412\"],\"tss\":[\"1753354039.939269\"],\"chunk_text\":\"Apologies for th inconvenience\",\"embedding\":null},{\"chunk_id\":\"6f075d3e-3615-45cb-8683-73cd68ff54e1\",\"channel_ids\":[\"C087B635412\"],\"tss\":[\"1753354017.584219\"],\"chunk_text\":\"Hey <@U04BT20EL7N>, I am very sorry but but I misconfigured calendly for the day you booked a slot (the week starts on sunday in their calendar), so I have to cancel that one. Could you book another one?\",\"embedding\":null},{\"chunk_id\":\"9b53f9a5-d3d7-43db-9646-2ebc8a91bee3\",\"channel_ids\":[\"C087B635412\"],\"tss\":[\"1752512654.557169\"],\"chunk_text\":\"thx!\",\"embedding\":null},{\"chunk_id\":\"fa23357d-3c71-4708-a581-d1ec7d9fb930\",\"channel_ids\":[\"C087B635412\"],\"tss\":[\"1752508086.050559\"],\"chunk_text\":\"one of our AI alliance partners surfaced this, fyi- <https://lu.ma/ub0qfdqk>\",\"embedding\":null},{\"chunk_id\":\"7db6f288-aac9-4482-8caf-9eb36f5236ff\",\"channel_ids\":[\"C087B635412\"],\"tss\":[\"1751569067.301589\"],\"chunk_text\":\"hey not sure how relevant this is to your bet but wanted to flag in case it\\'s of interest - <https://slack.com/intl/en-gb/events/unlocking-the-real-world-power-of-ai-at-work?nc=701ed00000YCgceAAD&amp;d=701ed00000YCSueAAH>\",\"embedding\":null},{\"chunk_id\":\"53cd5390-08a9-4548-90db-e8df058f1525\",\"channel_ids\":[\"C087B635412\"],\"tss\":[\"1751720963.718669\"],\"chunk_text\":\":rocket: Excited to Announce: SEAL-PYTHON-4.1.2 is Now Open Source! :unlock:\\\\n\\\\nI’m thrilled to share that my Python bindings for Microsoft SEAL, one of the world’s leading homomorphic encryption libraries, are now available to everyone on GitHub!\\\\n\\\\nWith SEAL-PYTHON-4.1.2, you can:\\\\n\\\\nPerform privacy-preserving computations in Python using CKKS, BFV and BGV schemes\\\\nEasily serialize, batch encrypted data.\\\\n\\\\nLearn from beginner-friendly examples and detailed documentation\\\\n:link: Check it out:\\\\n<https://github.com/chandradutt5746/SEAL-PYTHON-4.1.2|https://github.com/chandradutt5746/SEAL-PYTHON-4.1.2>\\\\n\\\\nWhether you’re a researcher, student or developer interested in secure computation and privacy, I hope this project helps you get started with homomorphic encryption in Python.\\\\n\\\\nLooking for Collaboration with experienced Cryptography Experts. If you are or know someone please connect with me on my LinkedIn. \\\\n\\\\nThank you for your support. \\\\n\\\\n  <#CB4EP5D70|>   <#C010E0SS4PR|>\",\"embedding\":null}]}'"
   ]
  },
  {
   "cell_type": "code",
   "execution_count": 9,
   "id": "ea28e19e",
   "metadata": {},
   "outputs": [],
   "source": [
    "# json.loads(x)"
   ]
  },
  {
   "cell_type": "code",
   "execution_count": 10,
   "id": "b2d1009a",
   "metadata": {},
   "outputs": [
    {
     "data": {
      "text/plain": [
       "'{\"chunks\":[{\"chunk_id\":\"04c87c10-cff3-44f4-b537-f5dad6ba34e8\",\"channel_ids\":[\"C087B635412\"],\"tss\":[\"1753259687.296899\"],\"chunk_text\":\"Hey <@U04UFSV9RT8>, nice to meet you! Apologies for the delay, I was already offline when Andrew posted yesterday. Happy to hear you are interested to test the product we are building! I will be doing some casual test sessions over the coming weeks in which I will walk you through installation, usage and ask some questions. Only requirements are\\\\n\\\\n1) that you are on a mac machine (we dont support other operating systems in this early version)\\\\n2) you are on a machine that allows you to install python packages and other software\\\\n3) you have python and some environment manager like conda or uv installed before the meeting.\\\\n\\\\nLooking forward to meet and hear what you think! You can book a slot here\\\\n<https://calendly.com/koen-k78/new-meeting>\\\\n\\\\n\\\\n*Calendly*\\\\n*<https://calendly.com/koen-k78/new-meeting|OpenMined product testing session - Koen van der Veen>*\\\\nTesting session for a product we are building. Please make sure that you are on your personal laptop on which you can install software, more specifically python packages. If you have never played around with mcp, you could give it a shot before the meeting, but this is not a must.\",\"embedding\":null},{\"chunk_id\":\"e0096cae-3f43-48ec-95a1-a2aff66f52c1\",\"channel_ids\":[\"C087B635412\"],\"tss\":[\"1753201079.417349\"],\"chunk_text\":\"Hey Koen! Meet Nara. We\\'ve just met as they\\'re interested in trying out the MCP prototype!\",\"embedding\":null},{\"chunk_id\":\"01a52b61-8b2f-4607-b1d6-c824cf54977a\",\"channel_ids\":[\"C087B635412\"],\"tss\":[\"1753718179.419289\"],\"chunk_text\":\"Very curious to hear your thoughts Ben!\",\"embedding\":null},{\"chunk_id\":\"49a2608e-a12f-4b43-bfd6-dc04895daaf9\",\"channel_ids\":[\"C087B635412\"],\"tss\":[\"1753718170.915289\"],\"chunk_text\":\"Hey Koen — please meet Ben Santos, who is interested in the MCP Prototype! We\\'ve worked together for a number of years in/around the UN PET Lab.\",\"embedding\":null},{\"chunk_id\":\"e3211af1-95ab-4d64-9390-1226a63af6ad\",\"channel_ids\":[\"C087B635412\"],\"tss\":[\"1753354039.939269\"],\"chunk_text\":\"Apologies for th inconvenience\",\"embedding\":null},{\"chunk_id\":\"d297fb59-f308-460f-9f10-603f30abf793\",\"channel_ids\":[\"C087B635412\"],\"tss\":[\"1753354017.584219\"],\"chunk_text\":\"Hey <@U04BT20EL7N>, I am very sorry but but I misconfigured calendly for the day you booked a slot (the week starts on sunday in their calendar), so I have to cancel that one. Could you book another one?\",\"embedding\":null},{\"chunk_id\":\"f2fb8440-4396-4f85-ab40-5f4e9af70af8\",\"channel_ids\":[\"C087B635412\"],\"tss\":[\"1752512654.557169\"],\"chunk_text\":\"thx!\",\"embedding\":null},{\"chunk_id\":\"a446c71e-caee-459b-ac07-e9168c2326a3\",\"channel_ids\":[\"C087B635412\"],\"tss\":[\"1752508086.050559\"],\"chunk_text\":\"one of our AI alliance partners surfaced this, fyi- <https://lu.ma/ub0qfdqk>\",\"embedding\":null},{\"chunk_id\":\"00f5d75e-8854-412a-9d9e-32bf29fee40c\",\"channel_ids\":[\"C087B635412\"],\"tss\":[\"1751569067.301589\"],\"chunk_text\":\"hey not sure how relevant this is to your bet but wanted to flag in case it\\'s of interest - <https://slack.com/intl/en-gb/events/unlocking-the-real-world-power-of-ai-at-work?nc=701ed00000YCgceAAD&amp;d=701ed00000YCSueAAH>\",\"embedding\":null},{\"chunk_id\":\"d8b31601-8aca-41e9-b55e-f9f65d6534c0\",\"channel_ids\":[\"C087B635412\"],\"tss\":[\"1751720963.718669\"],\"chunk_text\":\":rocket: Excited to Announce: SEAL-PYTHON-4.1.2 is Now Open Source! :unlock:\\\\n\\\\nI’m thrilled to share that my Python bindings for Microsoft SEAL, one of the world’s leading homomorphic encryption libraries, are now available to everyone on GitHub!\\\\n\\\\nWith SEAL-PYTHON-4.1.2, you can:\\\\n\\\\nPerform privacy-preserving computations in Python using CKKS, BFV and BGV schemes\\\\nEasily serialize, batch encrypted data.\\\\n\\\\nLearn from beginner-friendly examples and detailed documentation\\\\n:link: Check it out:\\\\n<https://github.com/chandradutt5746/SEAL-PYTHON-4.1.2|https://github.com/chandradutt5746/SEAL-PYTHON-4.1.2>\\\\n\\\\nWhether you’re a researcher, student or developer interested in secure computation and privacy, I hope this project helps you get started with homomorphic encryption in Python.\\\\n\\\\nLooking for Collaboration with experienced Cryptography Experts. If you are or know someone please connect with me on my LinkedIn. \\\\n\\\\nThank you for your support. \\\\n\\\\n  <#CB4EP5D70|>   <#C010E0SS4PR|>\",\"embedding\":null}]}'"
      ]
     },
     "execution_count": 10,
     "metadata": {},
     "output_type": "execute_result"
    }
   ],
   "source": [
    "result.json()"
   ]
  },
  {
   "cell_type": "code",
   "execution_count": 11,
   "id": "32614423",
   "metadata": {},
   "outputs": [
    {
     "data": {
      "text/plain": [
       "<Response [200 OK]>"
      ]
     },
     "execution_count": 11,
     "metadata": {},
     "output_type": "execute_result"
    }
   ],
   "source": [
    "result"
   ]
  },
  {
   "cell_type": "code",
   "execution_count": 12,
   "id": "759498ee",
   "metadata": {},
   "outputs": [
    {
     "data": {
      "text/plain": [
       "<Response [200 OK]>"
      ]
     },
     "execution_count": 12,
     "metadata": {},
     "output_type": "execute_result"
    }
   ],
   "source": [
    "result.raise_for_status()"
   ]
  },
  {
   "cell_type": "code",
   "execution_count": null,
   "id": "0c02637e",
   "metadata": {},
   "outputs": [],
   "source": []
  },
  {
   "cell_type": "code",
   "execution_count": null,
   "id": "fdb8abe7",
   "metadata": {},
   "outputs": [],
   "source": [
    "from pathlib import Path\n",
    "\n",
    "SLACK_LEVELDB_PATH = Path(\"/Users/koen/Library/Application Support/Slack/Local Storage/leveldb\")\n"
   ]
  },
  {
   "cell_type": "code",
   "execution_count": null,
   "id": "6aed1b26",
   "metadata": {},
   "outputs": [],
   "source": [
    "from toolbox.store.callbacks.auth.auth_slack_keyring import try_to_copy_and_read_leveldb, get_config\n",
    "leveldb = try_to_copy_and_read_leveldb(SLACK_LEVELDB_PATH)"
   ]
  }
 ],
 "metadata": {
  "kernelspec": {
   "display_name": "Python 3 (ipykernel)",
   "language": "python",
   "name": "python3"
  },
  "language_info": {
   "codemirror_mode": {
    "name": "ipython",
    "version": 3
   },
   "file_extension": ".py",
   "mimetype": "text/x-python",
   "name": "python",
   "nbconvert_exporter": "python",
   "pygments_lexer": "ipython3",
   "version": "3.12.11"
  }
 },
 "nbformat": 4,
 "nbformat_minor": 5
}

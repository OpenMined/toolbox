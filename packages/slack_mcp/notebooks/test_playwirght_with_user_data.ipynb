{
 "cells": [
  {
   "cell_type": "code",
   "execution_count": null,
   "id": "0",
   "metadata": {},
   "outputs": [],
   "source": [
    "from playwright.async_api import async_playwright, Page, Request, Response, Cookie\n"
   ]
  },
  {
   "cell_type": "code",
   "execution_count": null,
   "id": "1",
   "metadata": {},
   "outputs": [],
   "source": [
    "from time import sleep"
   ]
  },
  {
   "cell_type": "code",
   "execution_count": null,
   "id": "2",
   "metadata": {},
   "outputs": [],
   "source": [
    "from pathlib import Path"
   ]
  },
  {
   "cell_type": "code",
   "execution_count": null,
   "id": "3",
   "metadata": {},
   "outputs": [],
   "source": [
    "MACOS_CHROME_USER_DATA_DIR = Path(\n",
    "    \"~/Library/Application Support/Google/Chrome\"\n",
    ").expanduser()"
   ]
  },
  {
   "cell_type": "code",
   "execution_count": null,
   "id": "4",
   "metadata": {},
   "outputs": [],
   "source": [
    "async with async_playwright() as p:\n",
    "    browser = await p.chromium.launch_persistent_context(\n",
    "                channel=\"chrome\",\n",
    "                user_data_dir=MACOS_CHROME_USER_DATA_DIR,\n",
    "                # user_data_dir=\"\",\n",
    "                headless=False,\n",
    "                args=[\n",
    "                    \"--window-size=1280,800\",\n",
    "                    \"--window-position=100,100\",\n",
    "                    \"--no-first-run\",\n",
    "                    \"--no-default-browser-check\",\n",
    "                    \"--disable-infobars\",  # 🛑 Used to work, now often ignored\n",
    "                    \"--disable-blink-features=AutomationControlled\",  # ✅ Helps hide some automation signals\n",
    "                ],\n",
    "            )\n",
    "    context = browser\n",
    "    \n",
    "    sleep(1)\n",
    "    page = await context.new_page()\n",
    "    \n",
    "    workspace_url = f\"https://openmined.slack.com\"\n",
    "    print(f\"Opening browser to: {workspace_url}\")\n",
    "    await page.goto(workspace_url)\n",
    "    sleep(10)\n"
   ]
  },
  {
   "cell_type": "code",
   "execution_count": null,
   "id": "5",
   "metadata": {},
   "outputs": [],
   "source": []
  },
  {
   "cell_type": "code",
   "execution_count": null,
   "id": "6",
   "metadata": {},
   "outputs": [],
   "source": []
  }
 ],
 "metadata": {
  "kernelspec": {
   "display_name": "Python 3 (ipykernel)",
   "language": "python",
   "name": "python3"
  },
  "language_info": {
   "codemirror_mode": {
    "name": "ipython",
    "version": 3
   },
   "file_extension": ".py",
   "mimetype": "text/x-python",
   "name": "python",
   "nbconvert_exporter": "python",
   "pygments_lexer": "ipython3",
   "version": "3.12.11"
  }
 },
 "nbformat": 4,
 "nbformat_minor": 5
}

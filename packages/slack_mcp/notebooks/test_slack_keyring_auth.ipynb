{
 "cells": [
  {
   "cell_type": "code",
   "execution_count": null,
   "metadata": {},
   "outputs": [],
   "source": [
    "# !pip install slack_sdk"
   ]
  },
  {
   "cell_type": "code",
   "execution_count": null,
   "metadata": {},
   "outputs": [],
   "source": [
    "from toolbox.store.callbacks.auth.auth_slack_keyring import get_slack_leveldb_path, get_config, get_tokens, get_cookie\n",
    "import leveldb\n",
    "p = get_slack_leveldb_path()\n",
    "db = leveldb.LevelDB(str(p))\n",
    "config = get_config(db)\n",
    "tokens = {}\n"
   ]
  },
  {
   "cell_type": "code",
   "execution_count": null,
   "metadata": {},
   "outputs": [],
   "source": [
    "for v in config[\"teams\"].values():\n",
    "    if not isinstance(v,dict) or \"name\" not in v or \"token\" not in v:\n",
    "        continue\n",
    "    tokens[v[\"url\"]] = {\"token\": v[\"token\"], \"name\": v[\"name\"]}\n",
    "print(tokens)\n"
   ]
  },
  {
   "cell_type": "code",
   "execution_count": null,
   "metadata": {},
   "outputs": [],
   "source": [
    "list(config[\"teams\"].values())[0][\"token\"]"
   ]
  },
  {
   "cell_type": "code",
   "execution_count": null,
   "metadata": {},
   "outputs": [],
   "source": [
    "v"
   ]
  },
  {
   "cell_type": "code",
   "execution_count": null,
   "metadata": {},
   "outputs": [],
   "source": [
    "print(config)"
   ]
  },
  {
   "cell_type": "code",
   "execution_count": null,
   "metadata": {},
   "outputs": [],
   "source": [
    "from toolbox.store.callbacks.auth.auth_slack_keyring import get_slack_leveldb_path, get_config\n",
    "import leveldb\n",
    "# p = get_slack_leveldb_path()\n",
    "# db = leveldb.LevelDB(str(p))\n",
    "cfg = next(v for k, v in db.RangeIter() if bytearray(b\"localConfig_v2\") in k)"
   ]
  },
  {
   "cell_type": "code",
   "execution_count": null,
   "metadata": {},
   "outputs": [],
   "source": [
    "def remove_control_chars(s):\n",
    "    import re\n",
    "            # Remove all non-printable control characters (ASCII 0–31), except \\n, \\r, \\t\n",
    "    return re.sub(r\"[\\x00-\\x08\\x0B\\x0C\\x0E-\\x1F]\", \"\", s)"
   ]
  },
  {
   "cell_type": "code",
   "execution_count": null,
   "metadata": {},
   "outputs": [],
   "source": [
    "decoded_cfg = cfg[1:].decode(\"utf-8\")"
   ]
  },
  {
   "cell_type": "code",
   "execution_count": null,
   "metadata": {},
   "outputs": [],
   "source": [
    "cleaned_cfg = remove_control_chars(decoded_cfg)"
   ]
  },
  {
   "cell_type": "code",
   "execution_count": null,
   "metadata": {},
   "outputs": [],
   "source": [
    "len(cleaned_cfg)"
   ]
  },
  {
   "cell_type": "code",
   "execution_count": null,
   "metadata": {},
   "outputs": [],
   "source": [
    "cleaned_cfg"
   ]
  },
  {
   "cell_type": "code",
   "execution_count": null,
   "metadata": {},
   "outputs": [],
   "source": [
    "import json \n",
    "json.loads(cleaned_cfg +\"}\")"
   ]
  },
  {
   "cell_type": "code",
   "execution_count": null,
   "metadata": {},
   "outputs": [],
   "source": [
    "for k, v in db.RangeIter():\n",
    "    if b\"localConfig_v2\" in k:\n",
    "        cfg = v"
   ]
  },
  {
   "cell_type": "code",
   "execution_count": null,
   "metadata": {},
   "outputs": [],
   "source": [
    "cfg"
   ]
  },
  {
   "cell_type": "code",
   "execution_count": null,
   "metadata": {},
   "outputs": [],
   "source": [
    "cfg"
   ]
  },
  {
   "cell_type": "code",
   "execution_count": null,
   "metadata": {},
   "outputs": [],
   "source": [
    "cfg"
   ]
  },
  {
   "cell_type": "code",
   "execution_count": null,
   "metadata": {},
   "outputs": [],
   "source": [
    "cfg[:10]"
   ]
  },
  {
   "cell_type": "code",
   "execution_count": null,
   "metadata": {},
   "outputs": [],
   "source": [
    "x = cfg[1:].decode(\"utf-8\")"
   ]
  },
  {
   "cell_type": "code",
   "execution_count": null,
   "metadata": {},
   "outputs": [],
   "source": [
    "import json"
   ]
  },
  {
   "cell_type": "code",
   "execution_count": null,
   "metadata": {},
   "outputs": [],
   "source": [
    "x[635:640]"
   ]
  },
  {
   "cell_type": "code",
   "execution_count": null,
   "metadata": {},
   "outputs": [],
   "source": [
    "# json.loads(x)"
   ]
  },
  {
   "cell_type": "code",
   "execution_count": null,
   "metadata": {},
   "outputs": [],
   "source": [
    "def clean_json_string(s):\n",
    "    # Remove raw control characters except for \\t, \\n, \\r which are allowed in JSON strings\n",
    "    # Control chars: \\x00-\\x1F except 09 (tab), 0A (line feed), 0D (carriage return)\n",
    "    control_chars = ''.join(chr(c) for c in range(0x00, 0x20) if c not in (0x09, 0x0A, 0x0D))\n",
    "    control_char_re = re.compile(f'[{re.escape(control_chars)}]')\n",
    "    \n",
    "    return control_char_re.sub('', s)"
   ]
  },
  {
   "cell_type": "code",
   "execution_count": null,
   "metadata": {},
   "outputs": [],
   "source": [
    "import re\n",
    "cleaned = clean_json_string(x)\n",
    "json.loads(cleaned)"
   ]
  },
  {
   "cell_type": "code",
   "execution_count": null,
   "metadata": {},
   "outputs": [],
   "source": []
  },
  {
   "cell_type": "code",
   "execution_count": null,
   "metadata": {},
   "outputs": [],
   "source": [
    "cleaned[637:640]"
   ]
  },
  {
   "cell_type": "code",
   "execution_count": null,
   "metadata": {},
   "outputs": [],
   "source": [
    "# %debug"
   ]
  },
  {
   "cell_type": "code",
   "execution_count": null,
   "metadata": {},
   "outputs": [],
   "source": [
    "x = '{\"teams\":{\"T6963A864\":{\"id\":\"T6963A864\",\"name\":\"OpenMined\",\"url\":\"https://openmined.slack.com/\",\"domain\":\"openmined\",\"token\":\"xoxc-213207348208-254581243424-9248300835746-b6d52018c812a9a551937e05bfaabd7d87bc107ddf27037fd8acd9566f4a99f6\",\"user_locale\":\"en-GB\",\"user_id\":\"U7GH375CG\",\"is_unified_user_client_enabled\":true,\"icon\":{\"image_68\":\"https://avatars.slack-edge.com/2021-06-15/2160462094151_5b757f505fb0b11169e5_68.png\",\"image_88\":\"https://avatars.slack-edge.com/2021-06-15/2160462094151_5b757f505fb0b11169e5_88.png\",\"image_default\":false},\"channelSidebarBackground\":\"#1A1D21\",\"teamSwitcherBackground\":\"rgb(6,9,13)\",\"textColor\":\"#FFFF\",\"customTheme\":false,\"windowGradient\":true,\"iaTheming\":{\"primary\":{\"palette\":\"gray\"},\"highlight1\":{\"palette\":\"aquarium\"},\"highlight2\":{\"palette\":\"jade\"},\"important\":{\"palette\":\"sunflower\"},\"brightness\":6,\"mode\":\"light\"},\"topNavBackground\":\"#0000\",\"topNavTextColor\":\"#FFFF\",\"versionDataTs\":1753347156,\"lastViewState\":{\"__activeTab\":\"home\",\"home\":{\"sidebar\":{\"id\":\"ChannelList\",\"viewType\":\"ChannelList\"},\"primary\":{\"id\":\"C09767TDU5T\",\"viewType\":\"Channel\",\"params\":{\"parentTab\":\"C09767TDU5T\"},\"uiState\":{\"preventMoveFocus\":false,\"userSetUnreadPoint\":false,\"unreadLineVisible\":true,\"ghostLastRead\":null}},\"secondary\":{\"id\":\"rimeto_profile\",\"viewType\":\"Profile\",\"params\":{\"memberId\":\"U07747M6BKM\",\"parentTab\":\"C09767TDU5T\",\"tabId\":\"channel\"},\"uiState\":{}}},\"dms\":{\"sidebar\":{\"id\":\"DmsList\",\"viewType\":\"DmsList\"},\"primary\":{\"id\":\"Pempty\",\"viewType\":\"Page\"}},\"activity\":{\"sidebar\":{\"id\":\"ActivityList\",\"viewType\":\"ActivityList\"},\"primary\":{\"id\":\"Pempty\",\"viewType\":\"Page\"}},\"activity-inbox\":{\"sidebar\":{\"id\":\"ActivityInbox\",\"viewType\":\"ActivityInbox\"},\"primary\":{\"id\":\"ActivityEmpty\",\"viewType\":\"ActivityEmpty\"}},\"unified-files\":{\"sidebar\":{\"id\":\"UnifiedFilesSidebar\",\"viewType\":\"UnifiedFilesSidebar\"},\"primary\":{\"id\":\"BrowseUnifiedFiles\",\"viewType\":\"BrowseUnifiedFiles\"}},\"solutions\":{\"sidebar\":{\"id\":\"MoreSolutionsSidebar\",\"viewType\":\"MoreSolutionsSidebar\"},\"primary\":{\"id\":\"Solutions\",\"viewType\":\"Solutions\"}},\"agents\":{\"sidebar\":{\"id\":\"MoreAgentsSidebar\",\"viewType\":\"MoreAgentsSidebar\"},\"primary\":{\"id\":\"Agents\",\"viewType\":\"Agents\"}},\"sidekicks\":{\"sidebar\":{\"id\":\"MoreSidekicksSidebar\",\"viewType\":\"MoreSidekicksSidebar\"},\"primary\":{\"id\":\"Sidekicks\",\"viewType\":\"Sidekicks\"}},\"slack-kit-playground\":{\"primary\":{\"id\":\"SlackKitPlayground\",\"viewType\":\"SlackKitPlayground\"}},\"assistant\":{\"primary\":{\"id\":\"AssistantHome\",\"viewType\":\"AssistantHome\"}},\"later\":{\"sidebar\":{\"id\":\"LaterList\",\"viewType\":\"LaterList\"},\"primary\":{\"id\":\"Pempty\",\"viewType\":\"Page\"}},\"sales-home\":{\"sidebar\":{\"id\":\"SalesSidebar\",\"viewType\":\"SalesSidebar\"},\"primary\":{\"id\":\"SalesHome\",\"viewType\":\"SalesHome\"}},\"records\":{\"primary\":{\"id\":\"RecordChannelCreate\",\"viewType\":\"RecordChannelCreate\"}},\"external-connections\":{\"sidebar\":{\"id\":\"MoreExternalConnectionsSidebar\",\"viewType\":\"MoreExternalConnectionsSidebar\"},\"primary\":{\"id\":\"ExternalOrganizations\",\"viewType\":\"ExternalOrganizations\"}},\"browse\":{\"sidebar\":{\"id\":\"BrowseList\",\"viewType\":\"BrowseList\"},\"primary\":{\"id\":\"RecentFiles\",\"viewType\":\"RecentFiles\"}},\"search\":{\"sidebar\":{\"id\":\"Search\",\"viewType\":\"Search\"},\"primary\":{\"id\":\"SearchEmpty\",\"viewType\":\"SearchEmpty\"}},\"conversational-search\":{\"primary\":{\"id\":\"MultiTurnSearch\",\"viewType\":\"MultiTurnSearch\"}},\"files\":{\"sidebar\":{\"id\":\"MoreFilesSidebar\",\"viewType\":\"MoreFilesSidebar\"},\"primary\":{\"id\":\"RecentFiles\",\"viewType\":\"RecentFiles\"}},\"people\":{\"primary\":{\"id\":\"BrowsePeople\",\"viewType\":\"BrowsePeople\"},\"sidebar\":{\"id\":\"MorePeopleSidebar\",\"viewType\":\"MorePeopleSidebar\"}},\"channels\":{\"primary\":{\"id\":\"BrowseChannels\",\"viewType\":\"BrowseChannels\"}},\"platform\":{\"sidebar\":{\"id\":\"MorePlatformSidebar\",\"viewType\":\"MorePlatformSidebar\"},\"primary\":{\"id\":\"Pempty\",\"viewType\":\"Page\"}},\"canvases\":{\"sidebar\":{\"id\":\"MoreCanvasesSidebar\",\"viewType\":\"MoreCanvasesSidebar\"},\"primary\":{\"id\":\"BrowseCanvases\",\"viewType\":\"BrowseCanvases\"}},\"lists\":{\"sidebar\":{\"id\":\"MoreListsSidebar\",\"viewType\":\"MoreListsSidebar\"},\"primary\":{\"id\":\"Pbrowse-lists\",\"viewType\":\"BrowseLists\"}},\"todos\":{\"primary\":{\"id\":\"Ptodos\",\"viewType\":\"Tasks\"}},\"huddles\":{\"primary\":{\"id\":\"Phuddles\",\"viewType\":\"Page\"}},\"bbm\":{\"sidebar\":{\"id\":\"BBMMain\",\"viewType\":\"BBMMain\"}},\"admin\":{\"sidebar\":{\"id\":\"Admin\",\"viewType\":\"Admin\"}},\"today\":{\"primary\":{\"id\":\"Ptoday-v2\",\"viewType\":\"TodayV2\"}}}},\"prevTeams\":{},\"orderedTeamIds\":[\"T6963A864\"],\"pendingAuthTeams\":{},\"lc\":\"1753356636\",\"lastFetched\":\"1753356637\",\"lastActiveTeamId\":\"T6963A864\",\"canAccessClientV2\":true,\"lastColdBootTs\":1753356639042,\"slack-zoom-initial-setting\":0,\"conversationIncomingMessageSound\":\"\",\"conversationSentMessageSound\":\"\",\"conversationIncomingMessageAnnouncement\":true,\"recents\":[{\"__activeTab\":\"home\",\"home\":{\"sidebar\":{\"id\":\"ChannelList\",\"viewType\":\"ChannelList\"},\"primary\":{\"id\":\"C09767TDU5T\",\"viewType\":\"Channel\",\"params\":{\"parentTab\":\"C09767TDU5T\"}},\"secondary\":{\"id\":\"rimeto_profile\",\"viewType\":\"Profile\",\"params\":{\"memberId\":\"U07747M6BKM\",\"parentTab\":\"C09767TDU5T\",\"tabId\":\"channel\"}}},\"dms\":{\"sidebar\":{\"id\":\"DmsList\",\"viewType\":\"DmsList\"},\"primary\":{\"id\":\"Pempty\",\"viewType\":\"Page\"}},\"activity\":{\"sidebar\":{\"id\":\"ActivityList\",\"viewType\":\"ActivityList\"},\"primary\":{\"id\":\"Pempty\",\"viewType\":\"Page\"}},\"activity-inbox\":{\"sidebar\":{\"id\":\"ActivityInbox\",\"viewType\":\"ActivityInbox\"},\"primary\":{\"id\":\"ActivityEmpty\",\"viewType\":\"ActivityEmpty\"}},\"unified-files\":{\"sidebar\":{\"id\":\"UnifiedFilesSidebar\",\"viewType\":\"UnifiedFilesSidebar\"},\"primary\":{\"id\":\"BrowseUnifiedFiles\",\"viewType\":\"BrowseUnifiedFiles\"}},\"solutions\":{\"sidebar\":{\"id\":\"MoreSolutionsSidebar\",\"viewType\":\"MoreSolutionsSidebar\"},\"primary\":{\"id\":\"Solutions\",\"viewType\":\"Solutions\"}},\"agents\":{\"sidebar\":{\"id\":\"MoreAgentsSidebar\",\"viewType\":\"MoreAgentsSidebar\"},\"primary\":{\"id\":\"Agents\",\"viewType\":\"Agents\"}},\"sidekicks\":{\"sidebar\":{\"id\":\"MoreSidekicksSidebar\",\"viewType\":\"MoreSidekicksSidebar\"},\"primary\":{\"id\":\"Sidekicks\",\"viewType\":\"Sidekicks\"}},\"slack-kit-playground\":{\"primary\":{\"id\":\"SlackKitPlayground\",\"viewType\":\"SlackKitPlayground\"}},\"assistant\":{\"primary\":{\"id\":\"AssistantHome\",\"viewType\":\"AssistantHome\"}},\"later\":{\"sidebar\":{\"id\":\"LaterList\",\"viewType\":\"LaterList\"},\"primary\":{\"id\":\"Pempty\",\"viewType\":\"Page\"}},\"sales-home\":{\"sidebar\":{\"id\":\"SalesSidebar\",\"viewType\":\"SalesSidebar\"},\"primary\":{\"id\":\"SalesHome\",\"viewType\":\"SalesHome\"}},\"records\":{\"primary\":{\"id\":\"RecordChannelCreate\",\"viewType\":\"RecordChannelCreate\"}},\"external-connections\":{\"sidebar\":{\"id\":\"MoreExternalConnectionsSidebar\",\"viewType\":\"MoreExternalConnectionsSidebar\"},\"primary\":{\"id\":\"ExternalOrganizations\",\"viewType\":\"ExternalOrganizations\"}},\"browse\":{\"sidebar\":{\"id\":\"BrowseList\",\"viewType\":\"BrowseList\"},\"primary\":{\"id\":\"RecentFiles\",\"viewType\":\"RecentFiles\"}},\"search\":{\"sidebar\":{\"id\":\"Search\",\"viewType\":\"Search\"},\"primary\":{\"id\":\"SearchEmpty\",\"viewType\":\"SearchEmpty\"}},\"conversational-search\":{\"primary\":{\"id\":\"MultiTurnSearch\",\"viewType\":\"MultiTurnSearch\"}},\"files\":{\"sidebar\":{\"id\":\"MoreFilesSidebar\",\"viewType\":\"MoreFilesSidebar\"},\"primary\":{\"id\":\"RecentFiles\",\"viewType\":\"RecentFiles\"}},\"people\":{\"primary\":{\"id\":\"BrowsePeople\",\"viewType\":\"BrowsePeople\"},\"sidebar\":{\"id\":\"MorePeopleSidebar\",\"viewType\":\"MorePeopleSidebar\"}},\"channels\":{\"primary\":{\"id\":\"BrowseChannels\",\"viewType\":\"BrowseChannels\"}},\"platform\":{\"sidebar\":{\"id\":\"MorePlatformSidebar\",\"viewType\":\"MorePlatformSidebar\"},\"primary\":{\"id\":\"Pempty\",\"viewType\":\"Page\"}},\"canvases\":{\"sidebar\":{\"id\":\"MoreCanvasesSidebar\",\"viewType\":\"MoreCanvasesSidebar\"},\"primary\":{\"id\":\"BrowseCanvases\",\"viewType\":\"BrowseCanvases\"}},\"lists\":{\"sidebar\":{\"id\":\"MoreListsSidebar\",\"viewType\":\"MoreListsSidebar\"},\"primary\":{\"id\":\"Pbrowse-lists\",\"viewType\":\"BrowseLists\"}},\"todos\":{\"primary\":{\"id\":\"Ptodos\",\"viewType\":\"Tasks\"}},\"huddles\":{\"primary\":{\"id\":\"Phuddles\",\"viewType\":\"Page\"}},\"bbm\":{\"sidebar\":{\"id\":\"BBMMain\",\"viewType\":\"BBMMain\"}},\"admin\":{\"sidebar\":{\"id\":\"Admin\",\"viewType\":\"Admin\"}},\"today\":{\"primary\":{\"id\":\"Ptoday-v2\",\"viewType\":\"TodayV2\"}},\"id\":\"52694daf-f5ef-4d8a-bbdb-b7b8ac3abecc\",\"ts\":1753356676693,\"teamId\":\"T6963A864\",\"isIA4\":true},{\"__activeTab\":\"home\",\"home\":{\"sidebar\":{\"id\":\"ChannelList\",\"viewType\":\"ChannelList\"},\"primary\":{\"id\":\"C09767TDU5T\",\"viewType\":\"Channel\",\"params\":{\"parentTab\":\"C09767TDU5T\"}}},\"dms\":{\"sidebar\":{\"id\":\"DmsList\",\"viewType\":\"DmsList\"},\"primary\":{\"id\":\"Pempty\",\"viewType\":\"Page\"}},\"activity\":{\"sidebar\":{\"id\":\"ActivityList\",\"viewType\":\"ActivityList\"},\"primary\":{\"id\":\"Pempty\",\"viewType\":\"Page\"}},\"activity-inbox\":{\"sidebar\":{\"id\":\"ActivityInbox\",\"viewType\":\"ActivityInbox\"},\"primary\":{\"id\":\"ActivityEmpty\",\"viewType\":\"ActivityEmpty\"}},\"unified-files\":{\"sidebar\":{\"id\":\"UnifiedFilesSidebar\",\"viewType\":\"UnifiedFilesSidebar\"},\"primary\":{\"id\":\"BrowseUnifiedFiles\",\"viewType\":\"BrowseUnifiedFiles\"}},\"solutions\":{\"sidebar\":{\"id\":\"MoreSolutionsSidebar\",\"viewType\":\"MoreSolutionsSidebar\"},\"primary\":{\"id\":\"Solutions\",\"viewType\":\"Solutions\"}},\"agents\":{\"sidebar\":{\"id\":\"MoreAgentsSidebar\",\"viewType\":\"MoreAgentsSidebar\"},\"primary\":{\"id\":\"Agents\",\"viewType\":\"Agents\"}},\"sidekicks\":{\"sidebar\":{\"id\":\"MoreSidekicksSidebar\",\"viewType\":\"MoreSidekicksSidebar\"},\"primary\":{\"id\":\"Sidekicks\",\"viewType\":\"Sidekicks\"}},\"slack-kit-playground\":{\"primary\":{\"id\":\"SlackKitPlayground\",\"viewType\":\"SlackKitPlayground\"}},\"assistant\":{\"primary\":{\"id\":\"AssistantHome\",\"viewType\":\"AssistantHome\"}},\"later\":{\"sidebar\":{\"id\":\"LaterList\",\"viewType\":\"LaterList\"},\"primary\":{\"id\":\"Pempty\",\"viewType\":\"Page\"}},\"sales-home\":{\"sidebar\":{\"id\":\"SalesSidebar\",\"viewType\":\"SalesSidebar\"},\"primary\":{\"id\":\"SalesHome\",\"viewType\":\"SalesHome\"}},\"records\":{\"primary\":{\"id\":\"RecordChannelCreate\",\"viewType\":\"RecordChannelCreate\"}},\"external-connections\":{\"sidebar\":{\"id\":\"MoreExternalConnectionsSidebar\",\"viewType\":\"MoreExternalConnectionsSidebar\"},\"primary\":{\"id\":\"ExternalOrganizations\",\"viewType\":\"ExternalOrganizations\"}},\"browse\":{\"sidebar\":{\"id\":\"BrowseList\",\"viewType\":\"BrowseList\"},\"primary\":{\"id\":\"RecentFiles\",\"viewType\":\"RecentFiles\"}},\"search\":{\"sidebar\":{\"id\":\"Search\",\"viewType\":\"Search\"},\"primary\":{\"id\":\"SearchEmpty\",\"viewType\":\"SearchEmpty\"}},\"conversational-search\":{\"primary\":{\"id\":\"MultiTurnSearch\",\"viewType\":\"MultiTurnSearch\"}},\"files\":{\"sidebar\":{\"id\":\"MoreFilesSidebar\",\"viewType\":\"MoreFilesSidebar\"},\"primary\":{\"id\":\"RecentFiles\",\"viewType\":\"RecentFiles\"}},\"people\":{\"primary\":{\"id\":\"BrowsePeople\",\"viewType\":\"BrowsePeople\"},\"sidebar\":{\"id\":\"MorePeopleSidebar\",\"viewType\":\"MorePeopleSidebar\"}},\"channels\":{\"primary\":{\"id\":\"BrowseChannels\",\"viewType\":\"BrowseChannels\"}},\"platform\":{\"sidebar\":{\"id\":\"MorePlatformSidebar\",\"viewType\":\"MorePlatformSidebar\"},\"primary\":{\"id\":\"Pempty\",\"viewType\":\"Page\"}},\"canvases\":{\"sidebar\":{\"id\":\"MoreCanvasesSidebar\",\"viewType\":\"MoreCanvasesSidebar\"},\"primary\":{\"id\":\"BrowseCanvases\",\"viewType\":\"BrowseCanvases\"}},\"lists\":{\"sidebar\":{\"id\":\"MoreListsSidebar\",\"viewType\":\"MoreListsSidebar\"},\"primary\":{\"id\":\"Pbrowse-lists\",\"viewType\":\"BrowseLists\"}},\"todos\":{\"primary\":{\"id\":\"Ptodos\",\"viewType\":\"Tasks\"}},\"huddles\":{\"primary\":{\"id\":\"Phuddles\",\"viewType\":\"Page\"}},\"bbm\":{\"sidebar\":{\"id\":\"BBMMain\",\"viewType\":\"BBMMain\"}},\"admin\":{\"sidebar\":{\"id\":\"Admin\",\"viewType\":\"Admin\"}},\"today\":{\"primary\":{\"id\":\"Ptoday-v2\",\"viewType\":\"TodayV2\"}},\"id\":\"b07023c3-67d7-45dd-baa0-b72196e3c2c1\",\"ts\":1753356657368,\"teamId\":\"T6963A864\",\"isIA4\":true},{\"__activeTab\":\"home\",\"home\":{\"sidebar\":{\"id\":\"ChannelList\",\"viewType\":\"ChannelList\"},\"primary\":{\"id\":\"C69RB18LA\",\"viewType\":\"Channel\"}},\"dms\":{\"sidebar\":{\"id\":\"DmsList\",\"viewType\":\"DmsList\"},\"primary\":{\"id\":\"Pempty\",\"viewType\":\"Page\"}},\"activity\":{\"sidebar\":{\"id\":\"ActivityList\",\"viewType\":\"ActivityList\"},\"primary\":{\"id\":\"Pempty\",\"viewType\":\"Page\"}},\"activity-inbox\":{\"sidebar\":{\"id\":\"ActivityInbox\",\"viewType\":\"ActivityInbox\"},\"primary\":{\"id\":\"ActivityEmpty\",\"viewType\":\"ActivityEmpty\"}},\"unified-files\":{\"sidebar\":{\"id\":\"UnifiedFilesSidebar\",\"viewType\":\"UnifiedFilesSidebar\"},\"primary\":{\"id\":\"BrowseUnifiedFiles\",\"viewType\":\"BrowseUnifiedFiles\"}},\"solutions\":{\"sidebar\":{\"id\":\"MoreSolutionsSidebar\",\"viewType\":\"MoreSolutionsSidebar\"},\"primary\":{\"id\":\"Solutions\",\"viewType\":\"Solutions\"}},\"agents\":{\"sidebar\":{\"id\":\"MoreAgentsSidebar\",\"viewType\":\"MoreAgentsSidebar\"},\"primary\":{\"id\":\"Agents\",\"viewType\":\"Agents\"}},\"sidekicks\":{\"sidebar\":{\"id\":\"MoreSidekicksSidebar\",\"viewType\":\"MoreSidekicksSidebar\"},\"primary\":{\"id\":\"Sidekicks\",\"viewType\":\"Sidekicks\"}},\"slack-kit-playground\":{\"primary\":{\"id\":\"SlackKitPlayground\",\"viewType\":\"SlackKitPlayground\"}},\"assistant\":{\"primary\":{\"id\":\"AssistantHome\",\"viewType\":\"AssistantHome\"}},\"later\":{\"sidebar\":{\"id\":\"LaterList\",\"viewType\":\"LaterList\"},\"primary\":{\"id\":\"Pempty\",\"viewType\":\"Page\"}},\"sales-home\":{\"sidebar\":{\"id\":\"SalesSidebar\",\"viewType\":\"SalesSidebar\"},\"primary\":{\"id\":\"SalesHome\",\"viewType\":\"SalesHome\"}},\"records\":{\"primary\":{\"id\":\"RecordChannelCreate\",\"viewType\":\"RecordChannelCreate\"}},\"external-connections\":{\"sidebar\":{\"id\":\"MoreExternalConnectionsSidebar\",\"viewType\":\"MoreExternalConnectionsSidebar\"},\"primary\":{\"id\":\"ExternalOrganizations\",\"viewType\":\"ExternalOrganizations\"}},\"browse\":{\"sidebar\":{\"id\":\"BrowseList\",\"viewType\":\"BrowseList\"},\"primary\":{\"id\":\"RecentFiles\",\"viewType\":\"RecentFiles\"}},\"search\":{\"sidebar\":{\"id\":\"Search\",\"viewType\":\"Search\"},\"primary\":{\"id\":\"SearchEmpty\",\"viewType\":\"SearchEmpty\"}},\"conversational-search\":{\"primary\":{\"id\":\"MultiTurnSearch\",\"viewType\":\"MultiTurnSearch\"}},\"files\":{\"sidebar\":{\"id\":\"MoreFilesSidebar\",\"viewType\":\"MoreFilesSidebar\"},\"primary\":{\"id\":\"RecentFiles\",\"viewType\":\"RecentFiles\"}},\"people\":{\"primary\":{\"id\":\"BrowsePeople\",\"viewType\":\"BrowsePeople\"},\"sidebar\":{\"id\":\"MorePeopleSidebar\",\"viewType\":\"MorePeopleSidebar\"}},\"channels\":{\"primary\":{\"id\":\"BrowseChannels\",\"viewType\":\"BrowseChannels\"}},\"platform\":{\"sidebar\":{\"id\":\"MorePlatformSidebar\",\"viewType\":\"MorePlatformSidebar\"},\"primary\":{\"id\":\"Pempty\",\"viewType\":\"Page\"}},\"canvases\":{\"sidebar\":{\"id\":\"MoreCanvasesSidebar\",\"viewType\":\"MoreCanvasesSidebar\"},\"primary\":{\"id\":\"BrowseCanvases\",\"viewType\":\"BrowseCanvases\"}},\"lists\":{\"sidebar\":{\"id\":\"MoreListsSidebar\",\"viewType\":\"MoreListsSidebar\"},\"primary\":{\"id\":\"Pbrowse-lists\",\"viewType\":\"BrowseLists\"}},\"todos\":{\"primary\":{\"id\":\"Ptodos\",\"viewType\":\"Tasks\"}},\"huddles\":{\"primary\":{\"id\":\"Phuddles\",\"viewType\":\"Page\"}},\"bbm\":{\"sidebar\":{\"id\":\"BBMMain\",\"viewType\":\"BBMMain\"}},\"admin\":{\"sidebar\":{\"id\":\"Admin\",\"viewType\":\"Admin\"}},\"today\":{\"primary\":{\"id\":\"Ptoday-v2\",\"viewType\":\"TodayV2\"}},\"id\":\"6388391f-27a1-422f-a4ce-0dd437e7c249\",\"ts\":1753356639156,\"teamId\":\"T6963A864\",\"isIA4\":true}],\"viewLayoutLastSidebarWidth\":412}'"
   ]
  },
  {
   "cell_type": "code",
   "execution_count": null,
   "metadata": {},
   "outputs": [],
   "source": [
    "len(x)"
   ]
  },
  {
   "cell_type": "code",
   "execution_count": null,
   "metadata": {},
   "outputs": [],
   "source": [
    "x[-5:]"
   ]
  },
  {
   "cell_type": "code",
   "execution_count": null,
   "metadata": {},
   "outputs": [],
   "source": [
    "import json\n",
    "json.loads(x)"
   ]
  },
  {
   "cell_type": "code",
   "execution_count": null,
   "metadata": {},
   "outputs": [],
   "source": []
  },
  {
   "cell_type": "code",
   "execution_count": null,
   "metadata": {},
   "outputs": [],
   "source": []
  }
 ],
 "metadata": {
  "kernelspec": {
   "display_name": "Python 3 (ipykernel)",
   "language": "python",
   "name": "python3"
  },
  "language_info": {
   "codemirror_mode": {
    "name": "ipython",
    "version": 3
   },
   "file_extension": ".py",
   "mimetype": "text/x-python",
   "name": "python",
   "nbconvert_exporter": "python",
   "pygments_lexer": "ipython3",
   "version": "3.12.11"
  }
 },
 "nbformat": 4,
 "nbformat_minor": 2
}

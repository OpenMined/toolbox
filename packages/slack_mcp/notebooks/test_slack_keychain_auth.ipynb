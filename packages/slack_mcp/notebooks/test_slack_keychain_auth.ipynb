{
 "cells": [
  {
   "cell_type": "code",
   "execution_count": null,
   "id": "59d05ba7",
   "metadata": {},
   "outputs": [],
   "source": [
    "from toolbox.store.callbacks.auth.auth_slack_keyring import get_tokens_and_cookie, get_cookie, get_tokens\n",
    "from toolbox.store.callbacks.auth.auth_slack_browser_cookie_files import get_slack_xoxd_cookie\n"
   ]
  },
  {
   "cell_type": "code",
   "execution_count": null,
   "id": "4bcea1a4",
   "metadata": {},
   "outputs": [],
   "source": [
    "get_tokens()"
   ]
  },
  {
   "cell_type": "code",
   "execution_count": null,
   "id": "6875c19e",
   "metadata": {},
   "outputs": [],
   "source": [
    "xoxd_cookie = get_cookie()"
   ]
  },
  {
   "cell_type": "code",
   "execution_count": null,
   "id": "bf5876b9",
   "metadata": {},
   "outputs": [],
   "source": [
    "# xoxd_cookie = get_slack_xoxd_cookie()\n",
    "from slack_sdk import WebClient\n",
    "import os\n",
    "\n",
    "slack_token = os.getenv(\"SLACK_TOKEN\")  # Your API token (xoxc-...)\n",
    "\n",
    "import requests\n",
    "\n",
    "cookies = {\"d\": xoxd_cookie}\n",
    "headers = {\"User-Agent\": \"Mozilla/5.0\"}\n",
    "slack_token = os.getenv(\"SLACK_TOKEN\")\n",
    "\n",
    "response = requests.post(\n",
    "    \"https://slack.com/api/auth.test\",\n",
    "    headers=headers,\n",
    "    cookies=cookies,\n",
    "    data={\"token\": slack_token},\n",
    ")\n",
    "response_json = response.json()\n",
    "assert response_json[\"ok\"] == True\n",
    "\n",
    "# headers = {\"Cookie\": f\"d={xoxd_cookie}\", \"User-Agent\": \"Mozilla/5.0\"}\n",
    "# client = WebClient(token=slack_token, headers=headers)\n",
    "\n",
    "# response = client.auth_test()\n",
    "# assert response.data[\"ok\"] == True"
   ]
  },
  {
   "cell_type": "code",
   "execution_count": null,
   "id": "23c1e012",
   "metadata": {},
   "outputs": [],
   "source": [
    "tokens_and_cookie = get_tokens_and_cookie()"
   ]
  },
  {
   "cell_type": "code",
   "execution_count": null,
   "id": "16a48d2d",
   "metadata": {},
   "outputs": [],
   "source": [
    "token = tokens_and_cookie['tokens'][\"https://openmined.slack.com/\"][\"token\"]"
   ]
  },
  {
   "cell_type": "markdown",
   "id": "93c17625",
   "metadata": {},
   "source": [
    "old: 'xoxc-213207348208etcetcetc'\n"
   ]
  },
  {
   "cell_type": "code",
   "execution_count": null,
   "id": "9de24927",
   "metadata": {},
   "outputs": [],
   "source": [
    "import sqlite3\n",
    "\n",
    "db_path = \"/Users/koen/Library/Containers/com.tinyspeck.slackmacgap/Data/Library/Application Support/Slack/Cookies\"\n",
    "conn = sqlite3.connect(db_path)\n",
    "cursor = conn.cursor()\n",
    "\n",
    "# Check if there's a meta table with version info\n",
    "cursor.execute(\"SELECT name FROM sqlite_master WHERE type='table';\")\n",
    "tables = cursor.fetchall()\n",
    "print(\"Tables:\", tables)\n",
    "\n",
    "# Try to get version info\n",
    "try:\n",
    "    cursor.execute(\"SELECT * FROM meta;\")\n",
    "    print(\"Meta table:\", cursor.fetchall())\n",
    "except:\n",
    "    pass\n",
    "\n",
    "conn.close()"
   ]
  },
  {
   "cell_type": "code",
   "execution_count": null,
   "id": "fccb09bf",
   "metadata": {},
   "outputs": [],
   "source": [
    "cookie"
   ]
  },
  {
   "cell_type": "code",
   "execution_count": null,
   "id": "595125fb",
   "metadata": {},
   "outputs": [],
   "source": [
    "from slack_sdk import WebClient\n",
    "headers = {\"Cookie\": f\"d={cookie}\", \"User-Agent\": \"Mozilla/5.0 (compatible; Python)\"}\n",
    "client = WebClient(token=token, headers=headers)"
   ]
  },
  {
   "cell_type": "code",
   "execution_count": null,
   "id": "6ee0eb6f",
   "metadata": {},
   "outputs": [],
   "source": [
    "res = client.auth_test()"
   ]
  },
  {
   "cell_type": "code",
   "execution_count": null,
   "id": "f46ebe2e",
   "metadata": {},
   "outputs": [],
   "source": [
    "\n",
    "res.data"
   ]
  },
  {
   "cell_type": "code",
   "execution_count": null,
   "id": "8b4171ea",
   "metadata": {},
   "outputs": [],
   "source": []
  }
 ],
 "metadata": {
  "kernelspec": {
   "display_name": "Python 3 (ipykernel)",
   "language": "python",
   "name": "python3"
  }
 },
 "nbformat": 4,
 "nbformat_minor": 5
}

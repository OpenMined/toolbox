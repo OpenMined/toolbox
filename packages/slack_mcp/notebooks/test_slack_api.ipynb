{
 "cells": [
  {
   "cell_type": "code",
   "execution_count": null,
   "metadata": {},
   "outputs": [],
   "source": [
    "# !pip install slack_sdk"
   ]
  },
  {
   "cell_type": "markdown",
   "metadata": {},
   "source": [
    "# Test get active channels speed\n"
   ]
  },
  {
   "cell_type": "code",
   "execution_count": null,
   "metadata": {},
   "outputs": [],
   "source": [
    "from slack_mcp.overview_utils import get_my_active_channels_from_search"
   ]
  },
  {
   "cell_type": "code",
   "execution_count": null,
   "metadata": {},
   "outputs": [],
   "source": [
    "channel_ids = get_my_active_channels_from_search(client, last_n_days=60, max_pages=100)"
   ]
  },
  {
   "cell_type": "code",
   "execution_count": null,
   "metadata": {},
   "outputs": [],
   "source": [
    "len(channel_ids)"
   ]
  },
  {
   "cell_type": "markdown",
   "metadata": {},
   "source": [
    "# API"
   ]
  },
  {
   "cell_type": "code",
   "execution_count": null,
   "metadata": {},
   "outputs": [],
   "source": [
    "import os\n",
    "from slack_sdk import WebClient\n",
    "from slack_sdk.errors import SlackApiError\n",
    "from datetime import datetime, timedelta\n",
    "import time\n",
    "from slack_mcp.utils import get_favourite_channel_ids, get_matches_for_name, compute_channelid_to_name_cached\n",
    "from slack_mcp.models import NamesMatchResponse\n",
    "\n",
    "token = os.getenv(\"SLACK_TOKEN\")\n",
    "d_cookie = os.getenv(\"SLACK_D_COOKIE\")"
   ]
  },
  {
   "cell_type": "code",
   "execution_count": null,
   "metadata": {},
   "outputs": [],
   "source": [
    "cookie = os.getenv(\"SLACK_D_COOKIE\")"
   ]
  },
  {
   "cell_type": "code",
   "execution_count": null,
   "metadata": {},
   "outputs": [],
   "source": [
    "\n",
    "headers = {\n",
    "    'Cookie': f'd={cookie}',\n",
    "    'User-Agent': 'Mozilla/5.0 (compatible; Python)'\n",
    "}   \n",
    "\n",
    "client = WebClient(token=token, timeout=30, headers=headers)\n",
    "\n",
    "# client.conversations_list()\n",
    "\n",
    "res = client.conversations_list()"
   ]
  },
  {
   "cell_type": "code",
   "execution_count": null,
   "metadata": {},
   "outputs": [],
   "source": [
    "res.data"
   ]
  },
  {
   "cell_type": "code",
   "execution_count": null,
   "metadata": {},
   "outputs": [],
   "source": [
    "from slack_mcp.overview_utils import get_last_week_messages_with_threads_with_names, get_my_active_channels_from_search\n",
    "from slack_mcp.utils import compute_channelid_to_name_cached"
   ]
  },
  {
   "cell_type": "code",
   "execution_count": null,
   "metadata": {},
   "outputs": [],
   "source": [
    "channel_ids = get_my_active_channels_from_search(client, last_n_days=7)"
   ]
  },
  {
   "cell_type": "code",
   "execution_count": null,
   "metadata": {},
   "outputs": [],
   "source": [
    "channelid_to_name, user_id_to_real_name = compute_channelid_to_name_cached(client)"
   ]
  },
  {
   "cell_type": "code",
   "execution_count": null,
   "metadata": {},
   "outputs": [],
   "source": [
    "\n",
    "messages_by_channel = get_last_week_messages_with_threads_with_names(\n",
    "    client, channel_ids, channelid_to_name, user_id_to_real_name\n",
    ")\n"
   ]
  },
  {
   "cell_type": "code",
   "execution_count": null,
   "metadata": {},
   "outputs": [],
   "source": []
  },
  {
   "cell_type": "code",
   "execution_count": null,
   "metadata": {},
   "outputs": [],
   "source": [
    "messages_by_channel"
   ]
  },
  {
   "cell_type": "code",
   "execution_count": null,
   "metadata": {},
   "outputs": [],
   "source": [
    "headers = {\n",
    "    'Cookie': f'd={d_cookie}',\n",
    "    'User-Agent': 'Mozilla/5.0 (compatible; Python)'\n",
    "}   \n",
    "client = WebClient(token=token,headers=headers)"
   ]
  },
  {
   "cell_type": "code",
   "execution_count": null,
   "metadata": {},
   "outputs": [],
   "source": [
    "res = client.auth_test()"
   ]
  },
  {
   "cell_type": "code",
   "execution_count": null,
   "metadata": {},
   "outputs": [],
   "source": [
    "\n",
    "query = \"eelco\"\n",
    "favourite_channel_ids = get_favourite_channel_ids(client)\n",
    "channel_to_name, userid2name = compute_channelid_to_name_cached(client)\n",
    "favourite_names = [channel_to_name[x] for x in favourite_channel_ids]\n",
    "name2channelid = {v: k for k, v in channel_to_name.items()}\n",
    "all_names = list(name2channelid.keys())\n",
    "result: NamesMatchResponse = get_matches_for_name(\n",
    "    query, favourite_names, all_names, name2channelid\n",
    ")"
   ]
  },
  {
   "cell_type": "code",
   "execution_count": null,
   "metadata": {},
   "outputs": [],
   "source": [
    "first_match = result.matches_in_favourites[0]\n",
    "first_match"
   ]
  },
  {
   "cell_type": "code",
   "execution_count": null,
   "metadata": {},
   "outputs": [],
   "source": [
    "channel_id = first_match.channel_id"
   ]
  },
  {
   "cell_type": "code",
   "execution_count": null,
   "metadata": {},
   "outputs": [],
   "source": [
    "messages = client.conversations_history(channel=channel_id, limit=100)[\"messages\"]"
   ]
  },
  {
   "cell_type": "code",
   "execution_count": null,
   "metadata": {},
   "outputs": [],
   "source": [
    "favourite_channel_ids = get_favourite_channel_ids(client)\n",
    "favourite_names = [channel_to_name[x] for x in favourite_channel_ids]"
   ]
  },
  {
   "cell_type": "code",
   "execution_count": null,
   "metadata": {},
   "outputs": [],
   "source": [
    "# response = client.chat_postMessage(\n",
    "#     channel=\"D7GH378QG\",\n",
    "#     text=\"test message from python slack bot\"\n",
    "# )\n",
    "# print(response)"
   ]
  },
  {
   "cell_type": "markdown",
   "metadata": {},
   "source": [
    "# Get Latest messages"
   ]
  },
  {
   "cell_type": "code",
   "execution_count": null,
   "metadata": {},
   "outputs": [],
   "source": [
    "from slack_mcp.overview_utils import get_last_week_messages_with_threads_with_names\n",
    "\n",
    "messages = get_last_week_messages_with_threads_with_names(client,\n",
    "                                                          favourite_channel_ids,\n",
    "                                                          channel_to_name,\n",
    "                                                          userid2name)"
   ]
  },
  {
   "cell_type": "code",
   "execution_count": null,
   "metadata": {},
   "outputs": [],
   "source": [
    "i=0\n",
    "for k, v in messages.items():\n",
    "    i+=1\n",
    "    if i==3:\n",
    "        print(channel_to_name[k])\n",
    "        for msg in v:\n",
    "            print(userid2name[msg[\"user\"]], msg[\"text\"])"
   ]
  },
  {
   "cell_type": "code",
   "execution_count": null,
   "metadata": {},
   "outputs": [],
   "source": [
    "len(list(messages.values())[0])"
   ]
  },
  {
   "cell_type": "code",
   "execution_count": null,
   "metadata": {},
   "outputs": [],
   "source": [
    "import time\n",
    "time.time()"
   ]
  },
  {
   "cell_type": "code",
   "execution_count": null,
   "metadata": {},
   "outputs": [],
   "source": []
  },
  {
   "cell_type": "code",
   "execution_count": null,
   "metadata": {},
   "outputs": [],
   "source": []
  },
  {
   "cell_type": "code",
   "execution_count": null,
   "metadata": {},
   "outputs": [],
   "source": []
  },
  {
   "cell_type": "code",
   "execution_count": null,
   "metadata": {},
   "outputs": [],
   "source": [
    "n_total = 0\n",
    "for c, messages in c2m.items():\n",
    "    n_total += len(messages)\n",
    "print(len(c2m),n_total)"
   ]
  },
  {
   "cell_type": "code",
   "execution_count": null,
   "metadata": {},
   "outputs": [],
   "source": []
  },
  {
   "cell_type": "code",
   "execution_count": null,
   "metadata": {},
   "outputs": [],
   "source": [
    "favourite_channel_ids"
   ]
  },
  {
   "cell_type": "code",
   "execution_count": null,
   "metadata": {},
   "outputs": [],
   "source": [
    "float(client.conversations_history(channel=\"C095U8548RW\", limit=10)[\"messages\"][1][\"ts\"]) > last_week_timestamp"
   ]
  },
  {
   "cell_type": "code",
   "execution_count": null,
   "metadata": {},
   "outputs": [],
   "source": [
    "def list_messages(channel_id):\n",
    "    res = client.conversations_history(channel=channel_id, limit=5)\n",
    "    print(channel_id_to_name[channel_id])\n",
    "    for msg in res[\"messages\"]:\n",
    "        user_id = msg.get('user', 'unknown user')\n",
    "        user_name = user_id_to_real_name.get(user_id, \"Unknown User\")\n",
    "        print(f\"@{user_name}: {msg['text']}\")\n",
    "\n",
    "list_messages(starred_channels[15])"
   ]
  },
  {
   "cell_type": "code",
   "execution_count": null,
   "metadata": {},
   "outputs": [],
   "source": [
    "len(starred_channels)"
   ]
  },
  {
   "cell_type": "code",
   "execution_count": null,
   "metadata": {},
   "outputs": [],
   "source": [
    "from slack_mcp.utils import get_all_channels\n",
    "\n",
    "cs = get_all_channels(client)\n",
    "\n",
    "print(len([c for c in cs if c.get(\"is_member\", False)]))"
   ]
  },
  {
   "cell_type": "code",
   "execution_count": null,
   "metadata": {},
   "outputs": [],
   "source": []
  },
  {
   "cell_type": "code",
   "execution_count": null,
   "metadata": {},
   "outputs": [],
   "source": [
    "channel_ids = get_my_active_channels_from_search(client, last_n_days=7, max_pages=50)"
   ]
  },
  {
   "cell_type": "code",
   "execution_count": null,
   "metadata": {},
   "outputs": [],
   "source": [
    "for c in channel_ids:\n",
    "    print(channel_to_name[c])"
   ]
  },
  {
   "cell_type": "code",
   "execution_count": null,
   "metadata": {},
   "outputs": [],
   "source": [
    "client.conversations_info(channel=\"C69RB18LA\")"
   ]
  },
  {
   "cell_type": "code",
   "execution_count": null,
   "metadata": {},
   "outputs": [],
   "source": [
    "cs[0]"
   ]
  },
  {
   "cell_type": "code",
   "execution_count": null,
   "metadata": {},
   "outputs": [],
   "source": [
    "starred_channels = get_starred_channel_ids(client)"
   ]
  },
  {
   "cell_type": "code",
   "execution_count": null,
   "metadata": {},
   "outputs": [],
   "source": [
    "assert len(starred_channels) == len(set(starred_channels).intersection(channel_id_to_name.keys()))"
   ]
  },
  {
   "cell_type": "code",
   "execution_count": null,
   "metadata": {},
   "outputs": [],
   "source": []
  },
  {
   "cell_type": "code",
   "execution_count": null,
   "metadata": {},
   "outputs": [],
   "source": [
    "from collections import defaultdict"
   ]
  },
  {
   "cell_type": "code",
   "execution_count": null,
   "metadata": {},
   "outputs": [],
   "source": [
    "unread_messages = defaultdict(list)\n",
    "for channel in starred_channels:\n",
    "    \n",
    "    res = client.conversations_history(channel=channel, limit=100)\n",
    "    for msg in res[\"messages\"]:\n",
    "        if float(msg[\"ts\"]) > last_week_timestamp:\n",
    "            if msg.get(\"subtype\") == \"channel_join\":\n",
    "                continue\n",
    "            \n",
    "            user_id = msg.get(\"user\", None)\n",
    "            sender_name = user_id_to_real_name.get(user_id, \"Unknown User\")\n",
    "            channel_name = channel_id_to_name.get(channel, None)\n",
    "            if channel_name is None:\n",
    "                channel_name = \"unknown channel\"\n",
    "            \n",
    "            \n",
    "            unread_messages[channel_name].append({\"user\": sender_name, \"text\": msg[\"text\"]})\n",
    "\n",
    "    # print(unread_messages)\n",
    "    "
   ]
  },
  {
   "cell_type": "code",
   "execution_count": null,
   "metadata": {},
   "outputs": [],
   "source": [
    "for channel_name, msgs in unread_messages.items():\n",
    "    print(f\"in #{channel_name}\")\n",
    "    for msg in reversed(msgs):    \n",
    "        print(f\"@{msg['user']}: {msg['text']}\")\n",
    "    print(\"=\"*100)"
   ]
  },
  {
   "cell_type": "code",
   "execution_count": null,
   "metadata": {},
   "outputs": [],
   "source": []
  },
  {
   "cell_type": "code",
   "execution_count": null,
   "metadata": {},
   "outputs": [],
   "source": [
    "res[\"messages\"]"
   ]
  },
  {
   "cell_type": "code",
   "execution_count": null,
   "metadata": {},
   "outputs": [],
   "source": []
  },
  {
   "cell_type": "markdown",
   "metadata": {},
   "source": [
    "## Appendix"
   ]
  },
  {
   "cell_type": "code",
   "execution_count": null,
   "metadata": {},
   "outputs": [],
   "source": []
  },
  {
   "cell_type": "code",
   "execution_count": null,
   "metadata": {},
   "outputs": [],
   "source": []
  },
  {
   "cell_type": "code",
   "execution_count": null,
   "metadata": {},
   "outputs": [],
   "source": [
    "# channel_id_to_user_real_name"
   ]
  },
  {
   "cell_type": "code",
   "execution_count": null,
   "metadata": {},
   "outputs": [],
   "source": [
    "# Format the date 7 days ago in YYYY-MM-DD\n",
    "seven_days_ago_date = (datetime.now() - timedelta(days=7)).strftime(\"%Y-%m-%d\")\n",
    "\n",
    "# Search query: messages mentioning your user ID, after the date\n",
    "query = f\"@{my_user_ida}\"\n",
    "\n",
    "\n",
    "# Call search.messages API\n",
    "result = client.search_messages(query=query, sort=\"timestamp\", sort_dir=\"desc\", count=100)\n",
    "\n",
    "\n"
   ]
  },
  {
   "cell_type": "code",
   "execution_count": null,
   "metadata": {},
   "outputs": [],
   "source": [
    "for x in result[\"messages\"][\"matches\"]:\n",
    "    print(x)"
   ]
  },
  {
   "cell_type": "code",
   "execution_count": null,
   "metadata": {},
   "outputs": [],
   "source": [
    "messages = result[\"messages\"][\"matches\"]\n",
    "for msg in messages:\n",
    "    user = msg.get(\"user\")\n",
    "    text = msg.get(\"text\")\n",
    "    ts = msg.get(\"ts\")\n",
    "    channel = msg.get(\"channel\", {}).get(\"name\")\n",
    "    print(f\"[{ts}] in #{channel} by {user}: {text}\")"
   ]
  },
  {
   "cell_type": "code",
   "execution_count": null,
   "metadata": {},
   "outputs": [],
   "source": [
    "# from pprint import pprint\n",
    "\n",
    "# # response = client.conversations_list(types=\"im\")\n",
    "\n",
    "# channels = [channel for channel in response[\"channels\"] if channel[\"is_im\"]]\n",
    "\n",
    "# for channel in channels[:2]:\n",
    "#     conversation_history = client.conversations_history(\n",
    "#         channel=channel[\"id\"],\n",
    "#         limit=3,\n",
    "#     )\n",
    "#     print(\"USER\", id2user[channel[\"id\"]])\n",
    "#     pprint(conversation_history[\"messages\"])"
   ]
  },
  {
   "cell_type": "code",
   "execution_count": null,
   "metadata": {},
   "outputs": [],
   "source": [
    "def get_all_messages(client, since_timestamp):\n",
    "    response = client.conversations_history(\n",
    "        channel=\"C06650000000000000000000\",\n",
    "        oldest=since_timestamp,\n",
    "        limit=100,\n",
    "    )\n",
    "    return response[\"messages\"]\n",
    "\n",
    "\n",
    "import time\n",
    "last_week_timestamp = int(time.time()) - 60 * 60 * 24 * 7\n",
    "client = WebClient(token=token, headers=headers)\n",
    "get_all_messages(client, last_week_timestamp)"
   ]
  },
  {
   "cell_type": "code",
   "execution_count": null,
   "metadata": {},
   "outputs": [],
   "source": [
    "from pprint import pprint\n",
    "\n",
    "res = []\n",
    "for message in response[\"messages\"]:\n",
    "    res.append({\n",
    "        \"text\": message[\"text\"],\n",
    "        \"user\": \"Madhava (we're hiring)\",\n",
    "        \"ts\": message[\"ts\"],\n",
    "    })\n",
    "\n",
    "pprint(res)"
   ]
  },
  {
   "cell_type": "code",
   "execution_count": null,
   "metadata": {},
   "outputs": [],
   "source": [
    "response[\"channels\"][:3]"
   ]
  },
  {
   "cell_type": "code",
   "execution_count": null,
   "metadata": {},
   "outputs": [],
   "source": []
  }
 ],
 "metadata": {
  "language_info": {
   "codemirror_mode": {
    "name": "ipython",
    "version": 3
   },
   "file_extension": ".py",
   "mimetype": "text/x-python",
   "name": "python",
   "nbconvert_exporter": "python",
   "pygments_lexer": "ipython3",
   "version": "3.12.11"
  }
 },
 "nbformat": 4,
 "nbformat_minor": 2
}

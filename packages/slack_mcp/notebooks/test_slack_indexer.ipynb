{
 "cells": [
  {
   "cell_type": "code",
   "execution_count": 1,
   "metadata": {},
   "outputs": [],
   "source": [
    "# !pip install slack_sdk"
   ]
  },
  {
   "cell_type": "code",
   "execution_count": 2,
   "metadata": {},
   "outputs": [],
   "source": [
    "import os\n",
    "from slack_sdk import WebClient\n",
    "from slack_sdk.errors import SlackApiError\n",
    "from datetime import datetime, timedelta\n",
    "import time\n",
    "from slack_mcp.utils import get_favourite_channel_ids, get_matches_for_name, compute_channelid_to_name_cached\n",
    "from slack_mcp.models import NamesMatchResponse\n",
    "\n",
    "token = os.getenv(\"SLACK_TOKEN\")\n",
    "d_cookie = os.getenv(\"SLACK_D_COOKIE\")"
   ]
  },
  {
   "cell_type": "code",
   "execution_count": 3,
   "metadata": {},
   "outputs": [],
   "source": [
    "headers = {\n",
    "    'Cookie': f'd={d_cookie}',\n",
    "    'User-Agent': 'Mozilla/5.0 (compatible; Python)'\n",
    "}   \n",
    "client = WebClient(token=token,headers=headers)"
   ]
  },
  {
   "cell_type": "markdown",
   "metadata": {},
   "source": [
    "# Write messages to db"
   ]
  },
  {
   "cell_type": "code",
   "execution_count": 4,
   "metadata": {},
   "outputs": [],
   "source": [
    "from slack_mcp.overview_utils import get_my_active_channels_from_search, get_channel_messages_with_thread_tree\n",
    "from slack_mcp.utils import get_single_message\n",
    "\n",
    "from slack_mcp.db import SLACK_MCP_DB_PATH"
   ]
  },
  {
   "cell_type": "code",
   "execution_count": 5,
   "metadata": {},
   "outputs": [],
   "source": [
    "# SLACK_MCP_DB_PATH.unlink()"
   ]
  },
  {
   "cell_type": "code",
   "execution_count": 6,
   "metadata": {},
   "outputs": [],
   "source": [
    "from slack_mcp.background_worker import run_slack_mesage_dump_background_worker_single\n",
    "from slack_mcp.db import _get_slack_connection\n",
    "from slack_mcp.overview_utils import get_my_active_channels_from_search\n",
    "\n",
    "conn = _get_slack_connection()\n"
   ]
  },
  {
   "cell_type": "code",
   "execution_count": 7,
   "metadata": {},
   "outputs": [],
   "source": [
    "from slack_mcp.background_worker import get_timestamp_batches"
   ]
  },
  {
   "cell_type": "code",
   "execution_count": 8,
   "metadata": {},
   "outputs": [],
   "source": [
    "now = time.time()\n",
    "min_ts = time.time() - 30*24*60*60 # one month ago"
   ]
  },
  {
   "cell_type": "code",
   "execution_count": 9,
   "metadata": {},
   "outputs": [
    {
     "name": "stdout",
     "output_type": "stream",
     "text": [
      "getting active channels\n",
      "Got rate limited by slack, sleeping for 60 seconds and continuing\n",
      "Processing batch from 2025-06-29 to 2025-07-29 for 80 channels\n"
     ]
    },
    {
     "name": "stderr",
     "output_type": "stream",
     "text": [
      "  1%|▉                                                                      | 1/80 [00:00<00:17,  4.50it/s]"
     ]
    },
    {
     "name": "stdout",
     "output_type": "stream",
     "text": [
      "Got 2 messages for channel C097M4NMCCQ\n"
     ]
    },
    {
     "name": "stderr",
     "output_type": "stream",
     "text": [
      "  2%|█▊                                                                     | 2/80 [00:00<00:17,  4.45it/s]"
     ]
    },
    {
     "name": "stdout",
     "output_type": "stream",
     "text": [
      "Got 2 messages for channel C097NQ7LE83\n"
     ]
    },
    {
     "name": "stderr",
     "output_type": "stream",
     "text": [
      "  4%|██▋                                                                    | 3/80 [00:00<00:17,  4.37it/s]"
     ]
    },
    {
     "name": "stdout",
     "output_type": "stream",
     "text": [
      "Got 2 messages for channel D096UM6DX63\n"
     ]
    },
    {
     "name": "stderr",
     "output_type": "stream",
     "text": [
      "  5%|███▌                                                                   | 4/80 [00:00<00:16,  4.49it/s]"
     ]
    },
    {
     "name": "stdout",
     "output_type": "stream",
     "text": [
      "Got 3 messages for channel D07TF8RPD6G\n"
     ]
    },
    {
     "name": "stderr",
     "output_type": "stream",
     "text": [
      "  6%|████▍                                                                  | 5/80 [00:01<00:17,  4.41it/s]"
     ]
    },
    {
     "name": "stdout",
     "output_type": "stream",
     "text": [
      "Got 3 messages for channel C6A100T5F\n"
     ]
    },
    {
     "name": "stderr",
     "output_type": "stream",
     "text": [
      "  8%|█████▎                                                                 | 6/80 [00:01<00:29,  2.52it/s]"
     ]
    },
    {
     "name": "stdout",
     "output_type": "stream",
     "text": [
      "Got 7 messages for channel C018DQ3GQAD\n"
     ]
    },
    {
     "name": "stderr",
     "output_type": "stream",
     "text": [
      "  9%|██████▏                                                                | 7/80 [00:02<00:24,  2.95it/s]"
     ]
    },
    {
     "name": "stdout",
     "output_type": "stream",
     "text": [
      "Got 9 messages for channel D01HAMESL7J\n"
     ]
    },
    {
     "name": "stderr",
     "output_type": "stream",
     "text": [
      " 10%|███████                                                                | 8/80 [00:02<00:21,  3.29it/s]"
     ]
    },
    {
     "name": "stdout",
     "output_type": "stream",
     "text": [
      "Got 4 messages for channel C096XCANQ77\n"
     ]
    },
    {
     "name": "stderr",
     "output_type": "stream",
     "text": [
      " 11%|███████▉                                                               | 9/80 [00:02<00:19,  3.61it/s]"
     ]
    },
    {
     "name": "stdout",
     "output_type": "stream",
     "text": [
      "Got 6 messages for channel C097CPV3PSM\n"
     ]
    },
    {
     "name": "stderr",
     "output_type": "stream",
     "text": [
      " 12%|████████▊                                                             | 10/80 [00:08<02:23,  2.05s/it]"
     ]
    },
    {
     "name": "stdout",
     "output_type": "stream",
     "text": [
      "Got 62 messages for channel C06EL4A2D3M\n"
     ]
    },
    {
     "name": "stderr",
     "output_type": "stream",
     "text": [
      " 14%|█████████▋                                                            | 11/80 [00:08<01:43,  1.49s/it]"
     ]
    },
    {
     "name": "stdout",
     "output_type": "stream",
     "text": [
      "Got 3 messages for channel C096J2N7QS3\n"
     ]
    },
    {
     "name": "stderr",
     "output_type": "stream",
     "text": [
      " 15%|██████████▌                                                           | 12/80 [00:09<01:15,  1.11s/it]"
     ]
    },
    {
     "name": "stdout",
     "output_type": "stream",
     "text": [
      "Got 4 messages for channel C096XP2ETLP\n"
     ]
    },
    {
     "name": "stderr",
     "output_type": "stream",
     "text": [
      " 16%|███████████▍                                                          | 13/80 [00:09<01:07,  1.01s/it]"
     ]
    },
    {
     "name": "stdout",
     "output_type": "stream",
     "text": [
      "Got 50 messages for channel D01LM1NMJ0J\n"
     ]
    },
    {
     "name": "stderr",
     "output_type": "stream",
     "text": [
      " 18%|████████████▎                                                         | 14/80 [00:10<01:01,  1.08it/s]"
     ]
    },
    {
     "name": "stdout",
     "output_type": "stream",
     "text": [
      "Got 40 messages for channel D0579A9GK97\n"
     ]
    },
    {
     "name": "stderr",
     "output_type": "stream",
     "text": [
      " 19%|█████████████▏                                                        | 15/80 [00:10<00:46,  1.39it/s]"
     ]
    },
    {
     "name": "stdout",
     "output_type": "stream",
     "text": [
      "Got 1 messages for channel CRP6YSBUL\n"
     ]
    },
    {
     "name": "stderr",
     "output_type": "stream",
     "text": [
      " 20%|██████████████                                                        | 16/80 [00:11<00:36,  1.73it/s]"
     ]
    },
    {
     "name": "stdout",
     "output_type": "stream",
     "text": [
      "Got 21 messages for channel D05A0MW9D7U\n"
     ]
    },
    {
     "name": "stderr",
     "output_type": "stream",
     "text": [
      " 21%|██████████████▉                                                       | 17/80 [00:16<02:14,  2.14s/it]"
     ]
    },
    {
     "name": "stdout",
     "output_type": "stream",
     "text": [
      "Got 76 messages for channel C093365V5UH\n"
     ]
    },
    {
     "name": "stderr",
     "output_type": "stream",
     "text": [
      " 22%|███████████████▊                                                      | 18/80 [00:17<01:37,  1.57s/it]"
     ]
    },
    {
     "name": "stdout",
     "output_type": "stream",
     "text": [
      "Got 1 messages for channel C05P0LWH6HM\n"
     ]
    },
    {
     "name": "stderr",
     "output_type": "stream",
     "text": [
      " 24%|████████████████▋                                                     | 19/80 [00:17<01:10,  1.16s/it]"
     ]
    },
    {
     "name": "stdout",
     "output_type": "stream",
     "text": [
      "Got 4 messages for channel D7GH378QG\n"
     ]
    },
    {
     "name": "stderr",
     "output_type": "stream",
     "text": [
      " 25%|█████████████████▌                                                    | 20/80 [00:17<00:52,  1.13it/s]"
     ]
    },
    {
     "name": "stdout",
     "output_type": "stream",
     "text": [
      "Got 2 messages for channel D06VA8AGJ3Z\n"
     ]
    },
    {
     "name": "stderr",
     "output_type": "stream",
     "text": [
      " 26%|██████████████████▍                                                   | 21/80 [00:18<00:59,  1.01s/it]"
     ]
    },
    {
     "name": "stdout",
     "output_type": "stream",
     "text": [
      "Got 11 messages for channel C08H2M52N3Y\n"
     ]
    },
    {
     "name": "stderr",
     "output_type": "stream",
     "text": [
      " 28%|███████████████████▎                                                  | 22/80 [00:19<00:50,  1.15it/s]"
     ]
    },
    {
     "name": "stdout",
     "output_type": "stream",
     "text": [
      "Got 1 messages for channel C6DEWA4FR\n"
     ]
    },
    {
     "name": "stderr",
     "output_type": "stream",
     "text": [
      " 29%|████████████████████▏                                                 | 23/80 [00:20<00:58,  1.03s/it]"
     ]
    },
    {
     "name": "stdout",
     "output_type": "stream",
     "text": [
      "Got 19 messages for channel C08TZPP9HSL\n"
     ]
    },
    {
     "name": "stderr",
     "output_type": "stream",
     "text": [
      " 30%|█████████████████████                                                 | 24/80 [00:20<00:44,  1.26it/s]"
     ]
    },
    {
     "name": "stdout",
     "output_type": "stream",
     "text": [
      "Got 2 messages for channel D097G4RTX97\n"
     ]
    },
    {
     "name": "stderr",
     "output_type": "stream",
     "text": [
      " 31%|█████████████████████▉                                                | 25/80 [00:21<00:38,  1.44it/s]"
     ]
    },
    {
     "name": "stdout",
     "output_type": "stream",
     "text": [
      "Got 1 messages for channel C01HY1GAG76\n"
     ]
    },
    {
     "name": "stderr",
     "output_type": "stream",
     "text": [
      " 32%|██████████████████████▊                                               | 26/80 [00:21<00:29,  1.80it/s]"
     ]
    },
    {
     "name": "stdout",
     "output_type": "stream",
     "text": [
      "Got 0 messages for channel C6EEFN3A8\n"
     ]
    },
    {
     "name": "stderr",
     "output_type": "stream",
     "text": [
      " 34%|███████████████████████▋                                              | 27/80 [00:21<00:24,  2.21it/s]"
     ]
    },
    {
     "name": "stdout",
     "output_type": "stream",
     "text": [
      "Got 7 messages for channel D056YJNBYMD\n"
     ]
    },
    {
     "name": "stderr",
     "output_type": "stream",
     "text": [
      " 35%|████████████████████████▌                                             | 28/80 [00:22<00:20,  2.57it/s]"
     ]
    },
    {
     "name": "stdout",
     "output_type": "stream",
     "text": [
      "Got 3 messages for channel C096YR9LAM8\n"
     ]
    },
    {
     "name": "stderr",
     "output_type": "stream",
     "text": [
      " 36%|█████████████████████████▍                                            | 29/80 [00:22<00:17,  2.86it/s]"
     ]
    },
    {
     "name": "stdout",
     "output_type": "stream",
     "text": [
      "Got 5 messages for channel C096TES05K5\n"
     ]
    },
    {
     "name": "stderr",
     "output_type": "stream",
     "text": [
      " 38%|██████████████████████████▎                                           | 30/80 [00:23<00:27,  1.82it/s]"
     ]
    },
    {
     "name": "stdout",
     "output_type": "stream",
     "text": [
      "Got 29 messages for channel C0964D60SGZ\n"
     ]
    },
    {
     "name": "stderr",
     "output_type": "stream",
     "text": [
      " 39%|███████████████████████████▏                                          | 31/80 [00:23<00:22,  2.22it/s]"
     ]
    },
    {
     "name": "stdout",
     "output_type": "stream",
     "text": [
      "Got 11 messages for channel C097C17227K\n"
     ]
    },
    {
     "name": "stderr",
     "output_type": "stream",
     "text": [
      " 40%|████████████████████████████                                          | 32/80 [00:24<00:25,  1.88it/s]"
     ]
    },
    {
     "name": "stdout",
     "output_type": "stream",
     "text": [
      "Got 11 messages for channel C09767TDU5T\n"
     ]
    },
    {
     "name": "stderr",
     "output_type": "stream",
     "text": [
      " 41%|████████████████████████████▉                                         | 33/80 [00:24<00:20,  2.29it/s]"
     ]
    },
    {
     "name": "stdout",
     "output_type": "stream",
     "text": [
      "Got 17 messages for channel D097B2KNMSB\n"
     ]
    },
    {
     "name": "stderr",
     "output_type": "stream",
     "text": [
      " 42%|█████████████████████████████▊                                        | 34/80 [00:25<00:21,  2.15it/s]"
     ]
    },
    {
     "name": "stdout",
     "output_type": "stream",
     "text": [
      "Got 4 messages for channel C0970H8BG8P\n"
     ]
    },
    {
     "name": "stderr",
     "output_type": "stream",
     "text": [
      " 44%|██████████████████████████████▋                                       | 35/80 [00:26<00:31,  1.45it/s]"
     ]
    },
    {
     "name": "stdout",
     "output_type": "stream",
     "text": [
      "Got 48 messages for channel D05GR1P78NP\n"
     ]
    },
    {
     "name": "stderr",
     "output_type": "stream",
     "text": [
      " 45%|███████████████████████████████▌                                      | 36/80 [00:26<00:24,  1.80it/s]"
     ]
    },
    {
     "name": "stdout",
     "output_type": "stream",
     "text": [
      "Got 10 messages for channel C096TKK81U3\n"
     ]
    },
    {
     "name": "stderr",
     "output_type": "stream",
     "text": [
      " 46%|████████████████████████████████▍                                     | 37/80 [00:26<00:20,  2.11it/s]"
     ]
    },
    {
     "name": "stdout",
     "output_type": "stream",
     "text": [
      "Got 4 messages for channel C0976GK1LP5\n"
     ]
    },
    {
     "name": "stderr",
     "output_type": "stream",
     "text": [
      " 48%|█████████████████████████████████▎                                    | 38/80 [00:27<00:16,  2.53it/s]"
     ]
    },
    {
     "name": "stdout",
     "output_type": "stream",
     "text": [
      "Got 5 messages for channel D01QHHRV5D4\n"
     ]
    },
    {
     "name": "stderr",
     "output_type": "stream",
     "text": [
      " 49%|██████████████████████████████████▏                                   | 39/80 [00:27<00:14,  2.88it/s]"
     ]
    },
    {
     "name": "stdout",
     "output_type": "stream",
     "text": [
      "Got 6 messages for channel C096WR1D4AH\n"
     ]
    },
    {
     "name": "stderr",
     "output_type": "stream",
     "text": [
      " 50%|███████████████████████████████████                                   | 40/80 [00:27<00:12,  3.15it/s]"
     ]
    },
    {
     "name": "stdout",
     "output_type": "stream",
     "text": [
      "Got 2 messages for channel C095GDAQT5W\n"
     ]
    },
    {
     "name": "stderr",
     "output_type": "stream",
     "text": [
      " 51%|███████████████████████████████████▉                                  | 41/80 [00:27<00:11,  3.42it/s]"
     ]
    },
    {
     "name": "stdout",
     "output_type": "stream",
     "text": [
      "Got 1 messages for channel D097G2TBL4V\n"
     ]
    },
    {
     "name": "stderr",
     "output_type": "stream",
     "text": [
      " 52%|████████████████████████████████████▊                                 | 42/80 [00:28<00:17,  2.21it/s]"
     ]
    },
    {
     "name": "stdout",
     "output_type": "stream",
     "text": [
      "Got 2 messages for channel C06TDCPBW3B\n"
     ]
    },
    {
     "name": "stderr",
     "output_type": "stream",
     "text": [
      " 54%|█████████████████████████████████████▋                                | 43/80 [00:28<00:15,  2.40it/s]"
     ]
    },
    {
     "name": "stdout",
     "output_type": "stream",
     "text": [
      "Got 67 messages for channel D022YGA1L9Y\n"
     ]
    },
    {
     "name": "stderr",
     "output_type": "stream",
     "text": [
      " 55%|██████████████████████████████████████▌                               | 44/80 [00:29<00:16,  2.20it/s]"
     ]
    },
    {
     "name": "stdout",
     "output_type": "stream",
     "text": [
      "Got 55 messages for channel C09547MC9NK\n"
     ]
    },
    {
     "name": "stderr",
     "output_type": "stream",
     "text": [
      " 56%|███████████████████████████████████████▍                              | 45/80 [00:29<00:13,  2.55it/s]"
     ]
    },
    {
     "name": "stdout",
     "output_type": "stream",
     "text": [
      "Got 7 messages for channel D098E71CV96\n"
     ]
    },
    {
     "name": "stderr",
     "output_type": "stream",
     "text": [
      " 57%|████████████████████████████████████████▎                             | 46/80 [00:36<01:19,  2.33s/it]"
     ]
    },
    {
     "name": "stdout",
     "output_type": "stream",
     "text": [
      "Got 116 messages for channel C0787G91DSM\n"
     ]
    },
    {
     "name": "stderr",
     "output_type": "stream",
     "text": [
      " 59%|█████████████████████████████████████████▏                            | 47/80 [00:36<00:56,  1.70s/it]"
     ]
    },
    {
     "name": "stdout",
     "output_type": "stream",
     "text": [
      "Got 1 messages for channel CG345BXG9\n"
     ]
    },
    {
     "name": "stderr",
     "output_type": "stream",
     "text": [
      " 60%|██████████████████████████████████████████                            | 48/80 [00:37<00:40,  1.27s/it]"
     ]
    },
    {
     "name": "stdout",
     "output_type": "stream",
     "text": [
      "Got 5 messages for channel D04RDMEKV60\n"
     ]
    },
    {
     "name": "stderr",
     "output_type": "stream",
     "text": [
      " 61%|██████████████████████████████████████████▉                           | 49/80 [00:37<00:29,  1.04it/s]"
     ]
    },
    {
     "name": "stdout",
     "output_type": "stream",
     "text": [
      "Got 2 messages for channel C097BS9062D\n"
     ]
    },
    {
     "name": "stderr",
     "output_type": "stream",
     "text": [
      " 62%|███████████████████████████████████████████▊                          | 50/80 [00:38<00:33,  1.12s/it]"
     ]
    },
    {
     "name": "stdout",
     "output_type": "stream",
     "text": [
      "Got 22 messages for channel C095U8548RW\n"
     ]
    },
    {
     "name": "stderr",
     "output_type": "stream",
     "text": [
      " 64%|████████████████████████████████████████████▋                         | 51/80 [00:39<00:24,  1.18it/s]"
     ]
    },
    {
     "name": "stdout",
     "output_type": "stream",
     "text": [
      "Got 8 messages for channel C09700HUYRJ\n"
     ]
    },
    {
     "name": "stderr",
     "output_type": "stream",
     "text": [
      " 65%|█████████████████████████████████████████████▌                        | 52/80 [00:39<00:18,  1.51it/s]"
     ]
    },
    {
     "name": "stdout",
     "output_type": "stream",
     "text": [
      "Got 4 messages for channel C097MSDCB5E\n"
     ]
    },
    {
     "name": "stderr",
     "output_type": "stream",
     "text": [
      " 66%|██████████████████████████████████████████████▍                       | 53/80 [00:39<00:14,  1.88it/s]"
     ]
    },
    {
     "name": "stdout",
     "output_type": "stream",
     "text": [
      "Got 1 messages for channel C090TLCQP61\n"
     ]
    },
    {
     "name": "stderr",
     "output_type": "stream",
     "text": [
      " 68%|███████████████████████████████████████████████▎                      | 54/80 [00:39<00:11,  2.22it/s]"
     ]
    },
    {
     "name": "stdout",
     "output_type": "stream",
     "text": [
      "Got 15 messages for channel C096WNAQDJR\n"
     ]
    },
    {
     "name": "stderr",
     "output_type": "stream",
     "text": [
      " 69%|████████████████████████████████████████████████▏                     | 55/80 [00:39<00:09,  2.64it/s]"
     ]
    },
    {
     "name": "stdout",
     "output_type": "stream",
     "text": [
      "Got 1 messages for channel D094WRMSRGF\n"
     ]
    },
    {
     "name": "stderr",
     "output_type": "stream",
     "text": [
      " 70%|█████████████████████████████████████████████████                     | 56/80 [00:40<00:10,  2.33it/s]"
     ]
    },
    {
     "name": "stdout",
     "output_type": "stream",
     "text": [
      "Got 4 messages for channel C096GSJF3E2\n"
     ]
    },
    {
     "name": "stderr",
     "output_type": "stream",
     "text": [
      " 71%|█████████████████████████████████████████████████▉                    | 57/80 [00:40<00:08,  2.66it/s]"
     ]
    },
    {
     "name": "stdout",
     "output_type": "stream",
     "text": [
      "Got 6 messages for channel D0972HV9C5C\n"
     ]
    },
    {
     "name": "stderr",
     "output_type": "stream",
     "text": [
      " 72%|██████████████████████████████████████████████████▊                   | 58/80 [00:41<00:08,  2.45it/s]"
     ]
    },
    {
     "name": "stdout",
     "output_type": "stream",
     "text": [
      "Got 1 messages for channel C69RB18LA\n"
     ]
    },
    {
     "name": "stderr",
     "output_type": "stream",
     "text": [
      " 74%|███████████████████████████████████████████████████▋                  | 59/80 [00:41<00:07,  2.80it/s]"
     ]
    },
    {
     "name": "stdout",
     "output_type": "stream",
     "text": [
      "Got 13 messages for channel C096ZU1CU3E\n"
     ]
    },
    {
     "name": "stderr",
     "output_type": "stream",
     "text": [
      " 75%|████████████████████████████████████████████████████▌                 | 60/80 [00:41<00:07,  2.58it/s]"
     ]
    },
    {
     "name": "stdout",
     "output_type": "stream",
     "text": [
      "Got 1 messages for channel C06GHU26525\n"
     ]
    },
    {
     "name": "stderr",
     "output_type": "stream",
     "text": [
      " 76%|█████████████████████████████████████████████████████▍                | 61/80 [00:42<00:10,  1.73it/s]"
     ]
    },
    {
     "name": "stdout",
     "output_type": "stream",
     "text": [
      "Got 6 messages for channel C6AN4BLS2\n"
     ]
    },
    {
     "name": "stderr",
     "output_type": "stream",
     "text": [
      " 78%|██████████████████████████████████████████████████████▎               | 62/80 [00:43<00:08,  2.11it/s]"
     ]
    },
    {
     "name": "stdout",
     "output_type": "stream",
     "text": [
      "Got 3 messages for channel C0970PXT3PE\n"
     ]
    },
    {
     "name": "stderr",
     "output_type": "stream",
     "text": [
      " 79%|███████████████████████████████████████████████████████▏              | 63/80 [00:46<00:23,  1.37s/it]"
     ]
    },
    {
     "name": "stdout",
     "output_type": "stream",
     "text": [
      "Got 179 messages for channel D8LH56TFU\n"
     ]
    },
    {
     "name": "stderr",
     "output_type": "stream",
     "text": [
      " 80%|████████████████████████████████████████████████████████              | 64/80 [00:47<00:20,  1.26s/it]"
     ]
    },
    {
     "name": "stdout",
     "output_type": "stream",
     "text": [
      "Got 6 messages for channel CBLD1KE15\n"
     ]
    },
    {
     "name": "stderr",
     "output_type": "stream",
     "text": [
      " 81%|████████████████████████████████████████████████████████▉             | 65/80 [00:47<00:14,  1.03it/s]"
     ]
    },
    {
     "name": "stdout",
     "output_type": "stream",
     "text": [
      "Got 2 messages for channel CA2QP6DT5\n"
     ]
    },
    {
     "name": "stderr",
     "output_type": "stream",
     "text": [
      " 82%|█████████████████████████████████████████████████████████▊            | 66/80 [00:48<00:10,  1.33it/s]"
     ]
    },
    {
     "name": "stdout",
     "output_type": "stream",
     "text": [
      "Got 1 messages for channel C07SV7UK44U\n"
     ]
    },
    {
     "name": "stderr",
     "output_type": "stream",
     "text": [
      " 84%|██████████████████████████████████████████████████████████▋           | 67/80 [00:48<00:07,  1.69it/s]"
     ]
    },
    {
     "name": "stdout",
     "output_type": "stream",
     "text": [
      "Got 2 messages for channel D06DBFH2Q30\n"
     ]
    },
    {
     "name": "stderr",
     "output_type": "stream",
     "text": [
      " 85%|███████████████████████████████████████████████████████████▌          | 68/80 [00:50<00:11,  1.05it/s]"
     ]
    },
    {
     "name": "stdout",
     "output_type": "stream",
     "text": [
      "Got 14 messages for channel C081120HQ21\n"
     ]
    },
    {
     "name": "stderr",
     "output_type": "stream",
     "text": [
      " 86%|████████████████████████████████████████████████████████████▍         | 69/80 [00:50<00:08,  1.34it/s]"
     ]
    },
    {
     "name": "stdout",
     "output_type": "stream",
     "text": [
      "Got 22 messages for channel C096WL96GQ5\n"
     ]
    },
    {
     "name": "stderr",
     "output_type": "stream",
     "text": [
      " 88%|█████████████████████████████████████████████████████████████▎        | 70/80 [00:50<00:05,  1.67it/s]"
     ]
    },
    {
     "name": "stdout",
     "output_type": "stream",
     "text": [
      "Got 5 messages for channel C88MKEX2B\n"
     ]
    },
    {
     "name": "stderr",
     "output_type": "stream",
     "text": [
      " 89%|██████████████████████████████████████████████████████████████▏       | 71/80 [00:50<00:04,  2.02it/s]"
     ]
    },
    {
     "name": "stdout",
     "output_type": "stream",
     "text": [
      "Got 2 messages for channel C06BUUNBYUF\n"
     ]
    },
    {
     "name": "stderr",
     "output_type": "stream",
     "text": [
      " 90%|███████████████████████████████████████████████████████████████       | 72/80 [00:51<00:03,  2.42it/s]"
     ]
    },
    {
     "name": "stdout",
     "output_type": "stream",
     "text": [
      "Got 2 messages for channel D7GM0MD7B\n"
     ]
    },
    {
     "name": "stderr",
     "output_type": "stream",
     "text": [
      " 91%|███████████████████████████████████████████████████████████████▉      | 73/80 [00:51<00:02,  2.78it/s]"
     ]
    },
    {
     "name": "stdout",
     "output_type": "stream",
     "text": [
      "Got 12 messages for channel C0960U55SDC\n"
     ]
    },
    {
     "name": "stderr",
     "output_type": "stream",
     "text": [
      " 92%|████████████████████████████████████████████████████████████████▊     | 74/80 [00:51<00:01,  3.13it/s]"
     ]
    },
    {
     "name": "stdout",
     "output_type": "stream",
     "text": [
      "Got 1 messages for channel C07TBJ3SHPX\n"
     ]
    },
    {
     "name": "stderr",
     "output_type": "stream",
     "text": [
      " 94%|█████████████████████████████████████████████████████████████████▋    | 75/80 [00:52<00:01,  2.55it/s]"
     ]
    },
    {
     "name": "stdout",
     "output_type": "stream",
     "text": [
      "Got 37 messages for channel C096NSNEPM4\n"
     ]
    },
    {
     "name": "stderr",
     "output_type": "stream",
     "text": [
      " 95%|██████████████████████████████████████████████████████████████████▌   | 76/80 [00:52<00:01,  2.91it/s]"
     ]
    },
    {
     "name": "stdout",
     "output_type": "stream",
     "text": [
      "Got 4 messages for channel C097MAAQQCQ\n"
     ]
    },
    {
     "name": "stderr",
     "output_type": "stream",
     "text": [
      " 96%|███████████████████████████████████████████████████████████████████▍  | 77/80 [00:52<00:01,  2.45it/s]"
     ]
    },
    {
     "name": "stdout",
     "output_type": "stream",
     "text": [
      "Got 55 messages for channel D025DH1RYSX\n"
     ]
    },
    {
     "name": "stderr",
     "output_type": "stream",
     "text": [
      " 98%|████████████████████████████████████████████████████████████████████▎ | 78/80 [00:53<00:00,  2.85it/s]"
     ]
    },
    {
     "name": "stdout",
     "output_type": "stream",
     "text": [
      "Got 16 messages for channel D097QSS6AGZ\n"
     ]
    },
    {
     "name": "stderr",
     "output_type": "stream",
     "text": [
      " 99%|█████████████████████████████████████████████████████████████████████▏| 79/80 [00:53<00:00,  2.60it/s]"
     ]
    },
    {
     "name": "stdout",
     "output_type": "stream",
     "text": [
      "Got 10 messages for channel C096VMQKRBQ\n"
     ]
    },
    {
     "name": "stderr",
     "output_type": "stream",
     "text": [
      "100%|██████████████████████████████████████████████████████████████████████| 80/80 [00:53<00:00,  1.48it/s]"
     ]
    },
    {
     "name": "stdout",
     "output_type": "stream",
     "text": [
      "Got 10 messages for channel C087B635412\n",
      "Got 1964 messages, adding to db\n"
     ]
    },
    {
     "name": "stderr",
     "output_type": "stream",
     "text": [
      "\n"
     ]
    },
    {
     "name": "stdout",
     "output_type": "stream",
     "text": [
      "Processing batch from 2025-07-29 to 2025-07-29 for 80 channels\n",
      "Skipping batch 2025-07-29 to 2025-07-29 because it's too short\n"
     ]
    }
   ],
   "source": [
    "run_slack_mesage_dump_background_worker_single(conn,\n",
    "                                               client,\n",
    "                                               min_ts,\n",
    "                                               min_batch_length=2* 60 * 60)"
   ]
  },
  {
   "cell_type": "code",
   "execution_count": 10,
   "metadata": {},
   "outputs": [
    {
     "name": "stderr",
     "output_type": "stream",
     "text": [
      "ERROR:root:No traceback has been produced, nothing to debug.\n"
     ]
    }
   ],
   "source": [
    "%debug"
   ]
  },
  {
   "cell_type": "code",
   "execution_count": 11,
   "metadata": {},
   "outputs": [
    {
     "data": {
      "text/plain": [
       "[SlackMessage(channel_id='C087B635412', user='U7GH375CG', type='message', ts='1753259687.296899', text='Hey <@U04UFSV9RT8>, nice to meet you! Apologies for the delay, I was already offline when Andrew posted yesterday. Happy to hear you are interested to test the product we are building! I will be doing some casual test sessions over the coming weeks in which I will walk you through installation, usage and ask some questions. Only requirements are\\n\\n1) that you are on a mac machine (we dont support other operating systems in this early version)\\n2) you are on a machine that allows you to install python packages and other software\\n3) you have python and some environment manager like conda or uv installed before the meeting.\\n\\nLooking forward to meet and hear what you think! You can book a slot here\\n<https://calendly.com/koen-k78/new-meeting>\\n\\n\\n*Calendly*\\n*<https://calendly.com/koen-k78/new-meeting|OpenMined product testing session - Koen van der Veen>*\\nTesting session for a product we are building. Please make sure that you are on your personal laptop on which you can install software, more specifically python packages. If you have never played around with mcp, you could give it a shot before the meeting, but this is not a must.', reply_count=None, reply_users=None, reply_users_count=None, latest_reply=None, is_locked=None, subscribed=None, client_msg_id='7b28be11-0205-497e-b804-b08c01e85566', team='T6963A864', parent_user_id=None, thread_ts=None, blocks=[{'type': 'rich_text', 'block_id': 'G8fQ1', 'elements': [{'type': 'rich_text_section', 'elements': [{'type': 'text', 'text': 'Hey '}, {'type': 'user', 'user_id': 'U04UFSV9RT8'}, {'type': 'text', 'text': ', nice to meet you! Apologies for the delay, I was already offline when Andrew posted yesterday. Happy to hear you are interested to test the product we are building! I will be doing some casual test sessions over the coming weeks in which I will walk you through installation, usage and ask some questions. Only requirements are\\n\\n1) that you are on a mac machine (we dont support other operating systems in this early version)\\n2) you are on a machine that allows you to install python packages and other software\\n3) you have python and some environment manager like conda or uv installed before the meeting.\\n\\nLooking forward to meet and hear what you think! You can book a slot here\\n'}, {'type': 'link', 'url': 'https://calendly.com/koen-k78/new-meeting'}, {'type': 'text', 'text': '\\n\\n\\n'}, {'type': 'text', 'text': 'Calendly', 'style': {'bold': True}}, {'type': 'text', 'text': '\\n'}, {'type': 'link', 'url': 'https://calendly.com/koen-k78/new-meeting', 'text': 'OpenMined product testing session - Koen van der Veen', 'style': {'bold': True}}, {'type': 'text', 'text': '\\nTesting session for a product we are building. Please make sure that you are on your personal laptop on which you can install software, more specifically python packages. If you have never played around with mcp, you could give it a shot before the meeting, but this is not a must.'}]}]}], reactions=None, attachments=[{'from_url': 'https://calendly.com/koen-k78/new-meeting', 'service_icon': 'https://assets.calendly.com/assets/touch-icon-iphone-260067382323ed52661bd79f4fa22edee49175d0d5b1cfc96cdc28eabbea159a.png', 'thumb_url': 'https://assets.calendly.com/assets/booking/ogimage-453957c3679200e19fcc84e079b5e55cfb26ae5a3aa2504d75b5aedaaf37aa0c.png?source=opengraph', 'thumb_width': 1200, 'thumb_height': 630, 'id': 1, 'original_url': 'https://calendly.com/koen-k78/new-meeting', 'fallback': 'Calendly: OpenMined product testing session - Koen van der Veen', 'text': 'Testing session for a product we are building. Please make sure that you are on your personal laptop on which you can install software, more specifically python packages. If you have never played around with mcp, you could give it a shot before the meeting, but this is not a must.', 'title': 'OpenMined product testing session - Koen van der Veen', 'title_link': 'https://calendly.com/koen-k78/new-meeting', 'service_name': 'Calendly'}]),\n",
       " SlackMessage(channel_id='C087B635412', user='U6AN4BFML', type='message', ts='1753201079.417349', text=\"Hey Koen! Meet Nara. We've just met as they're interested in trying out the MCP prototype!\", reply_count=None, reply_users=None, reply_users_count=None, latest_reply=None, is_locked=None, subscribed=None, client_msg_id='eb7f5979-e3a7-4c17-a570-5a385c4d8adf', team='T6963A864', parent_user_id=None, thread_ts=None, blocks=[{'type': 'rich_text', 'block_id': 'GwiIr', 'elements': [{'type': 'rich_text_section', 'elements': [{'type': 'text', 'text': \"Hey Koen! Meet Nara. We've just met as they're interested in trying out the MCP prototype!\"}]}]}], reactions=None, attachments=None),\n",
       " SlackMessage(channel_id='C087B635412', user='U6AN4BFML', type='message', ts='1753718179.419289', text='Very curious to hear your thoughts Ben!', reply_count=None, reply_users=None, reply_users_count=None, latest_reply=None, is_locked=None, subscribed=None, client_msg_id='616ecc1e-7f48-43d4-a568-cfcf38392802', team='T6963A864', parent_user_id=None, thread_ts=None, blocks=[{'type': 'rich_text', 'block_id': 'oSHNr', 'elements': [{'type': 'rich_text_section', 'elements': [{'type': 'text', 'text': 'Very curious to hear your thoughts Ben!'}]}]}], reactions=None, attachments=None),\n",
       " SlackMessage(channel_id='C087B635412', user='U6AN4BFML', type='message', ts='1753718170.915289', text=\"Hey Koen — please meet Ben Santos, who is interested in the MCP Prototype! We've worked together for a number of years in/around the UN PET Lab.\", reply_count=None, reply_users=None, reply_users_count=None, latest_reply=None, is_locked=None, subscribed=None, client_msg_id='36c733b5-a6ed-494c-884c-e87d5ee7a0d6', team='T6963A864', parent_user_id=None, thread_ts=None, blocks=[{'type': 'rich_text', 'block_id': 'sDt8Y', 'elements': [{'type': 'rich_text_section', 'elements': [{'type': 'text', 'text': \"Hey Koen — please meet Ben Santos, who is interested in the MCP Prototype! We've worked together for a number of years in/around the UN PET Lab.\"}]}]}], reactions=None, attachments=None),\n",
       " SlackMessage(channel_id='C087B635412', user='U7GH375CG', type='message', ts='1753354039.939269', text='Apologies for th inconvenience', reply_count=None, reply_users=None, reply_users_count=None, latest_reply=None, is_locked=None, subscribed=None, client_msg_id='f9de1592-94c7-4eca-841c-bc407062e848', team='T6963A864', parent_user_id=None, thread_ts=None, blocks=[{'type': 'rich_text', 'block_id': 'op9Jm', 'elements': [{'type': 'rich_text_section', 'elements': [{'type': 'text', 'text': 'Apologies for th inconvenience'}]}]}], reactions=None, attachments=None),\n",
       " SlackMessage(channel_id='C087B635412', user='U7GH375CG', type='message', ts='1753354017.584219', text='Hey <@U04BT20EL7N>, I am very sorry but but I misconfigured calendly for the day you booked a slot (the week starts on sunday in their calendar), so I have to cancel that one. Could you book another one?', reply_count=None, reply_users=None, reply_users_count=None, latest_reply=None, is_locked=None, subscribed=None, client_msg_id='151b9cd1-ab83-489d-9172-61ee6c904a1e', team='T6963A864', parent_user_id=None, thread_ts=None, blocks=[{'type': 'rich_text', 'block_id': '5mprJ', 'elements': [{'type': 'rich_text_section', 'elements': [{'type': 'text', 'text': 'Hey '}, {'type': 'user', 'user_id': 'U04BT20EL7N'}, {'type': 'text', 'text': ', I am very sorry but but I misconfigured calendly for the day you booked a slot (the week starts on sunday in their calendar), so I have to cancel that one. Could you book another one?'}]}]}], reactions=None, attachments=None),\n",
       " SlackMessage(channel_id='C087B635412', user='U7GH375CG', type='message', ts='1752512654.557169', text='thx!', reply_count=None, reply_users=None, reply_users_count=None, latest_reply=None, is_locked=None, subscribed=None, client_msg_id='c81514cb-0175-4ac3-a5ce-639f5ca95b48', team='T6963A864', parent_user_id=None, thread_ts=None, blocks=[{'type': 'rich_text', 'block_id': 'QoMTt', 'elements': [{'type': 'rich_text_section', 'elements': [{'type': 'text', 'text': 'thx!'}]}]}], reactions=None, attachments=None),\n",
       " SlackMessage(channel_id='C087B635412', user='U06TJF7H5S8', type='message', ts='1752508086.050559', text='one of our AI alliance partners surfaced this, fyi- <https://lu.ma/ub0qfdqk>', reply_count=None, reply_users=None, reply_users_count=None, latest_reply=None, is_locked=None, subscribed=None, client_msg_id='db0e9545-7771-45a2-b153-b7edb80602ea', team='T6963A864', parent_user_id=None, thread_ts=None, blocks=[{'type': 'rich_text', 'block_id': 'pbo7M', 'elements': [{'type': 'rich_text_section', 'elements': [{'type': 'text', 'text': 'one of our AI alliance partners surfaced this, fyi- '}, {'type': 'link', 'url': 'https://lu.ma/ub0qfdqk'}]}]}], reactions=None, attachments=[{'image_url': 'https://social-images.lu.ma/cdn-cgi/image/format=auto,fit=cover,dpr=1,anim=false,background=white,quality=75,width=800,height=419/api/event-one?calendar_avatar=https%3A%2F%2Fcdn.lu.ma%2Favatars-default%2Fcommunity_avatar_0.png&calendar_name&color0=%23180431&color1=%237a06cc&color2=%23500780&color3=%23ede5f0&host_avatar=https%3A%2F%2Fimages.lumacdn.com%2Favatars%2Fym%2F040df930-ad47-4077-9540-d84b8002fb6d.png&host_name=Lightning%20AI&img=https%3A%2F%2Fimages.lumacdn.com%2Fevent-covers%2Fc1%2F6decc00b-a850-473b-9592-866325402c12.png&name=%E2%9A%A1Lightning%20AI%20MCP%20Meetup', 'image_width': 800, 'image_height': 419, 'image_bytes': 27467, 'from_url': 'https://lu.ma/ub0qfdqk', 'service_icon': 'https://lu.ma/apple-touch-icon.png', 'id': 1, 'original_url': 'https://lu.ma/ub0qfdqk', 'fallback': ':zap:Lightning AI MCP Meetup · Luma', 'text': 'Join us in London on Tuesday, 29 July for an exclusive MCP (Model Context Protocol) meetup, hosted by Lightning AI, the team behind PyTorch Lightning.\\nYou can…', 'title': ':zap:Lightning AI MCP Meetup · Luma', 'title_link': 'https://lu.ma/ub0qfdqk', 'service_name': 'lu.ma'}]),\n",
       " SlackMessage(channel_id='C087B635412', user='U06TJF7H5S8', type='message', ts='1751569067.301589', text=\"hey not sure how relevant this is to your bet but wanted to flag in case it's of interest - <https://slack.com/intl/en-gb/events/unlocking-the-real-world-power-of-ai-at-work?nc=701ed00000YCgceAAD&amp;d=701ed00000YCSueAAH>\", reply_count=None, reply_users=None, reply_users_count=None, latest_reply=None, is_locked=None, subscribed=None, client_msg_id='d4c5ff4a-18ff-47e6-9a5c-9258be954704', team='T6963A864', parent_user_id=None, thread_ts=None, blocks=[{'type': 'rich_text', 'block_id': 'v9Jkl', 'elements': [{'type': 'rich_text_section', 'elements': [{'type': 'text', 'text': \"hey not sure how relevant this is to your bet but wanted to flag in case it's of interest - \"}, {'type': 'link', 'url': 'https://slack.com/intl/en-gb/events/unlocking-the-real-world-power-of-ai-at-work?nc=701ed00000YCgceAAD&d=701ed00000YCSueAAH'}]}]}], reactions=[{'name': 'eyes', 'users': ['U7GH375CG'], 'count': 1}], attachments=[{'from_url': 'https://slack.com/intl/en-gb/events/unlocking-the-real-world-power-of-ai-at-work?nc=701ed00000YCgceAAD&d=701ed00000YCSueAAH', 'image_url': 'https://d34u8crftukxnk.cloudfront.net/slackpress/prod/sites/6/light-bulb.jpg', 'image_width': 2400, 'image_height': 1256, 'image_bytes': 946350, 'service_icon': 'https://a.slack-edge.com/80588/marketing/img/meta/favicon-32.png', 'id': 1, 'original_url': 'https://slack.com/intl/en-gb/events/unlocking-the-real-world-power-of-ai-at-work?nc=701ed00000YCgceAAD&amp;d=701ed00000YCSueAAH', 'fallback': 'Slack: Unlocking the Real-World Power of AI at Work', 'text': 'Research-backed strategies for empowering an AI-driven workforce', 'title': 'Unlocking the Real-World Power of AI at Work', 'title_link': 'https://slack.com/intl/en-gb/events/unlocking-the-real-world-power-of-ai-at-work?nc=701ed00000YCgceAAD&d=701ed00000YCSueAAH', 'service_name': 'Slack'}]),\n",
       " SlackMessage(channel_id='C087B635412', user='U06SRCS99U0', type='message', ts='1751720963.718669', text=':rocket: Excited to Announce: SEAL-PYTHON-4.1.2 is Now Open Source! :unlock:\\n\\nI’m thrilled to share that my Python bindings for Microsoft SEAL, one of the world’s leading homomorphic encryption libraries, are now available to everyone on GitHub!\\n\\nWith SEAL-PYTHON-4.1.2, you can:\\n\\nPerform privacy-preserving computations in Python using CKKS, BFV and BGV schemes\\nEasily serialize, batch encrypted data.\\n\\nLearn from beginner-friendly examples and detailed documentation\\n:link: Check it out:\\n<https://github.com/chandradutt5746/SEAL-PYTHON-4.1.2|https://github.com/chandradutt5746/SEAL-PYTHON-4.1.2>\\n\\nWhether you’re a researcher, student or developer interested in secure computation and privacy, I hope this project helps you get started with homomorphic encryption in Python.\\n\\nLooking for Collaboration with experienced Cryptography Experts. If you are or know someone please connect with me on my LinkedIn. \\n\\nThank you for your support. \\n\\n  <#CB4EP5D70|>   <#C010E0SS4PR|>', reply_count=None, reply_users=None, reply_users_count=None, latest_reply=None, is_locked=None, subscribed=None, client_msg_id='52b27a34-16aa-46a4-8b9d-5e34a494e4d2', team='T6963A864', parent_user_id=None, thread_ts=None, blocks=[{'type': 'rich_text', 'block_id': 'xTUGu', 'elements': [{'type': 'rich_text_section', 'elements': [{'type': 'emoji', 'name': 'rocket', 'unicode': '1f680'}, {'type': 'text', 'text': ' Excited to Announce: SEAL-PYTHON-4.1.2 is Now Open Source! '}, {'type': 'emoji', 'name': 'unlock', 'unicode': '1f513'}, {'type': 'text', 'text': '\\n\\nI’m thrilled to share that my Python bindings for Microsoft SEAL, one of the world’s leading homomorphic encryption libraries, are now available to everyone on GitHub!\\n\\nWith SEAL-PYTHON-4.1.2, you can:\\n\\nPerform privacy-preserving computations in Python using CKKS, BFV and BGV schemes\\nEasily serialize, batch encrypted data.\\n\\nLearn from beginner-friendly examples and detailed documentation\\n'}, {'type': 'emoji', 'name': 'link', 'unicode': '1f517'}, {'type': 'text', 'text': ' Check it out:\\n'}, {'type': 'link', 'url': 'https://github.com/chandradutt5746/SEAL-PYTHON-4.1.2', 'text': 'https://github.com/chandradutt5746/SEAL-PYTHON-4.1.2'}, {'type': 'text', 'text': '\\n\\nWhether you’re a researcher, student or developer interested in secure computation and privacy, I hope this project helps you get started with homomorphic encryption in Python.\\n\\nLooking for Collaboration with experienced Cryptography Experts. If you are or know someone please connect with me on my LinkedIn. \\n\\nThank you for your support. \\n\\n  '}, {'type': 'channel', 'channel_id': 'CB4EP5D70'}, {'type': 'text', 'text': '   '}, {'type': 'channel', 'channel_id': 'C010E0SS4PR'}]}]}], reactions=None, attachments=None)]"
      ]
     },
     "execution_count": 11,
     "metadata": {},
     "output_type": "execute_result"
    }
   ],
   "source": [
    "from slack_mcp.db import get_messages_without_embeddings\n",
    "\n",
    "get_messages_without_embeddings(conn, limit=10)"
   ]
  },
  {
   "cell_type": "code",
   "execution_count": 12,
   "metadata": {},
   "outputs": [],
   "source": [
    "# batch_start, batch_end = next(iter(\n",
    "#     [x for x in get_timestamp_batches(min_ts, now, batch_days=30)])\n",
    "# )\n",
    "\n",
    "# print(batch_start, batch_end)"
   ]
  },
  {
   "cell_type": "code",
   "execution_count": 13,
   "metadata": {},
   "outputs": [],
   "source": [
    "# date_str_start = datetime.fromtimestamp(batch_start).strftime(\"%Y-%m-%d\")\n",
    "# date_str_end = datetime.fromtimestamp(batch_end).strftime(\"%Y-%m-%d\")"
   ]
  },
  {
   "cell_type": "code",
   "execution_count": 14,
   "metadata": {},
   "outputs": [],
   "source": [
    "# date_str_start"
   ]
  },
  {
   "cell_type": "code",
   "execution_count": 15,
   "metadata": {},
   "outputs": [],
   "source": [
    "# date_str_end"
   ]
  },
  {
   "cell_type": "code",
   "execution_count": 16,
   "metadata": {},
   "outputs": [],
   "source": [
    "# from slack_mcp.utils import compute_channelid_to_name_cached\n",
    "\n",
    "# channel_to_name, user_id_to_real_name = compute_channelid_to_name_cached(client)\n"
   ]
  },
  {
   "cell_type": "code",
   "execution_count": 17,
   "metadata": {},
   "outputs": [],
   "source": [
    "# channel_to_name"
   ]
  },
  {
   "cell_type": "code",
   "execution_count": 18,
   "metadata": {},
   "outputs": [],
   "source": [
    "# channel_to_name[\"C096WNAQDJR\"]"
   ]
  },
  {
   "cell_type": "code",
   "execution_count": null,
   "metadata": {},
   "outputs": [],
   "source": [
    "\n",
    "\n"
   ]
  },
  {
   "cell_type": "markdown",
   "metadata": {},
   "source": [
    "# Get channels"
   ]
  },
  {
   "cell_type": "code",
   "execution_count": 19,
   "metadata": {},
   "outputs": [
    {
     "name": "stdout",
     "output_type": "stream",
     "text": [
      "Got rate limited by slack, sleeping for 60 seconds and continuing\n",
      "Got rate limited by slack, sleeping for 60 seconds and continuing\n",
      "Got rate limited by slack, sleeping for 60 seconds and continuing\n",
      "Got rate limited by slack, sleeping for 60 seconds and continuing\n",
      "['C097M4NMCCQ', 'C097NQ7LE83', 'C01180QTCF4', 'C06MU6KD8QY', 'D096UM6DX63', 'D07TF8RPD6G', 'C08KDTJCLE8', 'C6A100T5F', 'C018DQ3GQAD', 'D08RZD218DQ', 'D01HAMESL7J', 'C06N6UB0EM6', 'C08LCB76TPV', 'C096XCANQ77', 'C097CPV3PSM', 'C07AAMC0ACW', 'C06EL4A2D3M', 'C08KTH65203', 'C081ARM9QUC', 'C096J2N7QS3', 'C08PN4YKGAF', 'C096XP2ETLP', 'C06ERU36KLZ', 'D01LM1NMJ0J', 'D0579A9GK97', 'C08SHCP7RFC', 'CRP6YSBUL', 'D05A0MW9D7U', 'C093365V5UH', 'C05P0LWH6HM', 'D7GH378QG', 'C023AAQ8W9J', 'D06VA8AGJ3Z', 'C08RY3TEF7D', 'C08H2M52N3Y', 'C6DEWA4FR', 'D05PCSARR26', 'C08TZPP9HSL', 'D097G4RTX97', 'C01HY1GAG76', 'C6EEFN3A8', 'C08C6U7NVLL', 'C086TQNCL3H', 'C06R1FZL5PB', 'D056YJNBYMD', 'C096YR9LAM8', 'C08Q9HTK5C1', 'C096TES05K5', 'C081FNP4E0H', 'C01GSRPFGD8', 'C0964D60SGZ', 'C07R59TNK2N', 'C097C17227K', 'C09767TDU5T', 'D097B2KNMSB', 'C08R2EB3MSB', 'C08KVV74DP0', 'C06DAP1QD6G', 'C0970H8BG8P', 'D05GR1P78NP', 'C096TKK81U3', 'C0976GK1LP5', 'D01QHHRV5D4', 'C096WR1D4AH', 'D092N6XEF9R', 'C095GDAQT5W', 'D097G2TBL4V', 'C0912KD6525', 'C06TDCPBW3B', 'D022YGA1L9Y', 'C09547MC9NK', 'D0538ACEK1N', 'C051EHPBKDG', 'CB4EP5D70', 'D098E71CV96', 'C0787G91DSM', 'CG345BXG9', 'D07R39VP309', 'C08UYHLD7B9', 'D04RDMEKV60', 'C097BS9062D', 'C095U8548RW', 'D08BYJLDUJ0', 'C06CBV2HJJ2', 'D05V08X4JVD', 'C09700HUYRJ', 'C097MSDCB5E', 'C090F3YPTR9', 'C090TLCQP61', 'C096WNAQDJR', 'D094WRMSRGF', 'C096GSJF3E2', 'D0972HV9C5C', 'C078CQ01TC7', 'C69RB18LA', 'C096ZU1CU3E', 'C06GHU26525', 'C6AN4BLS2', 'C0970PXT3PE', 'D8LH56TFU', 'CBLD1KE15', 'CA2QP6DT5', 'C07SV7UK44U', 'D06DBFH2Q30', 'C081120HQ21', 'C096WL96GQ5', 'C88MKEX2B', 'C06BUUNBYUF', 'D04V3FBEYD6', 'C073CCARQ3G', 'C0874KD7A9K', 'D7GM0MD7B', 'C07QSUF393M', 'C0960U55SDC', 'C07TBJ3SHPX', 'C08L0R1DNVD', 'C01F9EZ6JAE', 'C096NSNEPM4', 'C070ZFCBD97', 'C08Q2B0GCBA', 'C07SC30M8SH', 'D08F9KTC9FX', 'C05248B314G', 'C097MAAQQCQ', 'C06TCC3PADB', 'C08LC7WDN1H', 'D025DH1RYSX', 'C06PX69H9CZ', 'C08QRCNH74L', 'D097QSS6AGZ', 'C096VMQKRBQ', 'C08Q8MB8VBL', 'C087B635412']\n"
     ]
    }
   ],
   "source": [
    "\n",
    "\n",
    "channel_ids = get_my_active_channels_from_search(\n",
    "    client,\n",
    "    last_n_days=365,\n",
    "    max_pages=100,\n",
    ")\n",
    "\n",
    "print(channel_ids)"
   ]
  },
  {
   "cell_type": "code",
   "execution_count": 20,
   "metadata": {},
   "outputs": [],
   "source": [
    "channel_id = channel_ids[0]"
   ]
  },
  {
   "cell_type": "code",
   "execution_count": 21,
   "metadata": {},
   "outputs": [
    {
     "data": {
      "text/plain": [
       "{'user': 'U6AUHSDA5',\n",
       " 'type': 'message',\n",
       " 'ts': '1752511075.818999',\n",
       " 'client_msg_id': 'c49aa7c0-5637-4690-bd06-68bf4cef6c8c',\n",
       " 'text': '<https://app.hubspot.com/contacts/6487402/record/0-1/136954499679/?conversionId=8cde54fa-4240-402e-bcea-d733d08948c7|Paul Marek> is the ceo/entrepreneur behind <https://muuver.com>. He found us via ChatGPT and converted on our homepage. He went on to view the partner page, get involved page, ABC page before converting again on the syftbox page.',\n",
       " 'team': 'T6963A864',\n",
       " 'blocks': [{'type': 'rich_text',\n",
       "   'block_id': '5sUpx',\n",
       "   'elements': [{'type': 'rich_text_section',\n",
       "     'elements': [{'type': 'link',\n",
       "       'url': 'https://app.hubspot.com/contacts/6487402/record/0-1/136954499679/?conversionId=8cde54fa-4240-402e-bcea-d733d08948c7',\n",
       "       'text': 'Paul Marek'},\n",
       "      {'type': 'text', 'text': ' is the ceo/entrepreneur behind '},\n",
       "      {'type': 'link', 'url': 'https://muuver.com'},\n",
       "      {'type': 'text',\n",
       "       'text': '. He found us via ChatGPT and converted on our homepage. He went on to view the partner page, get involved page, ABC page before converting again on the syftbox page.'}]}]}]}"
      ]
     },
     "execution_count": 21,
     "metadata": {},
     "output_type": "execute_result"
    }
   ],
   "source": [
    "channel_id = \"C093365V5UH\" # inbound\n",
    "ts = '1752510526.154739'\n",
    "get_single_message(client, channel_id, ts)"
   ]
  },
  {
   "cell_type": "code",
   "execution_count": 22,
   "metadata": {},
   "outputs": [],
   "source": [
    "# ts = '1752510418.959799'"
   ]
  },
  {
   "cell_type": "code",
   "execution_count": 23,
   "metadata": {},
   "outputs": [],
   "source": [
    "from datetime import datetime, timedelta\n",
    "import time\n",
    "\n",
    "one_month_ago = datetime.now() - timedelta(days=30)\n",
    "oldest_ts = time.mktime(one_month_ago.timetuple())\n"
   ]
  },
  {
   "cell_type": "markdown",
   "metadata": {},
   "source": [
    "# Get all messages batched"
   ]
  },
  {
   "cell_type": "code",
   "execution_count": 24,
   "metadata": {},
   "outputs": [],
   "source": [
    "# from tqdm import tqdm\n",
    "\n",
    "# all_messages_as_tree = []\n",
    "# for channel in tqdm(channel_ids):\n",
    "#     message_tree = get_channel_messages_with_thread_tree(client, channel, max_pages=100, oldest=oldest_ts)\n",
    "#     all_messages_as_tree.extend(message_tree)\n",
    "\n",
    "# # all_messages_as_tree"
   ]
  },
  {
   "cell_type": "code",
   "execution_count": null,
   "metadata": {},
   "outputs": [],
   "source": []
  },
  {
   "cell_type": "code",
   "execution_count": null,
   "metadata": {},
   "outputs": [],
   "source": []
  },
  {
   "cell_type": "code",
   "execution_count": 25,
   "metadata": {},
   "outputs": [],
   "source": [
    "# SLACK_MCP_DB_PATH.unlink()"
   ]
  },
  {
   "cell_type": "code",
   "execution_count": null,
   "metadata": {},
   "outputs": [],
   "source": []
  },
  {
   "cell_type": "code",
   "execution_count": null,
   "metadata": {},
   "outputs": [],
   "source": []
  },
  {
   "cell_type": "code",
   "execution_count": 26,
   "metadata": {},
   "outputs": [
    {
     "ename": "NameError",
     "evalue": "name 'create_tables' is not defined",
     "output_type": "error",
     "traceback": [
      "\u001b[31m---------------------------------------------------------------------------\u001b[39m",
      "\u001b[31mNameError\u001b[39m                                 Traceback (most recent call last)",
      "\u001b[36mCell\u001b[39m\u001b[36m \u001b[39m\u001b[32mIn[26]\u001b[39m\u001b[32m, line 1\u001b[39m\n\u001b[32m----> \u001b[39m\u001b[32m1\u001b[39m \u001b[43mcreate_tables\u001b[49m(conn)\n",
      "\u001b[31mNameError\u001b[39m: name 'create_tables' is not defined"
     ]
    }
   ],
   "source": [
    "create_tables(conn)"
   ]
  },
  {
   "cell_type": "code",
   "execution_count": null,
   "metadata": {},
   "outputs": [],
   "source": []
  },
  {
   "cell_type": "code",
   "execution_count": null,
   "metadata": {},
   "outputs": [],
   "source": [
    "\n",
    "\n",
    "\n",
    "for msg in get_messages_without_embeddings(conn):\n",
    "    print(msg)"
   ]
  },
  {
   "cell_type": "code",
   "execution_count": null,
   "metadata": {},
   "outputs": [],
   "source": [
    "from pydantic import BaseModel\n",
    "import json\n",
    "\n",
    "\n"
   ]
  },
  {
   "cell_type": "code",
   "execution_count": null,
   "metadata": {},
   "outputs": [],
   "source": []
  },
  {
   "cell_type": "code",
   "execution_count": null,
   "metadata": {},
   "outputs": [],
   "source": [
    "create_tables(conn)"
   ]
  },
  {
   "cell_type": "code",
   "execution_count": null,
   "metadata": {},
   "outputs": [],
   "source": []
  },
  {
   "cell_type": "code",
   "execution_count": null,
   "metadata": {},
   "outputs": [],
   "source": [
    "# for msg in all_messaages_flat:\n",
    "#     if \"user\" not in msg:\n",
    "#         continue\n",
    "#     msg = get_message(conn, msg[\"channel_id\"], msg[\"ts\"])\n",
    "#     # print(msg)"
   ]
  },
  {
   "cell_type": "code",
   "execution_count": null,
   "metadata": {},
   "outputs": [],
   "source": [
    "all_messaages_flat[12]"
   ]
  },
  {
   "cell_type": "code",
   "execution_count": null,
   "metadata": {},
   "outputs": [],
   "source": [
    "len(all_messages_as_tree)"
   ]
  },
  {
   "cell_type": "code",
   "execution_count": null,
   "metadata": {},
   "outputs": [],
   "source": []
  },
  {
   "cell_type": "code",
   "execution_count": null,
   "metadata": {},
   "outputs": [],
   "source": [
    "n_total = 0\n",
    "for message in all_messages_as_tree:\n",
    "    n_total += 1\n",
    "    if message[\"replies\"] is not None:\n",
    "        n_total += len(message[\"replies\"])\n",
    "n_total"
   ]
  },
  {
   "cell_type": "code",
   "execution_count": null,
   "metadata": {},
   "outputs": [],
   "source": [
    "len(all_messages_as_tree)"
   ]
  },
  {
   "cell_type": "code",
   "execution_count": null,
   "metadata": {},
   "outputs": [],
   "source": [
    "favourite_channel_ids = get_favourite_channel_ids(client)\n",
    "channel_to_name, userid2name = compute_channelid_to_name_cached(client)"
   ]
  },
  {
   "cell_type": "code",
   "execution_count": null,
   "metadata": {},
   "outputs": [],
   "source": [
    "channel = channels[1]"
   ]
  },
  {
   "cell_type": "code",
   "execution_count": null,
   "metadata": {},
   "outputs": [],
   "source": [
    "def get_channel_id_with_name(client, name):\n",
    "    channel_to_name, userid2name = compute_channelid_to_name_cached(client)\n",
    "    for channel_id, channel_name in channel_to_name.items():\n",
    "        if channel_name == name:\n",
    "            return channel_id\n",
    "    return None\n",
    "\n",
    "channel_id = get_channel_id_with_name(client, \"Andrew Trask\")\n",
    "channel_id"
   ]
  },
  {
   "cell_type": "code",
   "execution_count": null,
   "metadata": {},
   "outputs": [],
   "source": [
    "# channel_to_name[channel]"
   ]
  },
  {
   "cell_type": "code",
   "execution_count": null,
   "metadata": {},
   "outputs": [],
   "source": [
    "message_tree = get_channel_messages_with_thread_tree(client, channel, max_pages=100)"
   ]
  },
  {
   "cell_type": "code",
   "execution_count": null,
   "metadata": {},
   "outputs": [],
   "source": []
  },
  {
   "cell_type": "code",
   "execution_count": null,
   "metadata": {},
   "outputs": [],
   "source": [
    "[channel_to_name[channel_id] for channel_id in channels]"
   ]
  },
  {
   "cell_type": "code",
   "execution_count": null,
   "metadata": {},
   "outputs": [],
   "source": []
  },
  {
   "cell_type": "code",
   "execution_count": null,
   "metadata": {},
   "outputs": [],
   "source": []
  },
  {
   "cell_type": "code",
   "execution_count": null,
   "metadata": {},
   "outputs": [],
   "source": []
  },
  {
   "cell_type": "code",
   "execution_count": null,
   "metadata": {},
   "outputs": [],
   "source": []
  },
  {
   "cell_type": "code",
   "execution_count": null,
   "metadata": {},
   "outputs": [],
   "source": [
    "\n",
    "query = \"eelco\"\n",
    "favourite_channel_ids = get_favourite_channel_ids(client)\n",
    "channel_to_name, userid2name = compute_channelid_to_name_cached(client)\n",
    "favourite_names = [channel_to_name[x] for x in favourite_channel_ids]\n",
    "name2channelid = {v: k for k, v in channel_to_name.items()}\n",
    "all_names = list(name2channelid.keys())\n",
    "result: NamesMatchResponse = get_matches_for_name(\n",
    "    query, favourite_names, all_names, name2channelid\n",
    ")"
   ]
  },
  {
   "cell_type": "code",
   "execution_count": null,
   "metadata": {},
   "outputs": [],
   "source": [
    "first_match = result.matches_in_favourites[0]\n",
    "first_match"
   ]
  },
  {
   "cell_type": "code",
   "execution_count": null,
   "metadata": {},
   "outputs": [],
   "source": [
    "channel_id = first_match.channel_id"
   ]
  },
  {
   "cell_type": "code",
   "execution_count": null,
   "metadata": {},
   "outputs": [],
   "source": [
    "messages = client.conversations_history(channel=channel_id, limit=100)[\"messages\"]"
   ]
  },
  {
   "cell_type": "code",
   "execution_count": null,
   "metadata": {},
   "outputs": [],
   "source": [
    "favourite_channel_ids = get_favourite_channel_ids(client)\n",
    "favourite_names = [channel_to_name[x] for x in favourite_channel_ids]"
   ]
  },
  {
   "cell_type": "code",
   "execution_count": null,
   "metadata": {},
   "outputs": [],
   "source": [
    "# response = client.chat_postMessage(\n",
    "#     channel=\"D7GH378QG\",\n",
    "#     text=\"test message from python slack bot\"\n",
    "# )\n",
    "# print(response)"
   ]
  },
  {
   "cell_type": "markdown",
   "metadata": {},
   "source": [
    "# Get Latest messages"
   ]
  },
  {
   "cell_type": "code",
   "execution_count": null,
   "metadata": {},
   "outputs": [],
   "source": [
    "from slack_mcp.overview_utils import get_last_week_messages_with_threads_with_names\n",
    "\n",
    "messages = get_last_week_messages_with_threads_with_names(client,\n",
    "                                                          favourite_channel_ids,\n",
    "                                                          channel_to_name,\n",
    "                                                          userid2name)"
   ]
  },
  {
   "cell_type": "code",
   "execution_count": null,
   "metadata": {},
   "outputs": [],
   "source": [
    "i=0\n",
    "for k, v in messages.items():\n",
    "    i+=1\n",
    "    if i==3:\n",
    "        print(channel_to_name[k])\n",
    "        for msg in v:\n",
    "            print(userid2name[msg[\"user\"]], msg[\"text\"])"
   ]
  },
  {
   "cell_type": "code",
   "execution_count": null,
   "metadata": {},
   "outputs": [],
   "source": [
    "len(list(messages.values())[0])"
   ]
  },
  {
   "cell_type": "code",
   "execution_count": null,
   "metadata": {},
   "outputs": [],
   "source": [
    "import time\n",
    "time.time()"
   ]
  },
  {
   "cell_type": "code",
   "execution_count": null,
   "metadata": {},
   "outputs": [],
   "source": []
  },
  {
   "cell_type": "code",
   "execution_count": null,
   "metadata": {},
   "outputs": [],
   "source": []
  },
  {
   "cell_type": "code",
   "execution_count": null,
   "metadata": {},
   "outputs": [],
   "source": []
  },
  {
   "cell_type": "code",
   "execution_count": null,
   "metadata": {},
   "outputs": [],
   "source": [
    "n_total = 0\n",
    "for c, messages in c2m.items():\n",
    "    n_total += len(messages)\n",
    "print(len(c2m),n_total)"
   ]
  },
  {
   "cell_type": "code",
   "execution_count": null,
   "metadata": {},
   "outputs": [],
   "source": []
  },
  {
   "cell_type": "code",
   "execution_count": null,
   "metadata": {},
   "outputs": [],
   "source": [
    "favourite_channel_ids"
   ]
  },
  {
   "cell_type": "code",
   "execution_count": null,
   "metadata": {},
   "outputs": [],
   "source": [
    "float(client.conversations_history(channel=\"C095U8548RW\", limit=10)[\"messages\"][1][\"ts\"]) > last_week_timestamp"
   ]
  },
  {
   "cell_type": "code",
   "execution_count": null,
   "metadata": {},
   "outputs": [],
   "source": [
    "def list_messages(channel_id):\n",
    "    res = client.conversations_history(channel=channel_id, limit=5)\n",
    "    print(channel_id_to_name[channel_id])\n",
    "    for msg in res[\"messages\"]:\n",
    "        user_id = msg.get('user', 'unknown user')\n",
    "        user_name = user_id_to_real_name.get(user_id, \"Unknown User\")\n",
    "        print(f\"@{user_name}: {msg['text']}\")\n",
    "\n",
    "list_messages(starred_channels[15])"
   ]
  },
  {
   "cell_type": "code",
   "execution_count": null,
   "metadata": {},
   "outputs": [],
   "source": [
    "len(starred_channels)"
   ]
  },
  {
   "cell_type": "code",
   "execution_count": null,
   "metadata": {},
   "outputs": [],
   "source": [
    "from slack_mcp.utils import get_all_channels\n",
    "\n",
    "cs = get_all_channels(client)\n",
    "\n",
    "print(len([c for c in cs if c.get(\"is_member\", False)]))"
   ]
  },
  {
   "cell_type": "code",
   "execution_count": null,
   "metadata": {},
   "outputs": [],
   "source": []
  },
  {
   "cell_type": "code",
   "execution_count": null,
   "metadata": {},
   "outputs": [],
   "source": [
    "channel_ids = get_my_active_channels_from_search(client, last_n_days=7, max_pages=50)"
   ]
  },
  {
   "cell_type": "code",
   "execution_count": null,
   "metadata": {},
   "outputs": [],
   "source": [
    "for c in channel_ids:\n",
    "    print(channel_to_name[c])"
   ]
  },
  {
   "cell_type": "code",
   "execution_count": null,
   "metadata": {},
   "outputs": [],
   "source": [
    "client.conversations_info(channel=\"C69RB18LA\")"
   ]
  },
  {
   "cell_type": "code",
   "execution_count": null,
   "metadata": {},
   "outputs": [],
   "source": [
    "cs[0]"
   ]
  },
  {
   "cell_type": "code",
   "execution_count": null,
   "metadata": {},
   "outputs": [],
   "source": [
    "starred_channels = get_starred_channel_ids(client)"
   ]
  },
  {
   "cell_type": "code",
   "execution_count": null,
   "metadata": {},
   "outputs": [],
   "source": [
    "assert len(starred_channels) == len(set(starred_channels).intersection(channel_id_to_name.keys()))"
   ]
  },
  {
   "cell_type": "code",
   "execution_count": null,
   "metadata": {},
   "outputs": [],
   "source": []
  },
  {
   "cell_type": "code",
   "execution_count": null,
   "metadata": {},
   "outputs": [],
   "source": [
    "from collections import defaultdict"
   ]
  },
  {
   "cell_type": "code",
   "execution_count": null,
   "metadata": {},
   "outputs": [],
   "source": [
    "unread_messages = defaultdict(list)\n",
    "for channel in starred_channels:\n",
    "    \n",
    "    res = client.conversations_history(channel=channel, limit=100)\n",
    "    for msg in res[\"messages\"]:\n",
    "        if float(msg[\"ts\"]) > last_week_timestamp:\n",
    "            if msg.get(\"subtype\") == \"channel_join\":\n",
    "                continue\n",
    "            \n",
    "            user_id = msg.get(\"user\", None)\n",
    "            sender_name = user_id_to_real_name.get(user_id, \"Unknown User\")\n",
    "            channel_name = channel_id_to_name.get(channel, None)\n",
    "            if channel_name is None:\n",
    "                channel_name = \"unknown channel\"\n",
    "            \n",
    "            \n",
    "            unread_messages[channel_name].append({\"user\": sender_name, \"text\": msg[\"text\"]})\n",
    "\n",
    "    # print(unread_messages)\n",
    "    "
   ]
  },
  {
   "cell_type": "code",
   "execution_count": null,
   "metadata": {},
   "outputs": [],
   "source": [
    "for channel_name, msgs in unread_messages.items():\n",
    "    print(f\"in #{channel_name}\")\n",
    "    for msg in reversed(msgs):    \n",
    "        print(f\"@{msg['user']}: {msg['text']}\")\n",
    "    print(\"=\"*100)"
   ]
  },
  {
   "cell_type": "code",
   "execution_count": null,
   "metadata": {},
   "outputs": [],
   "source": []
  },
  {
   "cell_type": "code",
   "execution_count": null,
   "metadata": {},
   "outputs": [],
   "source": [
    "res[\"messages\"]"
   ]
  },
  {
   "cell_type": "code",
   "execution_count": null,
   "metadata": {},
   "outputs": [],
   "source": []
  },
  {
   "cell_type": "markdown",
   "metadata": {},
   "source": [
    "## Appendix"
   ]
  },
  {
   "cell_type": "code",
   "execution_count": null,
   "metadata": {},
   "outputs": [],
   "source": []
  },
  {
   "cell_type": "code",
   "execution_count": null,
   "metadata": {},
   "outputs": [],
   "source": []
  },
  {
   "cell_type": "code",
   "execution_count": null,
   "metadata": {},
   "outputs": [],
   "source": [
    "# channel_id_to_user_real_name"
   ]
  },
  {
   "cell_type": "code",
   "execution_count": null,
   "metadata": {},
   "outputs": [],
   "source": [
    "# Format the date 7 days ago in YYYY-MM-DD\n",
    "seven_days_ago_date = (datetime.now() - timedelta(days=7)).strftime(\"%Y-%m-%d\")\n",
    "\n",
    "# Search query: messages mentioning your user ID, after the date\n",
    "query = f\"@{my_user_ida}\"\n",
    "\n",
    "\n",
    "# Call search.messages API\n",
    "result = client.search_messages(query=query, sort=\"timestamp\", sort_dir=\"desc\", count=100)\n",
    "\n",
    "\n"
   ]
  },
  {
   "cell_type": "code",
   "execution_count": null,
   "metadata": {},
   "outputs": [],
   "source": [
    "for x in result[\"messages\"][\"matches\"]:\n",
    "    print(x)"
   ]
  },
  {
   "cell_type": "code",
   "execution_count": null,
   "metadata": {},
   "outputs": [],
   "source": [
    "messages = result[\"messages\"][\"matches\"]\n",
    "for msg in messages:\n",
    "    user = msg.get(\"user\")\n",
    "    text = msg.get(\"text\")\n",
    "    ts = msg.get(\"ts\")\n",
    "    channel = msg.get(\"channel\", {}).get(\"name\")\n",
    "    print(f\"[{ts}] in #{channel} by {user}: {text}\")"
   ]
  },
  {
   "cell_type": "code",
   "execution_count": null,
   "metadata": {},
   "outputs": [],
   "source": [
    "# from pprint import pprint\n",
    "\n",
    "# # response = client.conversations_list(types=\"im\")\n",
    "\n",
    "# channels = [channel for channel in response[\"channels\"] if channel[\"is_im\"]]\n",
    "\n",
    "# for channel in channels[:2]:\n",
    "#     conversation_history = client.conversations_history(\n",
    "#         channel=channel[\"id\"],\n",
    "#         limit=3,\n",
    "#     )\n",
    "#     print(\"USER\", id2user[channel[\"id\"]])\n",
    "#     pprint(conversation_history[\"messages\"])"
   ]
  },
  {
   "cell_type": "code",
   "execution_count": null,
   "metadata": {},
   "outputs": [],
   "source": [
    "def get_all_messages(client, since_timestamp):\n",
    "    response = client.conversations_history(\n",
    "        channel=\"C06650000000000000000000\",\n",
    "        oldest=since_timestamp,\n",
    "        limit=100,\n",
    "    )\n",
    "    return response[\"messages\"]\n",
    "\n",
    "\n",
    "import time\n",
    "last_week_timestamp = int(time.time()) - 60 * 60 * 24 * 7\n",
    "client = WebClient(token=token, headers=headers)\n",
    "get_all_messages(client, last_week_timestamp)"
   ]
  },
  {
   "cell_type": "code",
   "execution_count": null,
   "metadata": {},
   "outputs": [],
   "source": [
    "from pprint import pprint\n",
    "\n",
    "res = []\n",
    "for message in response[\"messages\"]:\n",
    "    res.append({\n",
    "        \"text\": message[\"text\"],\n",
    "        \"user\": \"Madhava (we're hiring)\",\n",
    "        \"ts\": message[\"ts\"],\n",
    "    })\n",
    "\n",
    "pprint(res)"
   ]
  },
  {
   "cell_type": "code",
   "execution_count": null,
   "metadata": {},
   "outputs": [],
   "source": [
    "response[\"channels\"][:3]"
   ]
  },
  {
   "cell_type": "code",
   "execution_count": null,
   "metadata": {},
   "outputs": [],
   "source": []
  }
 ],
 "metadata": {
  "kernelspec": {
   "display_name": "Python 3 (ipykernel)",
   "language": "python",
   "name": "python3"
  },
  "language_info": {
   "codemirror_mode": {
    "name": "ipython",
    "version": 3
   },
   "file_extension": ".py",
   "mimetype": "text/x-python",
   "name": "python",
   "nbconvert_exporter": "python",
   "pygments_lexer": "ipython3",
   "version": "3.12.11"
  }
 },
 "nbformat": 4,
 "nbformat_minor": 2
}

{
 "cells": [
  {
   "cell_type": "code",
   "execution_count": null,
   "id": "0",
   "metadata": {},
   "outputs": [],
   "source": [
    "from pathlib import Path\n",
    "import sqlite3"
   ]
  },
  {
   "cell_type": "code",
   "execution_count": null,
   "id": "1",
   "metadata": {},
   "outputs": [],
   "source": [
    "\n",
    "SQLITE_DB_PATH = Path(\"~/Library/Group Containers/group.net.whatsapp.WhatsApp.shared/ChatStorage.sqlite\").expanduser()\n",
    "db = sqlite3.connect(str(SQLITE_DB_PATH))\n"
   ]
  },
  {
   "cell_type": "code",
   "execution_count": null,
   "id": "2",
   "metadata": {},
   "outputs": [],
   "source": [
    "contact_id = '31638200922@s.whatsapp.net'"
   ]
  },
  {
   "cell_type": "code",
   "execution_count": null,
   "id": "3",
   "metadata": {},
   "outputs": [],
   "source": [
    "\n",
    "        \n",
    "get_message_by_contact_id(\"31623253111@s.whatsapp.net\")"
   ]
  },
  {
   "cell_type": "code",
   "execution_count": null,
   "id": "4",
   "metadata": {},
   "outputs": [],
   "source": []
  },
  {
   "cell_type": "code",
   "execution_count": null,
   "id": "5",
   "metadata": {},
   "outputs": [],
   "source": []
  },
  {
   "cell_type": "code",
   "execution_count": null,
   "id": "6",
   "metadata": {},
   "outputs": [],
   "source": []
  },
  {
   "cell_type": "code",
   "execution_count": null,
   "id": "7",
   "metadata": {},
   "outputs": [],
   "source": []
  },
  {
   "cell_type": "code",
   "execution_count": null,
   "id": "8",
   "metadata": {},
   "outputs": [],
   "source": []
  },
  {
   "cell_type": "code",
   "execution_count": null,
   "id": "9",
   "metadata": {},
   "outputs": [],
   "source": [
    "\n",
    "# from collections import defaultdict\n",
    "\n",
    "# channels = defaultdict(list)\n",
    "# for channel_name, message_text, message_date in results:\n",
    "#     channels[channel_name].append({\n",
    "#         \"message_text\": message_text,\n",
    "#         \"message_date\": message_date,\n",
    "#     })\n",
    "\n",
    "# for channel, messages in channels.items():\n",
    "#     if not messages:\n",
    "#         continue\n",
    "    \n",
    "#     print(f\"Channel: {channel}\")\n",
    "#     for msg in messages:\n",
    "#         print(f\"  [{msg['message_date']}] {msg['message_text']}\")\n",
    "#     print(\"-\" * 40)\n"
   ]
  },
  {
   "cell_type": "code",
   "execution_count": null,
   "id": "10",
   "metadata": {},
   "outputs": [],
   "source": []
  },
  {
   "cell_type": "code",
   "execution_count": null,
   "id": "11",
   "metadata": {},
   "outputs": [],
   "source": []
  },
  {
   "cell_type": "code",
   "execution_count": null,
   "id": "12",
   "metadata": {},
   "outputs": [],
   "source": [
    "# cursor = db.cursor()\n",
    "# cursor.execute(\"SELECT name FROM sqlite_master WHERE type='table';\")\n",
    "# tables = cursor.fetchall()\n",
    "# for table_name_tuple in tables:\n",
    "#     table_name = table_name_tuple[0]\n",
    "#     print(f\"Table: {table_name}\")\n",
    "#     cursor.execute(f\"PRAGMA table_info('{table_name}');\")\n",
    "#     columns = cursor.fetchall()\n",
    "#     print(\"Columns:\")\n",
    "#     for col in columns:\n",
    "#         print(f\"  {col[1]} ({col[2]})\")\n",
    "#     print(\"-\" * 40)\n"
   ]
  },
  {
   "cell_type": "code",
   "execution_count": null,
   "id": "13",
   "metadata": {},
   "outputs": [],
   "source": []
  }
 ],
 "metadata": {
  "kernelspec": {
   "display_name": "Python 3 (ipykernel)",
   "language": "python",
   "name": "python3"
  },
  "language_info": {
   "codemirror_mode": {
    "name": "ipython",
    "version": 3
   },
   "file_extension": ".py",
   "mimetype": "text/x-python",
   "name": "python",
   "nbconvert_exporter": "python",
   "pygments_lexer": "ipython3",
   "version": "3.12.11"
  }
 },
 "nbformat": 4,
 "nbformat_minor": 5
}

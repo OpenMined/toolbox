{
 "cells": [
  {
   "cell_type": "code",
   "execution_count": null,
   "metadata": {},
   "outputs": [],
   "source": [
    "import sqlite3\n",
    "import os\n",
    "from pathlib import Path\n",
    "from anthropic import Anthropic\n",
    "\n",
    "key = os.environ[\"ANTHROPIC_API_KEY\"] \n",
    "REPO_PATH = Path(\"/Users/koen/workspace/toolbox\")\n",
    "SCREENPIPE_PATH = REPO_PATH / \"data\" / \"screenpipe\" / \"db.sqlite\" \n"
   ]
  },
  {
   "cell_type": "code",
   "execution_count": null,
   "metadata": {},
   "outputs": [],
   "source": [
    "# Connect to the SQLite database\n",
    "conn = sqlite3.connect(SCREENPIPE_PATH)\n",
    "conn.row_factory = sqlite3.Row"
   ]
  },
  {
   "cell_type": "code",
   "execution_count": null,
   "metadata": {},
   "outputs": [],
   "source": [
    "def get_all_meeting_notes(connection):\n",
    "    cursor = connection.cursor()\n",
    "    # Query the audio_transcriptions table\n",
    "    cursor.execute(\"SELECT * FROM audio_transcriptions\")\n",
    "    rows = [dict(x) for x in cursor.fetchall()]\n",
    "    fragments = []\n",
    "\n",
    "    for row in rows:\n",
    "        speaker_id = row[\"speaker_id\"]\n",
    "        transcription = row[\"transcription\"]\n",
    "        \n",
    "        fragment = f\"Speaker {speaker_id}:   {transcription}\"\n",
    "        fragments.append(fragment)\n",
    "\n",
    "    full_transcription = \"\\n\".join(fragments)\n",
    "    return [full_transcription]"
   ]
  },
  {
   "cell_type": "code",
   "execution_count": null,
   "metadata": {},
   "outputs": [],
   "source": [
    "transcriptions = get_all_meeting_notes(conn)"
   ]
  },
  {
   "cell_type": "code",
   "execution_count": null,
   "metadata": {},
   "outputs": [],
   "source": [
    "client = Anthropic(api_key=key)"
   ]
  },
  {
   "cell_type": "code",
   "execution_count": null,
   "metadata": {},
   "outputs": [],
   "source": [
    "def get_todos(transcription):\n",
    "    prompt = f\"\"\"Please analyze this transcription and convert it into a list of actionable todo items. Only respond with the todo items, no other text.\n",
    "Format each todo item as a bullet point starting with '- '.\n",
    "\n",
    "Transcription:\n",
    "{transcription}\n",
    "\n",
    "Todo items:\"\"\"\n",
    "    response = client.messages.create(\n",
    "        model=\"claude-sonnet-4-20250514\",\n",
    "        max_tokens=1000,\n",
    "        messages=[{\n",
    "            \"role\": \"user\",\n",
    "            \"content\": prompt\n",
    "        }]\n",
    "    )\n",
    "    return response.content[0].text"
   ]
  },
  {
   "cell_type": "code",
   "execution_count": null,
   "metadata": {},
   "outputs": [],
   "source": [
    "todos = get_todos(transcriptions[0])"
   ]
  },
  {
   "cell_type": "code",
   "execution_count": null,
   "metadata": {},
   "outputs": [],
   "source": [
    "print(todos)"
   ]
  },
  {
   "cell_type": "markdown",
   "metadata": {},
   "source": [
    "NEXT: MANUALLY POST THIS IN CLAUDE AND CHECK IF IT CAN MAKE MULTIPLE TODOs"
   ]
  },
  {
   "cell_type": "code",
   "execution_count": null,
   "metadata": {},
   "outputs": [],
   "source": []
  }
 ],
 "metadata": {
  "kernelspec": {
   "display_name": "Python 3 (ipykernel)",
   "language": "python",
   "name": "python3"
  },
  "language_info": {
   "codemirror_mode": {
    "name": "ipython",
    "version": 3
   },
   "file_extension": ".py",
   "mimetype": "text/x-python",
   "name": "python",
   "nbconvert_exporter": "python",
   "pygments_lexer": "ipython3",
   "version": "3.12.10"
  }
 },
 "nbformat": 4,
 "nbformat_minor": 2
}

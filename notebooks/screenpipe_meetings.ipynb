{
 "cells": [
  {
   "cell_type": "code",
   "execution_count": null,
   "metadata": {},
   "outputs": [],
   "source": [
    "import sqlite3\n",
    "from pathlib import Path\n",
    " \n",
    "REPO_PATH = Path(\"/Users/koen/workspace/toolbox\")\n",
    "SCREENPIPE_PATH = REPO_PATH / \"data\" / \"screenpipe\" / \"db2.sqlite\" \n"
   ]
  },
  {
   "cell_type": "code",
   "execution_count": null,
   "metadata": {},
   "outputs": [],
   "source": [
    "HOME = Path.home()"
   ]
  },
  {
   "cell_type": "code",
   "execution_count": null,
   "metadata": {},
   "outputs": [],
   "source": [
    "MEETINGS_DB_PATH = HOME / \".meeting-notes-mcp\" / \"db.sqlite\"\n",
    "MEETINGS_DB_PATH.parent.mkdir(parents=True, exist_ok=True)"
   ]
  },
  {
   "cell_type": "code",
   "execution_count": null,
   "metadata": {},
   "outputs": [],
   "source": [
    "# MEETINGS_DB_PATH.unlink()"
   ]
  },
  {
   "cell_type": "code",
   "execution_count": null,
   "metadata": {},
   "outputs": [],
   "source": [
    "# Connect to the SQLite database\n",
    "conn = sqlite3.connect(MEETINGS_DB_PATH)\n",
    "conn.row_factory = sqlite3.Row"
   ]
  },
  {
   "cell_type": "code",
   "execution_count": null,
   "metadata": {},
   "outputs": [],
   "source": []
  },
  {
   "cell_type": "code",
   "execution_count": null,
   "metadata": {},
   "outputs": [],
   "source": [
    "create_tables(conn)"
   ]
  },
  {
   "cell_type": "code",
   "execution_count": null,
   "metadata": {},
   "outputs": [],
   "source": []
  },
  {
   "cell_type": "code",
   "execution_count": null,
   "metadata": {},
   "outputs": [],
   "source": []
  },
  {
   "cell_type": "markdown",
   "metadata": {},
   "source": [
    "# Create and query some meetings"
   ]
  },
  {
   "cell_type": "code",
   "execution_count": null,
   "metadata": {},
   "outputs": [],
   "source": [
    "# Connect to the SQLite database\n",
    "screenpipe_conn = sqlite3.connect(SCREENPIPE_PATH)\n",
    "screenpipe_conn.row_factory = sqlite3.Row"
   ]
  },
  {
   "cell_type": "code",
   "execution_count": null,
   "metadata": {},
   "outputs": [],
   "source": [
    "for row in screenpipe_conn.execute(\"\"\"select * from audio_transcriptions\"\"\").fetchall():\n",
    "    insert_transcription(conn, **row)"
   ]
  },
  {
   "cell_type": "code",
   "execution_count": null,
   "metadata": {},
   "outputs": [],
   "source": []
  },
  {
   "cell_type": "code",
   "execution_count": null,
   "metadata": {},
   "outputs": [],
   "source": []
  },
  {
   "cell_type": "code",
   "execution_count": null,
   "metadata": {},
   "outputs": [],
   "source": [
    "meetings = extract_meetings(conn)"
   ]
  },
  {
   "cell_type": "code",
   "execution_count": null,
   "metadata": {},
   "outputs": [],
   "source": [
    "for meeting in meetings:\n",
    "    print(meeting.filename)\n",
    "    print(meeting.show_text())\n",
    "    print()"
   ]
  },
  {
   "cell_type": "code",
   "execution_count": null,
   "metadata": {},
   "outputs": [],
   "source": [
    "for meeting in meetings:\n",
    "    insert_meeting(conn, meeting.filename, meeting.chunks_ids)"
   ]
  },
  {
   "cell_type": "code",
   "execution_count": null,
   "metadata": {},
   "outputs": [],
   "source": [
    "for row in get_all_meeting_notes(conn):\n",
    "    print(dict(row))"
   ]
  },
  {
   "cell_type": "markdown",
   "metadata": {},
   "source": [
    "table meeting_meta\n",
    "\n",
    "meeting_id | filename\n",
    "\n",
    "table meeting_chunks\n",
    "\n",
    "meeting_i | chunkid\n",
    "\n",
    "```\n",
    "\n",
    "\n",
    "```\n"
   ]
  },
  {
   "cell_type": "markdown",
   "metadata": {},
   "source": [
    "Meetings CTE\n",
    "| Meeting id | filename | full text | start date | end date\n",
    "\n",
    "\n",
    "```\n",
    "WITH meetings AS (\n",
    "  SELECT\n",
    "    mc.meeting_id,\n",
    "    mm.filename,\n",
    "    MIN(mc.date) AS start_date,\n",
    "    MAX(mc.date) AS end_date,\n",
    "    GROUP_CONCAT(mc.text, ' ') AS full_text\n",
    "  FROM (\n",
    "    SELECT * FROM meeting_chunks ORDER BY date, chunkid\n",
    "  ) mc\n",
    "  JOIN meeting_meta mm ON mc.meeting_id = mm.meeting_id\n",
    "  GROUP BY mc.meeting_id\n",
    ")\n",
    "SELECT *\n",
    "FROM meetings;\n",
    "```"
   ]
  },
  {
   "cell_type": "code",
   "execution_count": null,
   "metadata": {},
   "outputs": [],
   "source": [
    "for chunks in meetings:\n",
    "    date = chunks[0][\"timestamp\"]\n",
    "    print(f\"meeting {date}\")\n",
    "    for chunk in chunks:\n",
    "        print(chunk[\"audio_chunk_id\"])\n",
    "    \n",
    "    print()\n",
    "    "
   ]
  },
  {
   "cell_type": "code",
   "execution_count": null,
   "metadata": {},
   "outputs": [],
   "source": [
    "\n",
    "\n",
    "\n",
    "\n"
   ]
  },
  {
   "cell_type": "code",
   "execution_count": null,
   "metadata": {},
   "outputs": [],
   "source": []
  }
 ],
 "metadata": {
  "kernelspec": {
   "display_name": "Python 3 (ipykernel)",
   "language": "python",
   "name": "python3"
  },
  "language_info": {
   "codemirror_mode": {
    "name": "ipython",
    "version": 3
   },
   "file_extension": ".py",
   "mimetype": "text/x-python",
   "name": "python",
   "nbconvert_exporter": "python",
   "pygments_lexer": "ipython3",
   "version": "3.12.10"
  }
 },
 "nbformat": 4,
 "nbformat_minor": 2
}
